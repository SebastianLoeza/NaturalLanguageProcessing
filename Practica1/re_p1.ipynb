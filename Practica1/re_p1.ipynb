{
 "cells": [
  {
   "cell_type": "code",
   "execution_count": 1,
   "metadata": {},
   "outputs": [],
   "source": [
    "import re\n",
    "import numpy as np\n",
    "import pandas as pd\n",
    "import requests\n",
    "from collections import Counter"
   ]
  },
  {
   "cell_type": "code",
   "execution_count": 2,
   "metadata": {},
   "outputs": [
    {
     "data": {
      "text/html": [
       "<div>\n",
       "<style scoped>\n",
       "    .dataframe tbody tr th:only-of-type {\n",
       "        vertical-align: middle;\n",
       "    }\n",
       "\n",
       "    .dataframe tbody tr th {\n",
       "        vertical-align: top;\n",
       "    }\n",
       "\n",
       "    .dataframe thead th {\n",
       "        text-align: right;\n",
       "    }\n",
       "</style>\n",
       "<table border=\"1\" class=\"dataframe\">\n",
       "  <thead>\n",
       "    <tr style=\"text-align: right;\">\n",
       "      <th></th>\n",
       "      <th>text</th>\n",
       "    </tr>\n",
       "  </thead>\n",
       "  <tbody>\n",
       "    <tr>\n",
       "      <th>0</th>\n",
       "      <td>termine bien abrumado después de hoy</td>\n",
       "    </tr>\n",
       "    <tr>\n",
       "      <th>1</th>\n",
       "      <td>me siento abrumado</td>\n",
       "    </tr>\n",
       "    <tr>\n",
       "      <th>2</th>\n",
       "      <td>Me siento un poco abrumado por la cantidad de ...</td>\n",
       "    </tr>\n",
       "    <tr>\n",
       "      <th>3</th>\n",
       "      <td>Salvador la única persona que no la ha abrumad...</td>\n",
       "    </tr>\n",
       "    <tr>\n",
       "      <th>4</th>\n",
       "      <td>Denme un helado o algo que ando full abrumado.</td>\n",
       "    </tr>\n",
       "  </tbody>\n",
       "</table>\n",
       "</div>"
      ],
      "text/plain": [
       "                                                text\n",
       "0               termine bien abrumado después de hoy\n",
       "1                                 me siento abrumado\n",
       "2  Me siento un poco abrumado por la cantidad de ...\n",
       "3  Salvador la única persona que no la ha abrumad...\n",
       "4     Denme un helado o algo que ando full abrumado."
      ]
     },
     "execution_count": 2,
     "metadata": {},
     "output_type": "execute_result"
    }
   ],
   "source": [
    "corpus= pd.read_csv('tweets.csv')\n",
    "corpus.head() "
   ]
  },
  {
   "cell_type": "code",
   "execution_count": 25,
   "metadata": {},
   "outputs": [
    {
     "name": "stdout",
     "output_type": "stream",
     "text": [
      "{'UnidosTodosX': 26, 'DeZurdaTeam': 26, 'GranHermano': 21, 'granhermano': 9, 'gelp': 7, 'OTDirecto5E': 4, 'gh23': 4, 'NadieComoTú': 3, 'MicroCuento': 3, 'Bailando2023': 3, 'VespucioSur': 3, 'VíasChile': 3, 'OTDirecto4E': 3, 'rosina': 2, 'Brisbane': 2, 'Los8EscalonesDelMillon': 2, 'Ruta5': 2, 'LastTwilightSeriesEP9': 2, 'BambaşkaBiri': 2, 'Twitter': 2, 'CoMPaS': 2, 'Viernes': 2, 'Tamaulipas': 2, 'nocode': 2, 'SmackDown': 2, 'NoLoLlamesAccidente': 2, 'LegisladoresFrenenAlDictadorYA': 2, 'MCCelebrityEc': 2, 'FueraElDictador': 2, 'UnderMyWriting': 2, 'UMW': 2, 'BrisbaneTennis': 1, 'CabalgataRTVE': 1, 'LPAxFCB': 1, 'chorrossv': 1, 'oración': 1, 'Camino': 1, 'OpusDei': 1, 'AquamanAndTheLostKingdom': 1, 'GranHermanoArgentina': 1, 'PodemosHablarCHV': 1, 'OTDirecto5D': 1, 'ElBaronRampante': 1, 'Granada': 1, 'LaPromesa': 1, 'AEW': 1, 'AEWRampage': 1, 'MiguelHernández': 1, 'BuenViernes': 1, 'hate': 1, 'DeViernes5E': 1, 'nv': 1, 'maestros': 1, 'escuela': 1, 'indignada': 1, 'BuenosChicos': 1, 'ConsejoDelDía': 1, 'TipsParaLaVida': 1, 'QUACKITYPLEASE': 1, 'Bitcoin': 1, 'BitcoinETFs': 1, 'LasPalmasBarça': 1, 'VamosLasPalmas': 1, 'sueño': 1, 'ufo': 1, 'ovni': 1, 'abduction': 1, 'HerniARiver': 1, 'Floricienta': 1, 'VenezuelaIndetenible': 1, 'ictus': 1, 'Mante': 1, 'Madero': 1, 'TodosSomosUno': 1, 'nocodeeselfuturo': 1, 'elfuturoeshoy': 1, 'AsistenteVirtual': 1, 'Productividad': 1, 'Tecnología': 1, 'AteneaLabs': 1, 'mpt': 1, 'Waterpolo': 1, 'JuntosyRevueltos': 1, 'TeamDaisy': 1, 'TemblorCR': 1, 'QEPD': 1, 'atrapalaemoción': 1, 'ServicioPúblico': 1, 'Honor': 1, 'socialiteen': 1, 'Argentina': 1, 'Diciembre': 1, 'unprofessore2': 1, 'manifestacion': 1, 'leydelaatraccion': 1, 'VidaaMuyarachi': 1, 'EchenmeElAvispero': 1, 'btc': 1, 'UFC300': 1, 'UFC301': 1, 'somoslideres': 1, 'exito': 1, 'motivacion': 1, 'gym': 1, 'fitness': 1, 'selfdevelopment': 1, 'business': 1, 'crecimiento': 1, 'crecimiento2024': 1, 'HONDURAS': 1, 'Mujeres': 1, 'Ruta5Sur': 1, 'Fidel': 1, 'DesafíoAmbicioso': 1, 'IntelIA': 1, 'Articul8AI': 1, 'SiesaSoftwareERP': 1, 'FidelPorSiempre': 1, 'LatirXUn26Avileño': 1, 'Zalaquett': 1, 'TiemposViolentos': 1, 'CarlosBremer': 1, 'TaxationIsTheft': 1, 'SharkTank': 1, 'EstaEsLaRevolucion': 1, 'VivaCuba': 1, 'Leones': 1, 'Brooklyn': 1, 'Oklahoma': 1, 'CaraqueñoCaraquista': 1, 'dia05': 1, 'HistoriaAfroperuana': 1, 'Pzo': 1, 'datasportsxtntsports': 1, 'AustinReaves': 1, 'LakeShow': 1, 'NBAxESPN': 1, 'KennyG': 1, 'lvbp': 1, 'CjQKIAL1PfYMtji': 1, 'OTDIRECTO4E': 1, 'Blackface': 1, 'next': 1, 'CMLL': 1, 'WhatIf': 1, 'FreePalestine': 1, 'AAAJ': 1, 'LaSociedadDeLaNieve': 1, 'gh2024': 1, 'autocuidado': 1, 'estabilidademocional': 1, '𝐓𝐈𝐌𝐄𝐋𝐄𝐒𝐒': 1, 'DeÚltimo': 1, 'Contraparte': 1, 'SanctiSpíritusEnMarcha': 1, 'EstaEsLaRevolución': 1, 'BuenasNoticias': 1, 'CentroFederalLaboral': 1, 'Medellin': 1, 'MedellinVuelveaBrillar': 1, 'NLConClaudia': 1, 'LoveSongforIllusionEp1': 1, 'escribosinfiltro': 1, 'Venados': 1, 'Charros': 1, 'YoSoyVenados': 1, 'Estrellas': 1, 'Tigres': 1, 'RoundRobinLIDOM': 1, 'BRV': 1, 'TIB': 1, 'SomosBravos': 1, 'LVBP': 1, 'SomosMargarita': 1, 'doxing': 1, 'LaOdisea': 1, 'NoLaVen': 1, 'LaCastaErasVos': 1}\n"
     ]
    }
   ],
   "source": [
    "#Encontrar los hastags\n",
    "hashtags = []\n",
    "for i in range(0, len(corpus)):\n",
    "    aux = re.findall(r\"#(\\w+)\", corpus['text'][i],re.IGNORECASE)\n",
    "    if aux:\n",
    "        hashtags.extend(aux)\n",
    "#print(hashtags)\n",
    "\n",
    "frec_hashtags = Counter(hashtags)\n",
    "hashtags_sorted = dict(sorted(frec_hashtags.items(), key=lambda item: item[1], reverse=True))\n",
    "\n",
    "print(hashtags_sorted)\n"
   ]
  },
  {
   "cell_type": "code",
   "execution_count": 4,
   "metadata": {},
   "outputs": [
    {
     "name": "stdout",
     "output_type": "stream",
     "text": [
      "{'petrogustavo': 7, 'DeZurdaTeam_': 6, 'JMilei': 4, 'biobio': 3, 'radiocarab': 3, 'TTISantiago': 3, 'mop_chile': 3, 'mop_rm': 3, 'MabelLaraNews': 2, '_somosmadrid': 2, 'JLMendoza_': 2, 'jmena26': 2, 'TiendaSoriana': 2, 'OrgSoriana': 2, 'FrankLPortal': 2, 'marianacuba71': 2, 'ManoloRGomez': 2, 'gabyisla89': 2, 'PedritoRojo83': 2, 'KatiBaez22': 2, 'Avelazquezdiaz': 2, 'AlmaguerLemus': 2, 'CeciCS14': 2, 'BETZABEGlezP': 2, 'Ansopas117': 2, 'danteauthor': 2, 'ttggk_jkv': 2, 'glorianaveillan': 2, 'carlosbremerg': 2, 'ChevroletMexico': 2, 'GM': 2, 'roldangabb': 2, 'SantaFe': 2, 'pfvierci': 2, 'FilmBayona': 2, 'OscarAn10669190': 2, 'FranciaMarquezM': 1, 'DilianFrancisca': 1, 'LaFMCali': 1, 'elpaiscali': 1, 'ELTIEMPO': 1, 'sergio_fajardo': 1, 'MinAmbienteCo': 1, 'ParquesColombia': 1, 'CaracolRadio': 1, 'GobValle': 1, 'EnterateCali': 1, 'Noti90Minutos': 1, 'ClaraLuzRoldan': 1, 'BLUPacifico': 1, 'HotelMaguipi': 1, 'MPguatemala': 1, 'PDHgt': 1, 'DrGiammattei': 1, 'LuisBNava': 1, 'LATAM_CHI': 1, 'lambofyah': 1, 'RiverPlate': 1, 'EuricSanti': 1, 'GranHermanoAr': 1, 'GranHermanoAc': 1, 'Woshingo': 1, 'Correos': 1, 'CorreosAtiende': 1, 'BlazersArgento': 1, 'record_mexico': 1, 'guajirabikechallenge': 1, 'AlejandroChar': 1, 'NestorMoralesC': 1, 'VickyDavilaH': 1, 'darcyquinnr': 1, 'gusgomez1701': 1, 'WhatsApp': 1, 'telegram': 1, 'lopezobrador_': 1, '2011rafaelhomez': 1, 'LibertyPR': 1, 'JorgeBrito': 1, 'frmvlt': 1, 'DiputadosAR': 1, 'fgcabezadevaca': 1, 'Dr_AVillarreal': 1, 'leones_cbbc': 1, 'PitiHurtado': 1, 'LaloAlzueta': 1, 'outofthebooks_': 1, 'YipiYaHey': 1, 'rankerstudio': 1, 'ivanwese': 1, 'MONARCHENTITY': 1, 'HelenaUranBideg': 1, 'CecyCarrizo4': 1, 'AlcaldiaCTG': 1, 'MincomercioCo': 1, 'Enrique_GomezM': 1, 'TurismoColom': 1, 'Ciudad_Ojeda': 1, 'SoyParkerG': 1, 'HeritaPlay': 1, 'radioamericahn': 1, 'Diputados_Todos': 1, 'SenadoresFPVPJ': 1, 'Senadores_Todos': 1, 'SenadoUxP_BA': 1, '_nandoparrado': 1, 'GustavoZerbino': 1, 'carlitospaez': 1, 'PartidoPCC': 1, 'yurisley_valdes': 1, 'AdisFiol': 1, 'AsambleaMoa': 1, 'Uber_Support': 1, 'Uber': 1, 'Uber_Peru': 1, 'IndecopiOficial': 1, 'foodkartvzla': 1, 'DenisaSikorov4': 1, 'LauraBruges': 1, 'laslolouss': 1, 'YusebYong': 1, 'FranciscoBurgoa': 1, 'kenneth_garay': 1, 'obricio7': 1, 'sixers': 1, 'elxocas': 1, 'inaflashdrive': 1, 'XiomaraCastroZ': 1, 'MarlonOchoaHN': 1, 'warren_ochoa': 1, 'OctaJPP': 1, 'LeniaBatres': 1, 'MRARANIBAR': 1, 'CdeBachilleres': 1, 'sintcb': 1, 'ConcejoMedellin': 1, 'PRDesPanama': 1, 'asambleadeant': 1, 'Corantioquia': 1, 'cornare': 1, 'CORPOURABA': 1, 'Areametropol': 1, 'EOBASEBALLCLUB': 1}\n"
     ]
    }
   ],
   "source": [
    "#Encontrar los usuarios\n",
    "usuarios =[]\n",
    "for i in range(0,len(corpus)):\n",
    "    aux = re.findall(r\"@(\\w+)\", corpus['text'][i])\n",
    "    if aux:\n",
    "        usuarios.extend(aux)\n",
    "#print(usuarios)\n",
    "\n",
    "frec_usuarios = Counter(usuarios)\n",
    "usuarios_sorted = dict(sorted(frec_usuarios.items(), key=lambda item: item[1], reverse=True))\n",
    "\n",
    "print(usuarios_sorted)\n",
    "\n"
   ]
  },
  {
   "cell_type": "code",
   "execution_count": 5,
   "metadata": {},
   "outputs": [
    {
     "name": "stdout",
     "output_type": "stream",
     "text": [
      "{'https://www.eldiario.es/1_a4fa72?utm_campaign=botonera-share&utm_medium=social&utm_source=twitter': 2, 'https://elfaro.net/es/202312/columnas/27191/el-voto-de-la-frustracion-gano-el-tour-electoral-de-2023': 1, 'https://www.youtube.com/watch?v=1QvBbg38UY8&ab_channel=ElMostrador': 1, 'https://nitter.perennialte.ch/MaxKaiser75/status/1743261455326007754/video/1': 1, 'https://signal.group/#CjQKIAL1PfYMtji-3OMw24eFifKyZSI9bNbHpdvfWONAMrnvEhAgxrDIgXSX8-35VZTa6H_n': 1, 'https://t.me/tierrasant': 1, 'https://twitter.com/MaxKaiser75/status/1743261455326007754/video/1': 1}\n"
     ]
    }
   ],
   "source": [
    "#Encontrar las urls\n",
    "urls =[]\n",
    "for i in range(0,len(corpus)):\n",
    "    aux = re.findall(r\"https?://\\S+\", corpus['text'][i])\n",
    "    if aux:\n",
    "        urls.extend(aux)\n",
    "#print(urls)\n",
    "frec_urls = Counter(urls)\n",
    "urls_sorted = dict(sorted(frec_urls.items(), key=lambda item: item[1], reverse=True))\n",
    "\n",
    "print(urls_sorted)"
   ]
  },
  {
   "cell_type": "code",
   "execution_count": 6,
   "metadata": {},
   "outputs": [
    {
     "name": "stdout",
     "output_type": "stream",
     "text": [
      "902\n",
      "{'U+0001F62D': 67, 'U+0001F97A': 54, 'U+0001F3FB': 38, 'U+0001F64F': 36, 'U+0001F923': 28, 'U+0001F602': 25, 'U+0001F3FD': 22, 'U+0001F3FC': 21, 'U+0001F979': 18, 'U+0001F90D': 18, 'U+0001F60D': 17, 'U+0001F64C': 16, 'U+0001F937': 13, 'U+0001F608': 13, 'U+0001F614': 11, 'U+0001F44D': 11, 'U+0001F44F': 11, 'U+0001F525': 10, 'U+0001F6AC': 10, 'U+0001F643': 10, 'U+0001F972': 10, 'U+0001F494': 9, 'U+0001F914': 8, 'U+0001F644': 8, 'U+0001F629': 8, 'U+0001F612': 7, 'U+0001F970': 7, 'U+0001F56F': 7, 'U+0001F4AB': 7, 'U+0001F480': 7, 'U+0001F451': 7, 'U+0001F635': 6, 'U+0001F327': 6, 'U+0001F633': 6, 'U+0001F973': 5, 'U+0001F926': 5, 'U+0001F495': 5, 'U+0001F61E': 5, 'U+0001F92D': 5, 'U+0001F605': 5, 'U+0001F48B': 5, 'U+0001F44C': 5, 'U+0001F63E': 5, 'U+0001F3B6': 5, 'U+0001F943': 5, 'U+0001F4AA': 5, 'U+0001F3FE': 5, 'U+0001F3F3': 5, 'U+0001F624': 4, 'U+0001F921': 4, 'U+0001F60E': 4, 'U+0001F92F': 4, 'U+0001F4A5': 4, 'U+0001F634': 4, 'U+0001F62E': 4, 'U+0001F4A8': 4, 'U+0001F5A4': 4, 'U+0001F928': 4, 'U+0001F92A': 4, 'U+0001F981': 4, 'U+0001F308': 4, 'U+0001F61D': 4, 'U+0001F91E': 4, 'U+0001F62A': 3, 'U+0001F62B': 3, 'U+0001F917': 3, 'U+0001F60F': 3, 'U+0001F625': 3, 'U+0001F623': 3, 'U+0001F440': 3, 'U+0001F974': 3, 'U+0001F615': 3, 'U+0001F636': 3, 'U+0001F9D1': 3, 'U+0001F622': 3, 'U+0001F62C': 3, 'U+0001F3B5': 3, 'U+0001F680': 3, 'U+0001F60C': 3, 'U+0001F499': 3, 'U+0001F971': 3, 'U+0001F975': 3, 'U+0001F49C': 3, 'U+0001F920': 3, 'U+0001F92C': 2, 'U+0001F49A': 2, 'U+0001F642': 2, 'U+0001F498': 2, 'U+0001F30A': 2, 'U+0001F60A': 2, 'U+0001F613': 2, 'U+0001F606': 2, 'U+0001F49B': 2, 'U+0001F61B': 2, 'U+0001F639': 2, 'U+0001F6A9': 2, 'U+0001F4A1': 2, 'U+0001F6F8': 2, 'U+0001F9B2': 2, 'U+0001F6E0': 2, 'U+0001F6D0': 2, 'U+0001F54A': 2, 'U+0001F4B5': 2, 'U+0001F63B': 2, 'U+0001F382': 2, 'U+0001F4B8': 2, 'U+0001F497': 2, 'U+0001F343': 2, 'U+0001F481': 2, 'U+0001F61F': 2, 'U+0001F340': 2, 'U+0001F697': 2, 'U+0001F51F': 2, 'U+0001F31F': 2, 'U+0001F64A': 2, 'U+0001F575': 2, 'U+0001F512': 2, 'U+0001F384': 2, 'U+0001F381': 2, 'U+0001F6A8': 2, 'U+0001F616': 2, 'U+0001F437': 1, 'U+0001F43D': 1, 'U+0001F436': 1, 'U+0001F628': 1, 'U+0001F61C': 1, 'U+0001F632': 1, 'U+0001F30D': 1, 'U+0001F618': 1, 'U+0001F610': 1, 'U+0001F44A': 1, 'U+0001F912': 1, 'U+0001F637': 1, 'U+0001F976': 1, 'U+0001F995': 1, 'U+0001F463': 1, 'U+0001F496': 1, 'U+0001F940': 1, 'U+0001F3C3': 1, 'U+0001F441': 1, 'U+0001F380': 1, 'U+0001F373': 1, 'U+0001F31A': 1, 'U+0001F50B': 1, 'U+0001F992': 1, 'U+0001F607': 1, 'U+0001F3FF': 1, 'U+0001F9E1': 1, 'U+0001F9E0': 1, 'U+0001F48A': 1, 'U+0001F4C8': 1, 'U+0001F4BC': 1, 'U+0001F916': 1, 'U+0001F42F': 1, 'U+0001F4F2': 1, 'U+0001F5E8': 1, 'U+0001F3D4': 1, 'U+0001F3D6': 1, 'U+0001F486': 1, 'U+0001F37E': 1, 'U+0001F534': 1, 'U+0001F621': 1, 'U+0001F68C': 1, 'U+0001F40B': 1, 'U+0001F9B8': 1, 'U+0001F986': 1, 'U+0001F3B8': 1, 'U+0001F4AD': 1, 'U+0001F60B': 1, 'U+0001F91D': 1, 'U+0001F342': 1, 'U+0001F33A': 1, 'U+0001F641': 1, 'U+0001F927': 1, 'U+0001F699': 1, 'U+0001F550': 1, 'U+0001F3C6': 1, 'U+0001F352': 1, 'U+0001F40A': 1, 'U+0001F4A7': 1, 'U+0001F493': 1, 'U+0001F339': 1, 'U+0001F929': 1, 'U+0001F531': 1, 'U+0001F611': 1, 'U+0001F30C': 1, 'U+0001F47D': 1, 'U+0001F513': 1, 'U+0001F4A3': 1, 'U+0001F329': 1, 'U+0001F570': 1, 'U+0001F47C': 1, 'U+0001F9F5': 1, 'U+0001F447': 1, 'U+0001F63F': 1, 'U+0001F4A9': 1, 'U+0001F603': 1, 'U+0001F449': 1, 'U+0001F913': 1, 'U+0001F53C': 1, 'U+0001F98C': 1, 'U+0001F922': 1, 'U+0001F609': 1, 'U+0001F485': 1}\n"
     ]
    }
   ],
   "source": [
    "#Encontrar los emojis\n",
    "\n",
    "emojis = []\n",
    "emoji_regex2= re.compile(\n",
    "    # Rangos de Unicode para emojis (actualizado a Unicode 15.1)\n",
    "r'[\\U0001F600-\\U0001F64F'  # Caras, gestos\n",
    "r'\\U0001F680-\\U0001F6FF'  # Corazones, manos, cuerpo\n",
    "r'\\U0001F460-\\U0001F47F'  # Personas\n",
    "r'\\U0001F400-\\U0001F4FF'  # Animales, naturaleza\n",
    "r'\\U0001F32D-\\U0001F37F'  # Comida, bebida\n",
    "r'\\U0001F380-\\U0001F39F'  # Actividades\n",
    "r'\\U0001F5FA-\\U0001F64F'  # Viajes, lugares\n",
    "r'\\U0001F3A0-\\U0001F3FF'  # Objetos\n",
    "r'\\U0001F300-\\U0001F5FF'  # Símbolos diversos\n",
    "r'\\U0001F4A0-\\U0001F4FF'  # Tecnología\n",
    "r'\\U0001F700-\\U0001F77F'  # Símbolos variados\n",
    "r'\\U0001F900-\\U0001F9FF'  # Símbolos nuevos (Unicode 15.1)\n",
    "r'\\U0001F3FB-\\U0001F3FF'  # Tono de piel\n",
    "r'\\U0001F000-\\U0001F02F]'  # Otros emojis modernos\n",
    ")\n",
    "\n",
    "for i in range(0,len(corpus)):\n",
    "    aux = emoji_regex2.findall(corpus['text'][i])\n",
    "    if aux:\n",
    "        emojis.extend(aux)\n",
    "print(len(emojis))\n",
    "\n",
    "frec_emoji=Counter(emojis)\n",
    "unicode = {f\"U+{ord(emoji):08X}\": count for emoji, count in frec_emoji.items()}\n",
    "unicode_sorted = dict(sorted(unicode.items(), key=lambda item: item[1], reverse=True))\n",
    "\n",
    "print(unicode_sorted)"
   ]
  },
  {
   "cell_type": "code",
   "execution_count": 7,
   "metadata": {},
   "outputs": [
    {
     "name": "stdout",
     "output_type": "stream",
     "text": [
      "49\n",
      "{'xd': 16, ':/': 9, ':3': 8, ':)': 7, 'xdddd': 3, ':(': 2, 'xD': 2, ':p': 1, 'XD': 1}\n"
     ]
    }
   ],
   "source": [
    "#Encontrar emoticons en ASCII\n",
    "\n",
    "caritas =[]\n",
    "for i in range(0,len(corpus)):\n",
    "    aux = re.findall(r\"[:][\\/()3DPOp]|[xX][dD]+\", corpus['text'][i])\n",
    "    if aux:\n",
    "        caritas.extend(aux)\n",
    "print(len(caritas))\n",
    "\n",
    "frec_caritas = Counter(caritas)\n",
    "caritas_sorted = dict(sorted(frec_caritas.items(),key = lambda item:item[1], reverse = True))\n",
    "\n",
    "print(caritas_sorted)\n"
   ]
  },
  {
   "cell_type": "code",
   "execution_count": 24,
   "metadata": {},
   "outputs": [
    {
     "name": "stdout",
     "output_type": "stream",
     "text": [
      "28\n",
      "{'23:58': 4, '17:45': 3, ('7', 'am'): 2, ('2', 'am'): 2, '11:11': 2, ('1', 'pm'): 2, '3:00': 2, '2:38': 1, ('6', 'am'): 1, ('5', 'am'): 1, ('6', 'pm'): 1, ('9', 'am'): 1, ('4', 'am'): 1, ('1', 'am'): 1, '23 hrs': 1, '3:12': 1, '4:20': 1, '00:01': 1}\n"
     ]
    }
   ],
   "source": [
    "horas = []\n",
    "for i in range(0,len(corpus)):\n",
    "    aux = re.findall(r'\\b(?:0?[0-9]|1[0-9]|2[0-3]):[0-5][0-9]\\b', corpus['text'][i])\n",
    "    aux2 = re.findall(r'\\d{1,2} hrs',corpus['text'][i], re.IGNORECASE)\n",
    "    aux3 = re.findall(r'\\b([1-9]|1[0-2]):?[0-5]?[0-9]? ?(AM|PM)\\b',corpus['text'][i], re.IGNORECASE)\n",
    "    if aux :\n",
    "        horas.extend(aux)\n",
    "    elif aux2:\n",
    "        horas.extend(aux2)\n",
    "    elif aux3:\n",
    "        horas.extend(aux3)\n",
    "print(len(horas))\n",
    "frec_horas = Counter(horas)\n",
    "horas_sorted = dict(sorted(frec_horas.items(), key = lambda item:item[1], reverse = True))\n",
    "print(horas_sorted)"
   ]
  }
 ],
 "metadata": {
  "kernelspec": {
   "display_name": "base",
   "language": "python",
   "name": "python3"
  },
  "language_info": {
   "codemirror_mode": {
    "name": "ipython",
    "version": 3
   },
   "file_extension": ".py",
   "mimetype": "text/x-python",
   "name": "python",
   "nbconvert_exporter": "python",
   "pygments_lexer": "ipython3",
   "version": "3.11.5"
  }
 },
 "nbformat": 4,
 "nbformat_minor": 2
}
