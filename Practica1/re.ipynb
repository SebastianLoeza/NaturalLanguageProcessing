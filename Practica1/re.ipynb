{
 "cells": [
  {
   "cell_type": "code",
   "execution_count": 1,
   "metadata": {},
   "outputs": [],
   "source": [
    "import re"
   ]
  },
  {
   "cell_type": "code",
   "execution_count": 2,
   "metadata": {},
   "outputs": [
    {
     "name": "stdout",
     "output_type": "stream",
     "text": [
      "Search:  <re.Match object; span=(2, 3), match='c'>\n"
     ]
    }
   ],
   "source": [
    "res = re.search(\"c\", \"abcdef\")\n",
    "print('Search: ', res)\n"
   ]
  },
  {
   "cell_type": "code",
   "execution_count": 3,
   "metadata": {},
   "outputs": [
    {
     "name": "stdout",
     "output_type": "stream",
     "text": [
      "Findall:  [' ', ' ', ' ']\n"
     ]
    }
   ],
   "source": [
    "#Findall\n",
    "res = re.findall(\"\\s\", \"esta es una cadena.\")\n",
    "print ('Findall: ', res)"
   ]
  },
  {
   "cell_type": "code",
   "execution_count": 4,
   "metadata": {},
   "outputs": [
    {
     "name": "stdout",
     "output_type": "stream",
     "text": [
      "Split:  ['esta', 'es', 'una', 'cadena.']\n"
     ]
    }
   ],
   "source": [
    "#split\n",
    "res = re.split(\"\\s\", \"esta es una cadena.\")\n",
    "print ('Split: ', res)"
   ]
  },
  {
   "cell_type": "code",
   "execution_count": 5,
   "metadata": {},
   "outputs": [
    {
     "name": "stdout",
     "output_type": "stream",
     "text": [
      "sub:  esta\n",
      "es\n",
      "una\n",
      "cadena.\n"
     ]
    }
   ],
   "source": [
    "#sub\n",
    "res = re.sub(\"\\s\", \"\\n\", \"esta es una cadena.\")\n",
    "print ('sub: ', res)"
   ]
  },
  {
   "cell_type": "code",
   "execution_count": 6,
   "metadata": {},
   "outputs": [
    {
     "name": "stdout",
     "output_type": "stream",
     "text": [
      "[',', ',', ',', ',']\n",
      "['Cadena1', ' Cadena2', ' Cadena3', ' Cadena4', ' Cadena5']\n"
     ]
    }
   ],
   "source": [
    "\n",
    "#compile\n",
    "patron = re.compile(\",\")\n",
    "resultado = patron.findall(\"Cadena1, Cadena2, Cadena3, Cadena4, Cadena5\")\n",
    "print(resultado)\n",
    "resultado2 = patron.split(\"Cadena1, Cadena2, Cadena3, Cadena4, Cadena5\")\n",
    "print(resultado2)\n"
   ]
  },
  {
   "cell_type": "code",
   "execution_count": 7,
   "metadata": {},
   "outputs": [
    {
     "name": "stdout",
     "output_type": "stream",
     "text": [
      "['14', '15.5', '0.25']\n"
     ]
    }
   ],
   "source": [
    "#Uso de operadores\n",
    "patron = re.compile(\"\\d+\\.?\\d+\")\n",
    "resultado = patron.findall(\"Esta es una cadena con los números 14, 15.5 y 0.25, 1\")\n",
    "print(resultado)\n"
   ]
  }
 ],
 "metadata": {
  "kernelspec": {
   "display_name": "base",
   "language": "python",
   "name": "python3"
  },
  "language_info": {
   "codemirror_mode": {
    "name": "ipython",
    "version": 3
   },
   "file_extension": ".py",
   "mimetype": "text/x-python",
   "name": "python",
   "nbconvert_exporter": "python",
   "pygments_lexer": "ipython3",
   "version": "3.11.5"
  }
 },
 "nbformat": 4,
 "nbformat_minor": 2
}
