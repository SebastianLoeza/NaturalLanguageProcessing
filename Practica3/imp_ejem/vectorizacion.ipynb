{
 "cells": [
  {
   "cell_type": "code",
   "execution_count": 11,
   "metadata": {},
   "outputs": [],
   "source": [
    "from sklearn.feature_extraction.text import CountVectorizer\n",
    "from sklearn.feature_extraction.text import TfidfVectorizer\n",
    "import numpy as np\n",
    "import pandas as pd\n",
    "import os.path\n",
    "import sys\n",
    "import pickle"
   ]
  },
  {
   "cell_type": "code",
   "execution_count": 12,
   "metadata": {},
   "outputs": [],
   "source": [
    "corpus = ['El niño corre velozmente por el camino a gran velocidad .',\n",
    "          'El coche rojo del niño es grande .',\n",
    "          'El coche tiene un color rojo brillante y tiene llantas nuevas .',\n",
    "          '¿ Las nuevas canicas del niño son color rojo ?'\n",
    "]\n"
   ]
  },
  {
   "cell_type": "code",
   "execution_count": 13,
   "metadata": {},
   "outputs": [
    {
     "name": "stdout",
     "output_type": "stream",
     "text": [
      "['.' '?' 'a' 'brillante' 'camino' 'canicas' 'coche' 'color' 'corre' 'del'\n",
      " 'el' 'es' 'gran' 'grande' 'las' 'llantas' 'niño' 'nuevas' 'por' 'rojo'\n",
      " 'son' 'tiene' 'un' 'velocidad' 'velozmente' 'y' '¿']\n",
      "[[1 0 1 0 1 0 0 0 1 0 2 0 1 0 0 0 1 0 1 0 0 0 0 1 1 0 0]\n",
      " [1 0 0 0 0 0 1 0 0 1 1 1 0 1 0 0 1 0 0 1 0 0 0 0 0 0 0]\n",
      " [1 0 0 1 0 0 1 1 0 0 1 0 0 0 0 1 0 1 0 1 0 2 1 0 0 1 0]\n",
      " [0 1 0 0 0 1 0 1 0 1 0 0 0 0 1 0 1 1 0 1 1 0 0 0 0 0 1]]\n"
     ]
    }
   ],
   "source": [
    "#Representación vectorial por frecuencia\n",
    "# ~ vectorizador_frecuencia = CountVectorizer()\n",
    "vectorizador_frecuencia = CountVectorizer(token_pattern= r'(?u)\\w+|\\w+\\n|\\.|\\¿|\\?')\n",
    "X = vectorizador_frecuencia.fit_transform(corpus)\n",
    "print (vectorizador_frecuencia.get_feature_names_out())\n",
    "#print (X)#sparse matrix\n",
    "# ~ print (type(X))#sparse matrix\n",
    "# ~ print (type(X.toarray()))#dense ndarray\n",
    "\n",
    "#print('Representación vectorial por frecuencia')\n",
    "print (X.toarray())\n"
   ]
  },
  {
   "cell_type": "code",
   "execution_count": 14,
   "metadata": {},
   "outputs": [
    {
     "name": "stdout",
     "output_type": "stream",
     "text": [
      "Representación vectorial frecuencia\n",
      "[[1 0 1 0 1 0 0 0 1 0 2 0 1 0 0 0 1 0 1 0 0 0 0 1 1 0 0]\n",
      " [1 0 0 0 0 0 1 0 0 1 1 1 0 1 0 0 1 0 0 1 0 0 0 0 0 0 0]\n",
      " [1 0 0 1 0 0 1 1 0 0 1 0 0 0 0 1 0 1 0 1 0 2 1 0 0 1 0]\n",
      " [0 1 0 0 0 1 0 1 0 1 0 0 0 0 1 0 1 1 0 1 1 0 0 0 0 0 1]]\n"
     ]
    }
   ],
   "source": [
    "#Use of Pickle\n",
    "if (os.path.exists('X_vectorizador_tfidf.pkl')):\n",
    "\tprint ('Ya existe')\n",
    "\tvector_file = open ('X_vectorizador_tfidf.pkl','rb')\n",
    "\tX = pickle.load(vector_file)\n",
    "else:\n",
    "\tvector_file = open ('X_vectorizador_frecuencia.pkl','wb')\n",
    "\tvectorizador_frecuencia = CountVectorizer(token_pattern= r'(?u)\\w+|\\w+\\n|\\.|\\¿|\\?')\n",
    "\tX = vectorizador_frecuencia.fit_transform(corpus)\n",
    "\tpickle.dump(X, vector_file)\n",
    "\tvector_file.close()\n",
    "\n",
    "print ('Representación vectorial frecuencia')\n",
    "print (X.toarray())\n"
   ]
  },
  {
   "cell_type": "code",
   "execution_count": 15,
   "metadata": {},
   "outputs": [
    {
     "name": "stdout",
     "output_type": "stream",
     "text": [
      "Ya existe\n",
      "[[1 0 1 0 1 0 0 0 1 0 2 0 1 0 0 0 1 0 1 0 0 0 0 1 1 0 0]\n",
      " [1 0 0 0 0 0 1 0 0 1 1 1 0 1 0 0 1 0 0 1 0 0 0 0 0 0 0]\n",
      " [1 0 0 1 0 0 1 1 0 0 1 0 0 0 0 1 0 1 0 1 0 2 1 0 0 1 0]\n",
      " [0 1 0 0 0 1 0 1 0 1 0 0 0 0 1 0 1 1 0 1 1 0 0 0 0 0 1]]\n"
     ]
    }
   ],
   "source": [
    "#Use of Pickle\n",
    "if (os.path.exists('X_vectorizador_frecuencia.pkl')):\n",
    "\tprint ('Ya existe')\n",
    "\tvector_file = open ('X_vectorizador_frecuencia.pkl','rb')\n",
    "\tX = pickle.load(vector_file)\n",
    "\t#print('Representación vectorial por frecuencia')\n",
    "\tprint (X.toarray())\n",
    "else:\n",
    "    print(\"PKL no existe\")"
   ]
  },
  {
   "cell_type": "code",
   "execution_count": 16,
   "metadata": {},
   "outputs": [],
   "source": [
    "prueba1 = ['El coche rojo corre velozmente por el camino del niño es grande .']\n",
    "prueba2 = [' No hay nada que ver con los documentos anteriores xd']"
   ]
  },
  {
   "cell_type": "code",
   "execution_count": 17,
   "metadata": {},
   "outputs": [
    {
     "name": "stdout",
     "output_type": "stream",
     "text": [
      "\n",
      "Representación vectorial por frecuencia para X\n",
      "[[1 0 1 0 1 0 0 0 1 0 2 0 1 0 0 0 1 0 1 0 0 0 0 1 1 0 0]\n",
      " [1 0 0 0 0 0 1 0 0 1 1 1 0 1 0 0 1 0 0 1 0 0 0 0 0 0 0]\n",
      " [1 0 0 1 0 0 1 1 0 0 1 0 0 0 0 1 0 1 0 1 0 2 1 0 0 1 0]\n",
      " [0 1 0 0 0 1 0 1 0 1 0 0 0 0 1 0 1 1 0 1 1 0 0 0 0 0 1]]\n",
      "\n",
      "Representación vectorial por frecuencia para Y con vocabulario de X\n",
      "[[1 0 0 0 1 0 1 0 1 1 2 1 0 1 0 0 1 0 1 1 0 0 0 0 1 0 0]]\n"
     ]
    }
   ],
   "source": [
    "\n",
    "Y = vectorizador_frecuencia.transform(prueba1)\n",
    "#print (vectorizador_frecuencia.get_feature_names_out())\n",
    "#print (X)#sparse matrix\n",
    "# ~ print (type(X))#sparse matrix\n",
    "# ~ print (type(X.toarray()))#dense ndarray\n",
    "\n",
    "print('\\nRepresentación vectorial por frecuencia para X')\n",
    "print (X.toarray())\n",
    "\n",
    "print('\\nRepresentación vectorial por frecuencia para Y con vocabulario de X')\n",
    "print (Y.toarray())"
   ]
  },
  {
   "cell_type": "code",
   "execution_count": 18,
   "metadata": {},
   "outputs": [],
   "source": [
    "import math \n",
    "\n",
    "def cosine(x, y):\n",
    "    val = sum(x[index] * y[index] for index in range(len(x)))\n",
    "    sr_x = math.sqrt(sum(x_val**2 for x_val in x))\n",
    "    sr_y = math.sqrt(sum(y_val**2 for y_val in y))\n",
    "    res = val / (sr_x * sr_y)\n",
    "\n",
    "    # Verificar si alguno de los vectores tiene magnitud 0\n",
    "    if sr_x == 0 or sr_y == 0:\n",
    "        return 0  # Similaridad de coseno es 0 si alguno es un vector nulo\n",
    "\n",
    "    # Calcular y retornar el coseno\n",
    "    res = val / (sr_x * sr_y)\n",
    "\n",
    "    return res\n",
    "\t"
   ]
  },
  {
   "cell_type": "code",
   "execution_count": 19,
   "metadata": {},
   "outputs": [
    {
     "name": "stdout",
     "output_type": "stream",
     "text": [
      "Coseno entre X[0] y Y[0]: 0.7161148740394329\n",
      "Coseno entre X[1] y Y[0]: 0.821583836257749\n",
      "Coseno entre X[2] y Y[0]: 0.3450327796711771\n",
      "Coseno entre X[3] y Y[0]: 0.24494897427831777\n"
     ]
    }
   ],
   "source": [
    "# Convertir X y Y a arrays densos para pasar a la función de coseno\n",
    "X_denso = X.toarray()\n",
    "Y_denso = Y.toarray()\n",
    "\n",
    "# Calcular el coseno entre el primer documento de X y Y\n",
    "\n",
    "# Iterar a través de todos los documentos en X\n",
    "for i in range(len(X_denso)):\n",
    "    resultado_coseno = cosine(X_denso[i], Y_denso[0])\n",
    "    print(f'Coseno entre X[{i}] y Y[0]: {resultado_coseno}')"
   ]
  },
  {
   "cell_type": "code",
   "execution_count": null,
   "metadata": {},
   "outputs": [],
   "source": [
    "path='/Users/sebastianloeza/Desktop/Escuela/6to/NLP/Practicas/Practica3/Similitud_archivos/Corpus1/Content-bigram-binary.pkl'\n",
    "prueba_df = pd.read_csv('/Users/sebastianloeza/Desktop/Escuela/6to/NLP/Practicas/Practica3/Similitud_archivos/pruebacsv_normalized.csv')\n",
    "\n",
    "col_map = {'Title': 'Title', 'Content': 'Content', 'Title + Content': 'Title_Content'}\n",
    "rep_map = {\n",
    "    'Unigram - Frecuencia': 'unigram_frequency', 'Unigram - Binario': 'unigram_binary', 'Unigram - TF-IDF': 'unigram_tfidf',\n",
    "    'Bigram - Frecuencia': 'bigram_frequency', 'Bigram - Binario': 'bigram_binary', 'Bigram - TF-IDF': 'bigram_tfidf', 'Todas': None\n",
    "}\n",
    "\n",
    "if (os.path.exists(path)):\n",
    "    print ('Ya existe')\n",
    "    vector_file = open (path,'rb')\n",
    "    X = pickle.load(vector_file)\n",
    "else:\n",
    "    print ('No existe')\n",
    "\n",
    "prueba_df['Title_Content'] = prueba_df['Title'] + \" \" + prueba_df['Content']\n",
    "Y = X.transform(prueba_df[col_map[col_choice]])\n",
    "print(X)\n",
    "print(pd.DataFrame(Y.toarray(), columns=X.get_feature_names_out()))\n",
    "    \n",
    "    "
   ]
  }
 ],
 "metadata": {
  "kernelspec": {
   "display_name": "base",
   "language": "python",
   "name": "python3"
  },
  "language_info": {
   "codemirror_mode": {
    "name": "ipython",
    "version": 3
   },
   "file_extension": ".py",
   "mimetype": "text/x-python",
   "name": "python",
   "nbconvert_exporter": "python",
   "pygments_lexer": "ipython3",
   "version": "3.11.5"
  }
 },
 "nbformat": 4,
 "nbformat_minor": 2
}
