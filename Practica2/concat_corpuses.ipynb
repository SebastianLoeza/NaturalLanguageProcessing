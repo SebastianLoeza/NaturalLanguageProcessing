{
 "cells": [
  {
   "cell_type": "markdown",
   "metadata": {},
   "source": [
    "# Hola profe use este archivo para juntar los corpuses raw y normalizados"
   ]
  },
  {
   "cell_type": "code",
   "execution_count": 10,
   "metadata": {},
   "outputs": [],
   "source": [
    "import pandas as pd"
   ]
  },
  {
   "cell_type": "code",
   "execution_count": 11,
   "metadata": {},
   "outputs": [],
   "source": [
    "#Hacer un solo csv\n",
    "\n",
    "corpus1 = pd.read_csv('corpuses/norm/norm_corpus1.csv',index_col=False)\n",
    "corpus2 = pd.read_csv('corpuses/norm/norm_corpus2.csv',index_col=False)\n",
    "corpus3 = pd.read_csv('corpuses/norm/norm_corpus3.csv',index_col=False)\n",
    "corpus4 = pd.read_csv('corpuses/norm/norm_corpus4.csv',index_col=False)\n",
    "corpus5 = pd.read_csv('corpuses/norm/norm_corpus5.csv',index_col=False)\n",
    "corpus6 = pd.read_csv('corpuses/norm/norm_corpus6.csv',index_col=False)\n",
    "corpus7 = pd.read_csv('corpuses/norm/norm_corpus7.csv',index_col=False)\n",
    "corpus8 = pd.read_csv('corpuses/norm/norm_corpus8.csv',index_col=False)\n",
    "corpus9 = pd.read_csv('corpuses/norm/norm_corpus9.csv',index_col=False)\n"
   ]
  },
  {
   "cell_type": "code",
   "execution_count": 12,
   "metadata": {},
   "outputs": [],
   "source": [
    "lista = [corpus1,corpus2,corpus3,corpus4,corpus5,corpus6,corpus7,corpus8,corpus9]\n",
    "\n",
    "df_final = pd.concat(lista, ignore_index=True)  # Concatenamos ignorando los índices originales\n",
    "\n"
   ]
  },
  {
   "cell_type": "code",
   "execution_count": 13,
   "metadata": {},
   "outputs": [
    {
     "data": {
      "text/plain": [
       "Index(['Unnamed: 0', 'Source', 'Title', 'Content', 'Section', 'URL', 'Date'], dtype='object')"
      ]
     },
     "execution_count": 13,
     "metadata": {},
     "output_type": "execute_result"
    }
   ],
   "source": [
    "df_final.columns"
   ]
  },
  {
   "cell_type": "code",
   "execution_count": 14,
   "metadata": {},
   "outputs": [],
   "source": [
    "# Eliminar la columna del índice (si el índice fue agregado como una columna)\n",
    "#df_final = df_final.drop(columns='Unnamed: 0')\n",
    "\n",
    "df_final.index = pd.RangeIndex(start=1, stop=len(df_final) + 1)  # Creamos un índice secuencial\n"
   ]
  },
  {
   "cell_type": "code",
   "execution_count": 15,
   "metadata": {},
   "outputs": [
    {
     "data": {
      "text/html": [
       "<div>\n",
       "<style scoped>\n",
       "    .dataframe tbody tr th:only-of-type {\n",
       "        vertical-align: middle;\n",
       "    }\n",
       "\n",
       "    .dataframe tbody tr th {\n",
       "        vertical-align: top;\n",
       "    }\n",
       "\n",
       "    .dataframe thead th {\n",
       "        text-align: right;\n",
       "    }\n",
       "</style>\n",
       "<table border=\"1\" class=\"dataframe\">\n",
       "  <thead>\n",
       "    <tr style=\"text-align: right;\">\n",
       "      <th></th>\n",
       "      <th>Unnamed: 0</th>\n",
       "      <th>Source</th>\n",
       "      <th>Title</th>\n",
       "      <th>Content</th>\n",
       "      <th>Section</th>\n",
       "      <th>URL</th>\n",
       "      <th>Date</th>\n",
       "    </tr>\n",
       "  </thead>\n",
       "  <tbody>\n",
       "    <tr>\n",
       "      <th>1</th>\n",
       "      <td>0</td>\n",
       "      <td>la jornada</td>\n",
       "      <td>récord 96 mil asistente pelea dubois joshua ho...</td>\n",
       "      <td>londres . daniel dubois , nuevo estrella boxeo...</td>\n",
       "      <td>deporte</td>\n",
       "      <td>https://www.jornada.com.mx/2024/09/21/deportes...</td>\n",
       "      <td>21/09/2024</td>\n",
       "    </tr>\n",
       "    <tr>\n",
       "      <th>2</th>\n",
       "      <td>1</td>\n",
       "      <td>la jornada</td>\n",
       "      <td>américar no estar formar jugador , decir jardine</td>\n",
       "      <td>ser américa club menos minuto haber dar juveni...</td>\n",
       "      <td>deporte</td>\n",
       "      <td>https://www.jornada.com.mx/2024/09/21/deportes...</td>\n",
       "      <td>21/09/2024</td>\n",
       "    </tr>\n",
       "    <tr>\n",
       "      <th>3</th>\n",
       "      <td>2</td>\n",
       "      <td>la jornada</td>\n",
       "      <td>fátimo herrera , miedo , hacer historia ring p...</td>\n",
       "      <td>surgimiento referente deporte mujer comenzar f...</td>\n",
       "      <td>deporte</td>\n",
       "      <td>https://www.jornada.com.mx/2024/09/21/deportes...</td>\n",
       "      <td>21/09/2024</td>\n",
       "    </tr>\n",
       "    <tr>\n",
       "      <th>4</th>\n",
       "      <td>3</td>\n",
       "      <td>la jornada</td>\n",
       "      <td>puma femenil dejar escapar tres punto</td>\n",
       "      <td>pese generar oportunidad gol , puma no lograr ...</td>\n",
       "      <td>deporte</td>\n",
       "      <td>https://www.jornada.com.mx/2024/09/21/deportes...</td>\n",
       "      <td>21/09/2024</td>\n",
       "    </tr>\n",
       "    <tr>\n",
       "      <th>5</th>\n",
       "      <td>4</td>\n",
       "      <td>la jornada</td>\n",
       "      <td>caer dupla zverev-alcaraz</td>\n",
       "      <td>dupla carlos alcaraz-alexander zverev caer par...</td>\n",
       "      <td>deporte</td>\n",
       "      <td>https://www.jornada.com.mx/2024/09/21/deportes...</td>\n",
       "      <td>21/09/2024</td>\n",
       "    </tr>\n",
       "  </tbody>\n",
       "</table>\n",
       "</div>"
      ],
      "text/plain": [
       "   Unnamed: 0      Source                                              Title  \\\n",
       "1           0  la jornada  récord 96 mil asistente pelea dubois joshua ho...   \n",
       "2           1  la jornada   américar no estar formar jugador , decir jardine   \n",
       "3           2  la jornada  fátimo herrera , miedo , hacer historia ring p...   \n",
       "4           3  la jornada              puma femenil dejar escapar tres punto   \n",
       "5           4  la jornada                          caer dupla zverev-alcaraz   \n",
       "\n",
       "                                             Content  Section  \\\n",
       "1  londres . daniel dubois , nuevo estrella boxeo...  deporte   \n",
       "2  ser américa club menos minuto haber dar juveni...  deporte   \n",
       "3  surgimiento referente deporte mujer comenzar f...  deporte   \n",
       "4  pese generar oportunidad gol , puma no lograr ...  deporte   \n",
       "5  dupla carlos alcaraz-alexander zverev caer par...  deporte   \n",
       "\n",
       "                                                 URL        Date  \n",
       "1  https://www.jornada.com.mx/2024/09/21/deportes...  21/09/2024  \n",
       "2  https://www.jornada.com.mx/2024/09/21/deportes...  21/09/2024  \n",
       "3  https://www.jornada.com.mx/2024/09/21/deportes...  21/09/2024  \n",
       "4  https://www.jornada.com.mx/2024/09/21/deportes...  21/09/2024  \n",
       "5  https://www.jornada.com.mx/2024/09/21/deportes...  21/09/2024  "
      ]
     },
     "execution_count": 15,
     "metadata": {},
     "output_type": "execute_result"
    }
   ],
   "source": [
    "df_final.head()"
   ]
  },
  {
   "cell_type": "code",
   "execution_count": 16,
   "metadata": {},
   "outputs": [
    {
     "data": {
      "text/plain": [
       "(1075, 7)"
      ]
     },
     "execution_count": 16,
     "metadata": {},
     "output_type": "execute_result"
    }
   ],
   "source": [
    "# Guardar el resultado en un nuevo archivo CSV\n",
    "#df_final.to_csv('raw_corpuses_final.csv', index=False)\n",
    "df_final.shape"
   ]
  },
  {
   "cell_type": "code",
   "execution_count": null,
   "metadata": {},
   "outputs": [],
   "source": []
  }
 ],
 "metadata": {
  "kernelspec": {
   "display_name": "base",
   "language": "python",
   "name": "python3"
  },
  "language_info": {
   "codemirror_mode": {
    "name": "ipython",
    "version": 3
   },
   "file_extension": ".py",
   "mimetype": "text/x-python",
   "name": "python",
   "nbconvert_exporter": "python",
   "pygments_lexer": "ipython3",
   "version": "3.11.5"
  }
 },
 "nbformat": 4,
 "nbformat_minor": 2
}
