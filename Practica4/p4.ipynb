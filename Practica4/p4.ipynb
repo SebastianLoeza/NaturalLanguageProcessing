{
 "cells": [
  {
   "cell_type": "markdown",
   "metadata": {},
   "source": [
    "# Práctica 4\n",
    "### Equipo:\n",
    "- Gutiérrez Pérez Gabriela G.\n",
    "- Loeza Sebastián.\n",
    "- Ramos García Luis Gerardo.\n",
    "- Rico Mendoza Josué.\n",
    "\n",
    "-----\n",
    "\n",
    "\n",
    "## Extracción de mensajes de whatsApp:"
   ]
  },
  {
   "cell_type": "code",
   "execution_count": 1,
   "metadata": {},
   "outputs": [],
   "source": [
    "import re\n",
    "import csv"
   ]
  },
  {
   "cell_type": "code",
   "execution_count": 3,
   "metadata": {},
   "outputs": [
    {
     "ename": "SyntaxError",
     "evalue": "f-string expression part cannot include a backslash (3246792880.py, line 7)",
     "output_type": "error",
     "traceback": [
      "\u001b[0;36m  Cell \u001b[0;32mIn[3], line 7\u001b[0;36m\u001b[0m\n\u001b[0;31m    for line in lines:\u001b[0m\n\u001b[0m    ^\u001b[0m\n\u001b[0;31mSyntaxError\u001b[0m\u001b[0;31m:\u001b[0m f-string expression part cannot include a backslash\n"
     ]
    }
   ],
   "source": [
    "def extractMessages(filePath):\n",
    "    with open(filePath, 'r', encoding='utf-8') as file:\n",
    "        lines = file.readlines()\n",
    "\n",
    "    return [\n",
    "        f\"<>{re.sub(r'^\\d{2}/\\d{2}/\\d{2} \\d{2}:\\d{2} - Gaby: ', '', re.sub(r'<Se editó este mensaje\\.>', '', line)).strip()}</>\"\n",
    "        for line in lines:\n",
    "        if re.match(r'^\\d{2}/\\d{2}/\\d{2} \\d{2}:\\d{2} - Gaby: ', line) \n",
    "        and '<Multimedia omitido>' not in line\n",
    "        and 'Se eliminó este mensaje.' not in line\n",
    "        and not re.search(r'(http|www)', line)  \n",
    "    ]\n",
    "\n",
    "def saveMessagesToCsv(messages, outputFilePath):\n",
    "    with open(outputFilePath, 'w', newline='', encoding='utf-8') as file:\n",
    "        writer = csv.writer(file)\n",
    "        writer.writerow([\"Message\"])\n",
    "        for message in messages:\n",
    "            writer.writerow([message])"
   ]
  },
  {
   "cell_type": "code",
   "execution_count": 9,
   "metadata": {},
   "outputs": [
    {
     "name": "stdout",
     "output_type": "stream",
     "text": [
      "Mensajes de Gaby guardados en: ./gaby_messages.csv\n"
     ]
    }
   ],
   "source": [
    "chatFilePath = './Chat de WhatsApp con GummyFriends.txt'\n",
    "outputCsvPath = './gaby_messages.csv'\n",
    "gabyMessages = extractMessages(chatFilePath)\n",
    "saveMessagesToCsv(gabyMessages, outputCsvPath)\n",
    "print(f'Mensajes de Gaby guardados en: {outputCsvPath}')"
   ]
  },
  {
   "cell_type": "code",
   "execution_count": 10,
   "metadata": {},
   "outputs": [
    {
     "name": "stdout",
     "output_type": "stream",
     "text": [
      "Mensajes de Gaby guardados en: ./gaby_messages.csv\n"
     ]
    }
   ],
   "source": [
    "chatFilePath = './Chat de WhatsApp con Gaby.txt'\n",
    "outputCsvPath = './gaby_messages.csv'\n",
    "gabyMessages = extractMessages(chatFilePath)\n",
    "saveMessagesToCsv(gabyMessages, outputCsvPath)\n",
    "print(f'Mensajes de Gaby guardados en: {outputCsvPath}')"
   ]
  },
  {
   "cell_type": "markdown",
   "metadata": {},
   "source": [
    "# Language model creation"
   ]
  },
  {
   "cell_type": "code",
   "execution_count": 1,
   "metadata": {},
   "outputs": [],
   "source": [
    "import tkinter as tk\n",
    "from tkinter import ttk, filedialog, messagebox\n",
    "import pandas as pd\n",
    "import nltk\n",
    "from nltk.util import ngrams\n",
    "from collections import Counter\n",
    "import re\n",
    "import csv"
   ]
  },
  {
   "cell_type": "code",
   "execution_count": 2,
   "metadata": {},
   "outputs": [],
   "source": [
    "# Tokenizar el corpus\n",
    "def tokenizeCorpus(corpus):\n",
    "    tokenizer = re.compile(r'\\w+|[^\\w\\s]')  # Separar palabras y signos\n",
    "    return [tokenizer.findall(text.lower()) for text in corpus]\n",
    "\n",
    "# Generar n-gramas\n",
    "def generateNgrams(tokenizedText, n):\n",
    "    return list(ngrams(tokenizedText, n))\n",
    "\n",
    "# Probabilidades de bigramas\n",
    "def bigramProbabilities(tokenizedCorpus):\n",
    "    bigrams = [ngram for text in tokenizedCorpus for ngram in generateNgrams(text, 2)]\n",
    "    bigramFreq = Counter(bigrams)\n",
    "    contextFreq = Counter([bigram[0] for bigram in bigrams])\n",
    "\n",
    "    bigramData = [\n",
    "        [bigram[0], bigram[1], freq, contextFreq[bigram[0]], freq / contextFreq[bigram[0]]]\n",
    "        for bigram, freq in bigramFreq.items()\n",
    "    ]\n",
    "\n",
    "    return pd.DataFrame(bigramData, columns=['Term1', 'Term2', 'BigramFreq', 'ContextFreq', 'BigramProb']).sort_values(by='BigramFreq', ascending=False)\n",
    "\n",
    "# Probabilidades de trigramas\n",
    "def trigramProbabilities(tokenizedCorpus):\n",
    "    trigrams = [ngram for text in tokenizedCorpus for ngram in generateNgrams(text, 3)]\n",
    "    trigramFreq = Counter(trigrams)\n",
    "    bigramContextFreq = Counter([trigram[:2] for trigram in trigrams])\n",
    "\n",
    "    trigramData = [\n",
    "        [trigram[0], trigram[1], trigram[2], freq, bigramContextFreq[trigram[:2]], freq / bigramContextFreq[trigram[:2]]]\n",
    "        for trigram, freq in trigramFreq.items()\n",
    "    ]\n",
    "\n",
    "    return pd.DataFrame(trigramData, columns=['Term1', 'Term2', 'Term3', 'TrigramFreq', 'BigramContextFreq', 'TrigramProb']).sort_values(by='TrigramFreq', ascending=False)\n",
    "\n",
    "# Guardar datos de n-gramas\n",
    "def saveNgramData(bigramData, trigramData, filePath):\n",
    "    # Ya están ordenados en las funciones anteriores, no es necesario volver a ordenar\n",
    "    bigramData.to_csv('bigrams.csv', index=False)\n",
    "    trigramData.to_csv('trigrams.csv', index=False)\n",
    "\n",
    "# Función para cargar el archivo CSV\n",
    "def loadFile():\n",
    "    filePath = filedialog.askopenfilename(filetypes=[(\"CSV files\", \"*.csv\")])\n",
    "    if filePath:\n",
    "        try:\n",
    "            df = pd.read_csv(filePath)\n",
    "            messages = df['Message'].tolist()\n",
    "            tokenizedCorpus = tokenizeCorpus(messages)\n",
    "            generateNgramFiles(tokenizedCorpus, filePath)\n",
    "        except Exception as e:\n",
    "            messagebox.showerror(\"Error\", f\"Error al cargar el archivo: {e}\")\n",
    "\n",
    "# Generar archivos de bigramas y trigramas\n",
    "def generateNgramFiles(tokenizedCorpus, filePath):\n",
    "    try:\n",
    "        bigramas = bigramProbabilities(tokenizedCorpus)\n",
    "        trigramas = trigramProbabilities(tokenizedCorpus)\n",
    "\n",
    "        saveNgramData(bigramas, trigramas, filePath)\n",
    "\n",
    "        # Mostrar resultados en la interfaz\n",
    "        showNgrams(bigramas.head(10), trigramas.head(10))\n",
    "        messagebox.showinfo(\"Éxito\", \"Los archivos 'bigrams.csv' y 'trigrams.csv' han sido generados.\")\n",
    "    except Exception as e:\n",
    "        messagebox.showerror(\"Error\", f\"Error al generar N-gramas: {e}\")\n",
    "\n",
    "# Mostrar los N-gramas\n",
    "def showNgrams(bigrams, trigrams):\n",
    "    textBox.delete(1.0, tk.END)  # Limpiar la caja de texto\n",
    "    textBox.insert(tk.END, \"Bigramas (Top 10):\\n\")\n",
    "    textBox.insert(tk.END, bigrams.to_string(index=False))\n",
    "    textBox.insert(tk.END, \"\\n\\nTrigramas (Top 10):\\n\")\n",
    "    textBox.insert(tk.END, trigrams.to_string(index=False))\n",
    "\n",
    "# Interfaz\n",
    "root = tk.Tk()\n",
    "root.title(\"Generador de N-gramas\")\n",
    "root.geometry(\"700x500\")\n",
    "\n",
    "# Frame principal\n",
    "frame = ttk.Frame(root, padding=\"10\")\n",
    "frame.pack(fill=\"both\", expand=True)\n",
    "\n",
    "# Botones\n",
    "loadButton = ttk.Button(frame, text=\"Cargar CSV\", command=loadFile)\n",
    "loadButton.pack(pady=10)\n",
    "\n",
    "# Generar bigramas y trigramas\n",
    "generateButton = ttk.Button(frame, text=\"Generar Bigramas y Trigramas\", command=lambda: messagebox.showinfo(\"Info\", \"Primero debes seleccionar un archivo CSV.\"))\n",
    "generateButton.pack(pady=10)\n",
    "\n",
    "# Caja de resultados\n",
    "textBox = tk.Text(frame, wrap=\"word\", height=15)\n",
    "textBox.pack(fill=\"both\", expand=True, padx=10, pady=10)\n"
   ]
  },
  {
   "cell_type": "code",
   "execution_count": 3,
   "metadata": {},
   "outputs": [
    {
     "name": "stderr",
     "output_type": "stream",
     "text": [
      "2024-10-23 21:49:42.205 python[31153:1906123] +[IMKClient subclass]: chose IMKClient_Legacy\n",
      "2024-10-23 21:49:42.205 python[31153:1906123] +[IMKInputSession subclass]: chose IMKInputSession_Legacy\n",
      "2024-10-23 21:49:44.086 python[31153:1906123] The class 'NSOpenPanel' overrides the method identifier.  This method is implemented by class 'NSWindow'\n"
     ]
    }
   ],
   "source": [
    "root.mainloop()"
   ]
  },
  {
   "cell_type": "code",
   "execution_count": null,
   "metadata": {},
   "outputs": [],
   "source": []
  }
 ],
 "metadata": {
  "kernelspec": {
   "display_name": "base",
   "language": "python",
   "name": "python3"
  },
  "language_info": {
   "codemirror_mode": {
    "name": "ipython",
    "version": 3
   },
   "file_extension": ".py",
   "mimetype": "text/x-python",
   "name": "python",
   "nbconvert_exporter": "python",
   "pygments_lexer": "ipython3",
   "version": "3.11.5"
  }
 },
 "nbformat": 4,
 "nbformat_minor": 2
}
