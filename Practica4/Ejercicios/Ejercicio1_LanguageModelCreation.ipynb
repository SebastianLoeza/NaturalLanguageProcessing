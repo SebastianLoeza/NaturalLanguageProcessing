{
 "cells": [
  {
   "cell_type": "markdown",
   "metadata": {},
   "source": [
    "### Equipo:\n",
    "- Gutiérrez Pérez Gabriela G.\n",
    "- Loeza Sebastián.\n",
    "- Ramos García Luis Gerardo.\n",
    "- Rico Mendoza Josué.\n",
    "\n",
    "-----\n",
    "\n",
    "\n",
    "## Extracción de mensajes de whatsApp:"
   ]
  },
  {
   "cell_type": "code",
   "execution_count": 1,
   "metadata": {},
   "outputs": [],
   "source": [
    "import re\n",
    "import csv"
   ]
  },
  {
   "cell_type": "code",
   "execution_count": 2,
   "metadata": {},
   "outputs": [],
   "source": [
    "import re\n",
    "import csv\n",
    "\n",
    "def extractMessages(filePath):\n",
    "    with open(filePath, 'r', encoding='utf-8') as file:\n",
    "        lines = file.readlines()\n",
    "    \n",
    "    messages = []\n",
    "    for line in lines:\n",
    "        if re.match(r'^\\d{2}/\\d{2}/\\d{2} \\d{2}:\\d{2} - Pika: ', line) \\\n",
    "           and '<Multimedia omitido>' not in line \\\n",
    "           and 'Se eliminó este mensaje.' not in line \\\n",
    "           and not re.search(r'(http|www)', line):\n",
    "            \n",
    "            # Limpiar el mensaje usando expresiones regulares\n",
    "            mensaje_limpio = re.sub(r'^\\d{2}/\\d{2}/\\d{2} \\d{2}:\\d{2} - Pika: ', '', line)\n",
    "            mensaje_limpio = re.sub(r'<Se editó este mensaje\\.>', '', mensaje_limpio).strip()\n",
    "            messages.append(f\"${mensaje_limpio}&\")\n",
    "    \n",
    "    return messages\n",
    "\n",
    "def saveMessagesToCsv(messages, outputFilePath):\n",
    "    with open(outputFilePath, 'w', newline='', encoding='utf-8') as file:\n",
    "        writer = csv.writer(file)\n",
    "        writer.writerow(['Message'])\n",
    "        for message in messages:\n",
    "            writer.writerow([message])\n",
    "\n",
    "# Ejemplo de uso:\n",
    "# messages = extractMessages(\"ruta_del_archivo.txt\")\n",
    "# saveMessagesToCsv(messages, \"archivo_resultado.csv\")\n"
   ]
  },
  {
   "cell_type": "code",
   "execution_count": 3,
   "metadata": {},
   "outputs": [
    {
     "ename": "FileNotFoundError",
     "evalue": "[Errno 2] No such file or directory: './MensajesJosue.txt'",
     "output_type": "error",
     "traceback": [
      "\u001b[0;31m---------------------------------------------------------------------------\u001b[0m",
      "\u001b[0;31mFileNotFoundError\u001b[0m                         Traceback (most recent call last)",
      "Cell \u001b[0;32mIn[3], line 3\u001b[0m\n\u001b[1;32m      1\u001b[0m chatFilePath \u001b[38;5;241m=\u001b[39m \u001b[38;5;124m'\u001b[39m\u001b[38;5;124m./MensajesJosue.txt\u001b[39m\u001b[38;5;124m'\u001b[39m\n\u001b[1;32m      2\u001b[0m outputCsvPath \u001b[38;5;241m=\u001b[39m \u001b[38;5;124m'\u001b[39m\u001b[38;5;124m./josue_messages.csv\u001b[39m\u001b[38;5;124m'\u001b[39m\n\u001b[0;32m----> 3\u001b[0m gabyMessages \u001b[38;5;241m=\u001b[39m extractMessages(chatFilePath)\n\u001b[1;32m      4\u001b[0m saveMessagesToCsv(gabyMessages, outputCsvPath)\n\u001b[1;32m      5\u001b[0m \u001b[38;5;28mprint\u001b[39m(\u001b[38;5;124mf\u001b[39m\u001b[38;5;124m'\u001b[39m\u001b[38;5;124mMensajes de Josue guardados en: \u001b[39m\u001b[38;5;132;01m{\u001b[39;00moutputCsvPath\u001b[38;5;132;01m}\u001b[39;00m\u001b[38;5;124m'\u001b[39m)\n",
      "Cell \u001b[0;32mIn[2], line 5\u001b[0m, in \u001b[0;36mextractMessages\u001b[0;34m(filePath)\u001b[0m\n\u001b[1;32m      4\u001b[0m \u001b[38;5;28;01mdef\u001b[39;00m \u001b[38;5;21mextractMessages\u001b[39m(filePath):\n\u001b[0;32m----> 5\u001b[0m     \u001b[38;5;28;01mwith\u001b[39;00m \u001b[38;5;28mopen\u001b[39m(filePath, \u001b[38;5;124m'\u001b[39m\u001b[38;5;124mr\u001b[39m\u001b[38;5;124m'\u001b[39m, encoding\u001b[38;5;241m=\u001b[39m\u001b[38;5;124m'\u001b[39m\u001b[38;5;124mutf-8\u001b[39m\u001b[38;5;124m'\u001b[39m) \u001b[38;5;28;01mas\u001b[39;00m file:\n\u001b[1;32m      6\u001b[0m         lines \u001b[38;5;241m=\u001b[39m file\u001b[38;5;241m.\u001b[39mreadlines()\n\u001b[1;32m      8\u001b[0m     messages \u001b[38;5;241m=\u001b[39m []\n",
      "File \u001b[0;32m~/anaconda3/lib/python3.11/site-packages/IPython/core/interactiveshell.py:286\u001b[0m, in \u001b[0;36m_modified_open\u001b[0;34m(file, *args, **kwargs)\u001b[0m\n\u001b[1;32m    279\u001b[0m \u001b[38;5;28;01mif\u001b[39;00m file \u001b[38;5;129;01min\u001b[39;00m {\u001b[38;5;241m0\u001b[39m, \u001b[38;5;241m1\u001b[39m, \u001b[38;5;241m2\u001b[39m}:\n\u001b[1;32m    280\u001b[0m     \u001b[38;5;28;01mraise\u001b[39;00m \u001b[38;5;167;01mValueError\u001b[39;00m(\n\u001b[1;32m    281\u001b[0m         \u001b[38;5;124mf\u001b[39m\u001b[38;5;124m\"\u001b[39m\u001b[38;5;124mIPython won\u001b[39m\u001b[38;5;124m'\u001b[39m\u001b[38;5;124mt let you open fd=\u001b[39m\u001b[38;5;132;01m{\u001b[39;00mfile\u001b[38;5;132;01m}\u001b[39;00m\u001b[38;5;124m by default \u001b[39m\u001b[38;5;124m\"\u001b[39m\n\u001b[1;32m    282\u001b[0m         \u001b[38;5;124m\"\u001b[39m\u001b[38;5;124mas it is likely to crash IPython. If you know what you are doing, \u001b[39m\u001b[38;5;124m\"\u001b[39m\n\u001b[1;32m    283\u001b[0m         \u001b[38;5;124m\"\u001b[39m\u001b[38;5;124myou can use builtins\u001b[39m\u001b[38;5;124m'\u001b[39m\u001b[38;5;124m open.\u001b[39m\u001b[38;5;124m\"\u001b[39m\n\u001b[1;32m    284\u001b[0m     )\n\u001b[0;32m--> 286\u001b[0m \u001b[38;5;28;01mreturn\u001b[39;00m io_open(file, \u001b[38;5;241m*\u001b[39margs, \u001b[38;5;241m*\u001b[39m\u001b[38;5;241m*\u001b[39mkwargs)\n",
      "\u001b[0;31mFileNotFoundError\u001b[0m: [Errno 2] No such file or directory: './MensajesJosue.txt'"
     ]
    }
   ],
   "source": [
    "chatFilePath = './MensajesJosue.txt'\n",
    "outputCsvPath = './josue_messages.csv'\n",
    "gabyMessages = extractMessages(chatFilePath)\n",
    "saveMessagesToCsv(gabyMessages, outputCsvPath)\n",
    "print(f'Mensajes de Josue guardados en: {outputCsvPath}')"
   ]
  },
  {
   "cell_type": "code",
   "execution_count": null,
   "metadata": {},
   "outputs": [],
   "source": [
    "chatFilePath = './Chat de WhatsApp con Gaby.txt'\n",
    "outputCsvPath = './gaby_messages.csv'\n",
    "gabyMessages = extractMessages(chatFilePath)\n",
    "saveMessagesToCsv(gabyMessages, outputCsvPath)\n",
    "print(f'Mensajes de Gaby guardados en: {outputCsvPath}')"
   ]
  },
  {
   "cell_type": "code",
   "execution_count": null,
   "metadata": {},
   "outputs": [],
   "source": [
    "chatFilePath = './MensajesPika.txt'\n",
    "outputCsvPath = './pika_messages.csv'\n",
    "gabyMessages = extractMessages(chatFilePath)\n",
    "saveMessagesToCsv(gabyMessages, outputCsvPath)\n",
    "print(f'Mensajes de Pika guardados en: {outputCsvPath}')"
   ]
  },
  {
   "cell_type": "markdown",
   "metadata": {},
   "source": [
    "# Language model creation"
   ]
  },
  {
   "cell_type": "code",
   "execution_count": 4,
   "metadata": {},
   "outputs": [],
   "source": [
    "import tkinter as tk\n",
    "from tkinter import ttk, filedialog, messagebox\n",
    "import pandas as pd\n",
    "import nltk\n",
    "from nltk.util import ngrams\n",
    "from collections import Counter"
   ]
  },
  {
   "cell_type": "code",
   "execution_count": 5,
   "metadata": {},
   "outputs": [],
   "source": [
    "# Tokenizar el corpus\n",
    "def tokenizeCorpus(corpus):\n",
    "    tokenizer = re.compile(r'\\w+|[^\\w\\s]')  # Separar palabras y signos\n",
    "    return [tokenizer.findall(text.lower()) for text in corpus]\n",
    "\n",
    "# Generar n-gramas\n",
    "def generateNgrams(tokenizedText, n):\n",
    "    return list(ngrams(tokenizedText, n))\n",
    "\n",
    "# Probabilidades de bigramas\n",
    "def bigramProbabilities(tokenizedCorpus):\n",
    "    bigrams = [ngram for text in tokenizedCorpus for ngram in generateNgrams(text, 2)]\n",
    "    bigramFreq = Counter(bigrams)\n",
    "    contextFreq = Counter([bigram[0] for bigram in bigrams])\n",
    "\n",
    "    bigramData = [\n",
    "        [bigram[0], bigram[1], freq, contextFreq[bigram[0]], freq / contextFreq[bigram[0]]]\n",
    "        for bigram, freq in bigramFreq.items()\n",
    "    ]\n",
    "\n",
    "    return pd.DataFrame(bigramData, columns=['Term1', 'Term2', 'BigramFreq', 'ContextFreq', 'BigramProb']).sort_values(by='BigramFreq', ascending=False)\n",
    "\n",
    "# Probabilidades de trigramas\n",
    "def trigramProbabilities(tokenizedCorpus):\n",
    "    trigrams = [ngram for text in tokenizedCorpus for ngram in generateNgrams(text, 3)]\n",
    "    trigramFreq = Counter(trigrams)\n",
    "    bigramContextFreq = Counter([trigram[:2] for trigram in trigrams])\n",
    "\n",
    "    trigramData = [\n",
    "        [trigram[0], trigram[1], trigram[2], freq, bigramContextFreq[trigram[:2]], freq / bigramContextFreq[trigram[:2]]]\n",
    "        for trigram, freq in trigramFreq.items()\n",
    "    ]\n",
    "\n",
    "    return pd.DataFrame(trigramData, columns=['Term1', 'Term2', 'Term3', 'TrigramFreq', 'BigramContextFreq', 'TrigramProb']).sort_values(by='TrigramFreq', ascending=False)\n",
    "\n",
    "# Guardar datos de n-gramas\n",
    "def saveNgramData(bigramData, trigramData):\n",
    "    # Ya están ordenados en las funciones anteriores, no es necesario volver a ordenar\n",
    "    bigramData.to_csv('bigrams.csv', index=False)\n",
    "    trigramData.to_csv('trigrams.csv', index=False)\n",
    "\n",
    "# Función para cargar el archivo CSV\n",
    "def loadFile():\n",
    "    filePath = filedialog.askopenfilename(filetypes=[(\"CSV files\", \"*.csv\")])\n",
    "    if filePath:\n",
    "        try:\n",
    "            df = pd.read_csv(filePath)\n",
    "            messages = df['Message'].tolist()\n",
    "            tokenizedCorpus = tokenizeCorpus(messages)\n",
    "            generateNgramFiles(tokenizedCorpus)\n",
    "        except Exception as e:\n",
    "            messagebox.showerror(\"Error\", f\"Error al cargar el archivo: {e}\")\n",
    "\n",
    "# Generar archivos de bigramas y trigramas\n",
    "def generateNgramFiles(tokenizedCorpus):\n",
    "    try:\n",
    "        bigramas = bigramProbabilities(tokenizedCorpus)\n",
    "        trigramas = trigramProbabilities(tokenizedCorpus)\n",
    "\n",
    "        saveNgramData(bigramas, trigramas)\n",
    "\n",
    "        # Mostrar resultados en la interfaz\n",
    "        showNgrams(bigramas.head(10), trigramas.head(10))\n",
    "        messagebox.showinfo(\"Éxito\", \"Los archivos 'bigrams.csv' y 'trigrams.csv' han sido generados.\")\n",
    "    except Exception as e:\n",
    "        messagebox.showerror(\"Error\", f\"Error al generar N-gramas: {e}\")\n",
    "\n",
    "# Mostrar los N-gramas\n",
    "def showNgrams(bigrams, trigrams):\n",
    "    textBox.delete(1.0, tk.END)  # Limpiar la caja de texto\n",
    "    textBox.insert(tk.END, \"Bigramas (Top 10):\\n\")\n",
    "    textBox.insert(tk.END, bigrams.to_string(index=False))\n",
    "    textBox.insert(tk.END, \"\\n\\nTrigramas (Top 10):\\n\")\n",
    "    textBox.insert(tk.END, trigrams.to_string(index=False))\n",
    "\n",
    "# Interfaz\n",
    "root = tk.Tk()\n",
    "root.title(\"Generador de N-gramas\")\n",
    "root.geometry(\"700x500\")\n",
    "\n",
    "# Frame principal\n",
    "frame = ttk.Frame(root, padding=\"10\")\n",
    "frame.pack(fill=\"both\", expand=True)\n",
    "\n",
    "# Botones\n",
    "loadButton = ttk.Button(frame, text=\"Cargar CSV\", command=loadFile)\n",
    "loadButton.pack(pady=10)\n",
    "\n",
    "# Generar bigramas y trigramas\n",
    "generateButton = ttk.Button(frame, text=\"Generar Bigramas y Trigramas\", command=lambda: messagebox.showinfo(\"Info\", \"Primero debes seleccionar un archivo CSV.\"))\n",
    "generateButton.pack(pady=10)\n",
    "\n",
    "# Caja de resultados\n",
    "textBox = tk.Text(frame, wrap=\"word\", height=15)\n",
    "textBox.pack(fill=\"both\", expand=True, padx=10, pady=10)\n"
   ]
  },
  {
   "cell_type": "code",
   "execution_count": 6,
   "metadata": {},
   "outputs": [
    {
     "name": "stderr",
     "output_type": "stream",
     "text": [
      "2024-11-05 20:28:54.676 python[21503:1918150] +[IMKClient subclass]: chose IMKClient_Modern\n",
      "2024-11-05 20:28:54.676 python[21503:1918150] +[IMKInputSession subclass]: chose IMKInputSession_Modern\n",
      "2024-11-05 20:28:56.476 python[21503:1918150] The class 'NSOpenPanel' overrides the method identifier.  This method is implemented by class 'NSWindow'\n"
     ]
    }
   ],
   "source": [
    "root.mainloop()"
   ]
  },
  {
   "cell_type": "code",
   "execution_count": null,
   "metadata": {},
   "outputs": [],
   "source": []
  }
 ],
 "metadata": {
  "kernelspec": {
   "display_name": "base",
   "language": "python",
   "name": "python3"
  },
  "language_info": {
   "codemirror_mode": {
    "name": "ipython",
    "version": 3
   },
   "file_extension": ".py",
   "mimetype": "text/x-python",
   "name": "python",
   "nbconvert_exporter": "python",
   "pygments_lexer": "ipython3",
   "version": "3.11.5"
  }
 },
 "nbformat": 4,
 "nbformat_minor": 2
}
