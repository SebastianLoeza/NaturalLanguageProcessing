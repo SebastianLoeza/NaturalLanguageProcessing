{
 "cells": [
  {
   "cell_type": "code",
   "execution_count": 1,
   "metadata": {},
   "outputs": [],
   "source": [
    "from sklearn.neighbors import KNeighborsClassifier\n",
    "from sklearn.svm import SVC\n",
    "from sklearn.feature_extraction.text import TfidfVectorizer, CountVectorizer\n",
    "from sklearn.ensemble import RandomForestClassifier\n",
    "from sklearn.linear_model import LogisticRegression\n",
    "from sklearn.naive_bayes import MultinomialNB\n",
    "from sklearn.metrics import classification_report\n",
    "from sklearn.pipeline import Pipeline\n",
    "from sklearn.model_selection import train_test_split, StratifiedKFold, cross_val_score\n",
    "import pandas as pd\n",
    "import numpy as np"
   ]
  },
  {
   "cell_type": "code",
   "execution_count": 2,
   "metadata": {},
   "outputs": [
    {
     "data": {
      "text/html": [
       "<div>\n",
       "<style scoped>\n",
       "    .dataframe tbody tr th:only-of-type {\n",
       "        vertical-align: middle;\n",
       "    }\n",
       "\n",
       "    .dataframe tbody tr th {\n",
       "        vertical-align: top;\n",
       "    }\n",
       "\n",
       "    .dataframe thead th {\n",
       "        text-align: right;\n",
       "    }\n",
       "</style>\n",
       "<table border=\"1\" class=\"dataframe\">\n",
       "  <thead>\n",
       "    <tr style=\"text-align: right;\">\n",
       "      <th></th>\n",
       "      <th>features</th>\n",
       "      <th>section</th>\n",
       "    </tr>\n",
       "  </thead>\n",
       "  <tbody>\n",
       "    <tr>\n",
       "      <th>0</th>\n",
       "      <td>Récord de 96 mil asistentes para pelea Dubois ...</td>\n",
       "      <td>Deportes</td>\n",
       "    </tr>\n",
       "    <tr>\n",
       "      <th>1</th>\n",
       "      <td>América  no está  para formar jugadores, dice ...</td>\n",
       "      <td>Deportes</td>\n",
       "    </tr>\n",
       "    <tr>\n",
       "      <th>2</th>\n",
       "      <td>Fátima Herrera, sin miedo a nada,  hizo histor...</td>\n",
       "      <td>Deportes</td>\n",
       "    </tr>\n",
       "    <tr>\n",
       "      <th>3</th>\n",
       "      <td>Pumas femenil deja escapar los tres puntos en ...</td>\n",
       "      <td>Deportes</td>\n",
       "    </tr>\n",
       "    <tr>\n",
       "      <th>4</th>\n",
       "      <td>Cae dupla Zverev-Alcaraz La dupla Carlos Alcar...</td>\n",
       "      <td>Deportes</td>\n",
       "    </tr>\n",
       "  </tbody>\n",
       "</table>\n",
       "</div>"
      ],
      "text/plain": [
       "                                            features   section\n",
       "0  Récord de 96 mil asistentes para pelea Dubois ...  Deportes\n",
       "1  América  no está  para formar jugadores, dice ...  Deportes\n",
       "2  Fátima Herrera, sin miedo a nada,  hizo histor...  Deportes\n",
       "3  Pumas femenil deja escapar los tres puntos en ...  Deportes\n",
       "4  Cae dupla Zverev-Alcaraz La dupla Carlos Alcar...  Deportes"
      ]
     },
     "execution_count": 2,
     "metadata": {},
     "output_type": "execute_result"
    }
   ],
   "source": [
    "data = pd.read_csv('raw_classifier_corpus.csv')\n",
    "data.head()"
   ]
  },
  {
   "cell_type": "code",
   "execution_count": 3,
   "metadata": {},
   "outputs": [
    {
     "data": {
      "text/plain": [
       "section\n",
       "Economía                172\n",
       "Ciencia y Tecnología     90\n",
       "Deportes                 73\n",
       "Cultura                  49\n",
       "Name: count, dtype: int64"
      ]
     },
     "execution_count": 3,
     "metadata": {},
     "output_type": "execute_result"
    }
   ],
   "source": [
    "data['section'].value_counts()"
   ]
  },
  {
   "cell_type": "code",
   "execution_count": 4,
   "metadata": {},
   "outputs": [],
   "source": [
    "X_train, X_test, y_train, y_test = train_test_split(data['features'], data['section'], test_size=0.2, random_state=42)"
   ]
  },
  {
   "cell_type": "markdown",
   "metadata": {},
   "source": [
    "## Logistic Regresion"
   ]
  },
  {
   "cell_type": "markdown",
   "metadata": {},
   "source": [
    "### TF-IDF Vectorizer"
   ]
  },
  {
   "cell_type": "code",
   "execution_count": 5,
   "metadata": {},
   "outputs": [
    {
     "name": "stdout",
     "output_type": "stream",
     "text": [
      "Scores de F1 por fold en entrenamiento: [0.79763574 0.81759917 0.93334534 0.83396865 0.76453269]\n",
      "F1 promedio: 0.8294163213044916\n",
      "F1 desviación estándar: 0.05688848860324489\n",
      "Reporte en el conjunto de prueba:\n",
      "                      precision    recall  f1-score   support\n",
      "\n",
      "Ciencia y Tecnología       0.74      0.81      0.77        21\n",
      "             Cultura       0.71      0.83      0.77         6\n",
      "            Deportes       0.87      1.00      0.93        13\n",
      "            Economía       0.91      0.78      0.84        37\n",
      "\n",
      "            accuracy                           0.83        77\n",
      "           macro avg       0.81      0.86      0.83        77\n",
      "        weighted avg       0.84      0.83      0.83        77\n",
      "\n"
     ]
    }
   ],
   "source": [
    "pipe_tf_idf_log = Pipeline([\n",
    "                                ('text_representation', TfidfVectorizer()), \n",
    "                                ('classifier', LogisticRegression(class_weight='balanced'))\n",
    "])\n",
    "\n",
    "# Configuración de StratifiedKFold para validación cruzada\n",
    "kf = StratifiedKFold(n_splits=5, shuffle=True, random_state=42)\n",
    "\n",
    "# Validación cruzada en el conjunto de entrenamiento\n",
    "cv_scores = cross_val_score(pipe_tf_idf_log, X_train, y_train, cv=kf, scoring='f1_weighted', n_jobs=-1)\n",
    "\n",
    "print(\"Scores de F1 por fold en entrenamiento:\", cv_scores)\n",
    "print(\"F1 promedio:\", cv_scores.mean())\n",
    "print(\"F1 desviación estándar:\", cv_scores.std())\n",
    "\n",
    "# Entrenamiento final en el conjunto de entrenamiento completo\n",
    "pipe_tf_idf_log.fit(X_train, y_train)\n",
    "\n",
    "# Evaluación en el conjunto de prueba\n",
    "y_pred = pipe_tf_idf_log.predict(X_test)\n",
    "print(\"Reporte en el conjunto de prueba:\")\n",
    "print(classification_report(y_test, y_pred))\n"
   ]
  },
  {
   "cell_type": "markdown",
   "metadata": {},
   "source": [
    "### Binary Vectorizer"
   ]
  },
  {
   "cell_type": "code",
   "execution_count": 6,
   "metadata": {},
   "outputs": [
    {
     "name": "stdout",
     "output_type": "stream",
     "text": [
      "Scores de F1 por fold en entrenamiento: [0.71880146 0.74754945 0.71916337 0.77116383 0.6677012 ]\n",
      "F1 promedio: 0.7248758618145811\n",
      "F1 desviación estándar: 0.03462698441351446\n",
      "Reporte en el conjunto de prueba:\n",
      "                      precision    recall  f1-score   support\n",
      "\n",
      "Ciencia y Tecnología       0.69      0.86      0.77        21\n",
      "             Cultura       1.00      0.67      0.80         6\n",
      "            Deportes       1.00      1.00      1.00        13\n",
      "            Economía       0.91      0.84      0.87        37\n",
      "\n",
      "            accuracy                           0.86        77\n",
      "           macro avg       0.90      0.84      0.86        77\n",
      "        weighted avg       0.87      0.86      0.86        77\n",
      "\n"
     ]
    }
   ],
   "source": [
    "pipe_bin_log = Pipeline([\n",
    "                                ('text_representation', CountVectorizer(binary=True, ngram_range=(1, 1))), \n",
    "                                ('classifier', LogisticRegression(class_weight='balanced'))\n",
    "])\n",
    "\n",
    "# Configuración de StratifiedKFold para validación cruzada\n",
    "kf = StratifiedKFold(n_splits=5, shuffle=True, random_state=42)\n",
    "\n",
    "# Validación cruzada en el conjunto de entrenamiento\n",
    "cv_scores = cross_val_score(pipe_bin_log, X_train, y_train, cv=kf, scoring='f1_weighted', n_jobs=-1)\n",
    "\n",
    "print(\"Scores de F1 por fold en entrenamiento:\", cv_scores)\n",
    "print(\"F1 promedio:\", cv_scores.mean())\n",
    "print(\"F1 desviación estándar:\", cv_scores.std())\n",
    "\n",
    "# Entrenamiento final en el conjunto de entrenamiento completo\n",
    "pipe_bin_log.fit(X_train, y_train)\n",
    "\n",
    "# Evaluación en el conjunto de prueba\n",
    "y_pred = pipe_bin_log.predict(X_test)\n",
    "print(\"Reporte en el conjunto de prueba:\")\n",
    "print(classification_report(y_test, y_pred))"
   ]
  },
  {
   "cell_type": "markdown",
   "metadata": {},
   "source": [
    "### Frequency Vectorizer"
   ]
  },
  {
   "cell_type": "code",
   "execution_count": 7,
   "metadata": {},
   "outputs": [
    {
     "name": "stdout",
     "output_type": "stream",
     "text": [
      "Scores de F1 por fold en entrenamiento: [0.70374537 0.7163612  0.7826006  0.80340479 0.72870871]\n",
      "F1 promedio: 0.74696413368015\n",
      "F1 desviación estándar: 0.03896964722918719\n",
      "Reporte en el conjunto de prueba:\n",
      "                      precision    recall  f1-score   support\n",
      "\n",
      "Ciencia y Tecnología       0.75      0.86      0.80        21\n",
      "             Cultura       0.67      0.67      0.67         6\n",
      "            Deportes       0.81      1.00      0.90        13\n",
      "            Economía       0.90      0.76      0.82        37\n",
      "\n",
      "            accuracy                           0.82        77\n",
      "           macro avg       0.78      0.82      0.80        77\n",
      "        weighted avg       0.83      0.82      0.82        77\n",
      "\n"
     ]
    },
    {
     "name": "stderr",
     "output_type": "stream",
     "text": [
      "/Users/sebastianloeza/anaconda3/lib/python3.11/site-packages/sklearn/linear_model/_logistic.py:460: ConvergenceWarning: lbfgs failed to converge (status=1):\n",
      "STOP: TOTAL NO. of ITERATIONS REACHED LIMIT.\n",
      "\n",
      "Increase the number of iterations (max_iter) or scale the data as shown in:\n",
      "    https://scikit-learn.org/stable/modules/preprocessing.html\n",
      "Please also refer to the documentation for alternative solver options:\n",
      "    https://scikit-learn.org/stable/modules/linear_model.html#logistic-regression\n",
      "  n_iter_i = _check_optimize_result(\n",
      "/Users/sebastianloeza/anaconda3/lib/python3.11/site-packages/sklearn/linear_model/_logistic.py:460: ConvergenceWarning: lbfgs failed to converge (status=1):\n",
      "STOP: TOTAL NO. of ITERATIONS REACHED LIMIT.\n",
      "\n",
      "Increase the number of iterations (max_iter) or scale the data as shown in:\n",
      "    https://scikit-learn.org/stable/modules/preprocessing.html\n",
      "Please also refer to the documentation for alternative solver options:\n",
      "    https://scikit-learn.org/stable/modules/linear_model.html#logistic-regression\n",
      "  n_iter_i = _check_optimize_result(\n",
      "/Users/sebastianloeza/anaconda3/lib/python3.11/site-packages/sklearn/linear_model/_logistic.py:460: ConvergenceWarning: lbfgs failed to converge (status=1):\n",
      "STOP: TOTAL NO. of ITERATIONS REACHED LIMIT.\n",
      "\n",
      "Increase the number of iterations (max_iter) or scale the data as shown in:\n",
      "    https://scikit-learn.org/stable/modules/preprocessing.html\n",
      "Please also refer to the documentation for alternative solver options:\n",
      "    https://scikit-learn.org/stable/modules/linear_model.html#logistic-regression\n",
      "  n_iter_i = _check_optimize_result(\n",
      "/Users/sebastianloeza/anaconda3/lib/python3.11/site-packages/sklearn/linear_model/_logistic.py:460: ConvergenceWarning: lbfgs failed to converge (status=1):\n",
      "STOP: TOTAL NO. of ITERATIONS REACHED LIMIT.\n",
      "\n",
      "Increase the number of iterations (max_iter) or scale the data as shown in:\n",
      "    https://scikit-learn.org/stable/modules/preprocessing.html\n",
      "Please also refer to the documentation for alternative solver options:\n",
      "    https://scikit-learn.org/stable/modules/linear_model.html#logistic-regression\n",
      "  n_iter_i = _check_optimize_result(\n"
     ]
    }
   ],
   "source": [
    "pipe_frec_log = Pipeline([\n",
    "                                ('text_representation', CountVectorizer(ngram_range=(1, 1))), \n",
    "                                ('classifier', LogisticRegression(class_weight='balanced'))\n",
    "])\n",
    "\n",
    "# Configuración de StratifiedKFold para validación cruzada\n",
    "kf = StratifiedKFold(n_splits=5, shuffle=True, random_state=42)\n",
    "\n",
    "# Validación cruzada en el conjunto de entrenamiento\n",
    "cv_scores = cross_val_score(pipe_frec_log, X_train, y_train, cv=kf, scoring='f1_weighted', n_jobs=-1)\n",
    "\n",
    "print(\"Scores de F1 por fold en entrenamiento:\", cv_scores)\n",
    "print(\"F1 promedio:\", cv_scores.mean())\n",
    "print(\"F1 desviación estándar:\", cv_scores.std())\n",
    "\n",
    "# Entrenamiento final en el conjunto de entrenamiento completo\n",
    "pipe_frec_log.fit(X_train, y_train)\n",
    "\n",
    "# Evaluación en el conjunto de prueba\n",
    "y_pred = pipe_frec_log.predict(X_test)\n",
    "print(\"Reporte en el conjunto de prueba:\")\n",
    "print(classification_report(y_test, y_pred))"
   ]
  },
  {
   "cell_type": "markdown",
   "metadata": {},
   "source": [
    "## Random Forest"
   ]
  },
  {
   "cell_type": "markdown",
   "metadata": {},
   "source": [
    "###  TF-IDF Vectorizer"
   ]
  },
  {
   "cell_type": "code",
   "execution_count": 8,
   "metadata": {},
   "outputs": [
    {
     "name": "stdout",
     "output_type": "stream",
     "text": [
      "Scores de F1 por fold en entrenamiento: [0.53488964 0.58967256 0.52669677 0.54054953 0.56607604]\n",
      "F1 promedio: 0.5515769070168218\n",
      "F1 desviación estándar: 0.02315423207644862\n",
      "Reporte en el conjunto de prueba:\n",
      "                      precision    recall  f1-score   support\n",
      "\n",
      "Ciencia y Tecnología       0.67      0.29      0.40        21\n",
      "             Cultura       0.00      0.00      0.00         6\n",
      "            Deportes       1.00      0.77      0.87        13\n",
      "            Economía       0.60      0.95      0.74        37\n",
      "\n",
      "            accuracy                           0.66        77\n",
      "           macro avg       0.57      0.50      0.50        77\n",
      "        weighted avg       0.64      0.66      0.61        77\n",
      "\n"
     ]
    },
    {
     "name": "stderr",
     "output_type": "stream",
     "text": [
      "/Users/sebastianloeza/anaconda3/lib/python3.11/site-packages/sklearn/metrics/_classification.py:1469: UndefinedMetricWarning: Precision and F-score are ill-defined and being set to 0.0 in labels with no predicted samples. Use `zero_division` parameter to control this behavior.\n",
      "  _warn_prf(average, modifier, msg_start, len(result))\n",
      "/Users/sebastianloeza/anaconda3/lib/python3.11/site-packages/sklearn/metrics/_classification.py:1469: UndefinedMetricWarning: Precision and F-score are ill-defined and being set to 0.0 in labels with no predicted samples. Use `zero_division` parameter to control this behavior.\n",
      "  _warn_prf(average, modifier, msg_start, len(result))\n",
      "/Users/sebastianloeza/anaconda3/lib/python3.11/site-packages/sklearn/metrics/_classification.py:1469: UndefinedMetricWarning: Precision and F-score are ill-defined and being set to 0.0 in labels with no predicted samples. Use `zero_division` parameter to control this behavior.\n",
      "  _warn_prf(average, modifier, msg_start, len(result))\n"
     ]
    }
   ],
   "source": [
    "\n",
    "# Definición del pipeline con Random Forest\n",
    "pipe_tf_idf_rf = Pipeline([\n",
    "    ('text_representation', TfidfVectorizer()), \n",
    "    ('classifier', RandomForestClassifier(class_weight='balanced', random_state=42))\n",
    "])\n",
    "\n",
    "# Configuración de StratifiedKFold para validación cruzada\n",
    "kf = StratifiedKFold(n_splits=5, shuffle=True, random_state=42)\n",
    "\n",
    "# Validación cruzada en el conjunto de entrenamiento\n",
    "cv_scores = cross_val_score(pipe_tf_idf_rf, X_train, y_train, cv=kf, scoring='f1_weighted', n_jobs=-1)\n",
    "\n",
    "print(\"Scores de F1 por fold en entrenamiento:\", cv_scores)\n",
    "print(\"F1 promedio:\", cv_scores.mean())\n",
    "print(\"F1 desviación estándar:\", cv_scores.std())\n",
    "\n",
    "# Entrenamiento final en el conjunto de entrenamiento completo\n",
    "pipe_tf_idf_rf.fit(X_train, y_train)\n",
    "\n",
    "# Evaluación en el conjunto de prueba\n",
    "y_pred = pipe_tf_idf_rf.predict(X_test)\n",
    "print(\"Reporte en el conjunto de prueba:\")\n",
    "print(classification_report(y_test, y_pred))"
   ]
  },
  {
   "cell_type": "markdown",
   "metadata": {},
   "source": [
    "### Binary Vectorizer"
   ]
  },
  {
   "cell_type": "code",
   "execution_count": 9,
   "metadata": {},
   "outputs": [
    {
     "name": "stdout",
     "output_type": "stream",
     "text": [
      "Scores de F1 por fold en entrenamiento: [0.4579486  0.64523032 0.5764455  0.53598667 0.50144648]\n",
      "F1 promedio: 0.5434115140364525\n",
      "F1 desviación estándar: 0.0641535884671712\n",
      "Reporte en el conjunto de prueba:\n",
      "                      precision    recall  f1-score   support\n",
      "\n",
      "Ciencia y Tecnología       0.73      0.76      0.74        21\n",
      "             Cultura       1.00      0.17      0.29         6\n",
      "            Deportes       1.00      0.62      0.76        13\n",
      "            Economía       0.72      0.89      0.80        37\n",
      "\n",
      "            accuracy                           0.75        77\n",
      "           macro avg       0.86      0.61      0.65        77\n",
      "        weighted avg       0.79      0.75      0.74        77\n",
      "\n"
     ]
    }
   ],
   "source": [
    "\n",
    "# Definición del pipeline con Random Forest\n",
    "pipe_bin_rf = Pipeline([\n",
    "    ('text_representation', CountVectorizer(binary=True, ngram_range=(1, 1))), \n",
    "    ('classifier', RandomForestClassifier(class_weight='balanced', random_state=42))\n",
    "])\n",
    "\n",
    "# Configuración de StratifiedKFold para validación cruzada\n",
    "kf = StratifiedKFold(n_splits=5, shuffle=True, random_state=42)\n",
    "\n",
    "# Validación cruzada en el conjunto de entrenamiento\n",
    "cv_scores = cross_val_score(pipe_bin_rf, X_train, y_train, cv=kf, scoring='f1_weighted', n_jobs=-1)\n",
    "\n",
    "print(\"Scores de F1 por fold en entrenamiento:\", cv_scores)\n",
    "print(\"F1 promedio:\", cv_scores.mean())\n",
    "print(\"F1 desviación estándar:\", cv_scores.std())\n",
    "\n",
    "# Entrenamiento final en el conjunto de entrenamiento completo\n",
    "pipe_bin_rf.fit(X_train, y_train)\n",
    "\n",
    "# Evaluación en el conjunto de prueba\n",
    "y_pred = pipe_bin_rf.predict(X_test)\n",
    "print(\"Reporte en el conjunto de prueba:\")\n",
    "print(classification_report(y_test, y_pred))"
   ]
  },
  {
   "cell_type": "markdown",
   "metadata": {},
   "source": [
    "### Frequency Vectorizer"
   ]
  },
  {
   "cell_type": "code",
   "execution_count": 10,
   "metadata": {},
   "outputs": [
    {
     "name": "stdout",
     "output_type": "stream",
     "text": [
      "Scores de F1 por fold en entrenamiento: [0.49528536 0.67367376 0.6314598  0.58973909 0.56713857]\n",
      "F1 promedio: 0.5914593139653173\n",
      "F1 desviación estándar: 0.06033761816626693\n",
      "Reporte en el conjunto de prueba:\n",
      "                      precision    recall  f1-score   support\n",
      "\n",
      "Ciencia y Tecnología       0.93      0.62      0.74        21\n",
      "             Cultura       1.00      0.17      0.29         6\n",
      "            Deportes       0.91      0.77      0.83        13\n",
      "            Economía       0.71      0.97      0.82        37\n",
      "\n",
      "            accuracy                           0.78        77\n",
      "           macro avg       0.89      0.63      0.67        77\n",
      "        weighted avg       0.82      0.78      0.76        77\n",
      "\n"
     ]
    }
   ],
   "source": [
    "\n",
    "# Definición del pipeline con Random Forest\n",
    "pipe_frec_rf = Pipeline([\n",
    "    ('text_representation', CountVectorizer(ngram_range=(1, 1))), \n",
    "    ('classifier', RandomForestClassifier(class_weight='balanced', random_state=42))\n",
    "])\n",
    "\n",
    "# Configuración de StratifiedKFold para validación cruzada\n",
    "kf = StratifiedKFold(n_splits=5, shuffle=True, random_state=42)\n",
    "\n",
    "# Validación cruzada en el conjunto de entrenamiento\n",
    "cv_scores = cross_val_score(pipe_frec_rf, X_train, y_train, cv=kf, scoring='f1_weighted', n_jobs=-1)\n",
    "\n",
    "print(\"Scores de F1 por fold en entrenamiento:\", cv_scores)\n",
    "print(\"F1 promedio:\", cv_scores.mean())\n",
    "print(\"F1 desviación estándar:\", cv_scores.std())\n",
    "\n",
    "# Entrenamiento final en el conjunto de entrenamiento completo\n",
    "pipe_frec_rf.fit(X_train, y_train)\n",
    "\n",
    "# Evaluación en el conjunto de prueba\n",
    "y_pred = pipe_frec_rf.predict(X_test)\n",
    "print(\"Reporte en el conjunto de prueba:\")\n",
    "print(classification_report(y_test, y_pred))"
   ]
  },
  {
   "cell_type": "markdown",
   "metadata": {},
   "source": [
    "## Multinomial Naive Bayes"
   ]
  },
  {
   "cell_type": "markdown",
   "metadata": {},
   "source": [
    "### TF-IDF Vectorizer"
   ]
  },
  {
   "cell_type": "code",
   "execution_count": 11,
   "metadata": {},
   "outputs": [
    {
     "name": "stdout",
     "output_type": "stream",
     "text": [
      "Scores de F1 por fold en entrenamiento: [0.32559987 0.26422617 0.33413213 0.30533258 0.3049963 ]\n",
      "F1 promedio: 0.30685741062673977\n",
      "F1 desviación estándar: 0.024159477193668403\n",
      "Reporte en el conjunto de prueba:\n",
      "                      precision    recall  f1-score   support\n",
      "\n",
      "Ciencia y Tecnología       1.00      0.05      0.09        21\n",
      "             Cultura       0.00      0.00      0.00         6\n",
      "            Deportes       1.00      0.23      0.38        13\n",
      "            Economía       0.51      1.00      0.67        37\n",
      "\n",
      "            accuracy                           0.53        77\n",
      "           macro avg       0.63      0.32      0.28        77\n",
      "        weighted avg       0.69      0.53      0.41        77\n",
      "\n"
     ]
    },
    {
     "name": "stderr",
     "output_type": "stream",
     "text": [
      "/Users/sebastianloeza/anaconda3/lib/python3.11/site-packages/sklearn/metrics/_classification.py:1469: UndefinedMetricWarning: Precision and F-score are ill-defined and being set to 0.0 in labels with no predicted samples. Use `zero_division` parameter to control this behavior.\n",
      "  _warn_prf(average, modifier, msg_start, len(result))\n",
      "/Users/sebastianloeza/anaconda3/lib/python3.11/site-packages/sklearn/metrics/_classification.py:1469: UndefinedMetricWarning: Precision and F-score are ill-defined and being set to 0.0 in labels with no predicted samples. Use `zero_division` parameter to control this behavior.\n",
      "  _warn_prf(average, modifier, msg_start, len(result))\n",
      "/Users/sebastianloeza/anaconda3/lib/python3.11/site-packages/sklearn/metrics/_classification.py:1469: UndefinedMetricWarning: Precision and F-score are ill-defined and being set to 0.0 in labels with no predicted samples. Use `zero_division` parameter to control this behavior.\n",
      "  _warn_prf(average, modifier, msg_start, len(result))\n"
     ]
    }
   ],
   "source": [
    "pipe_bin_nb = Pipeline([\n",
    "    ('text_representation', TfidfVectorizer()), \n",
    "    ('classifier', MultinomialNB())\n",
    "])\n",
    "\n",
    "# Configuración de StratifiedKFold para validación cruzada\n",
    "kf = StratifiedKFold(n_splits=5, shuffle=True, random_state=42)\n",
    "\n",
    "# Validación cruzada en el conjunto de entrenamiento\n",
    "cv_scores = cross_val_score(pipe_bin_nb, X_train, y_train, cv=kf, scoring='f1_weighted', n_jobs=-1)\n",
    "\n",
    "print(\"Scores de F1 por fold en entrenamiento:\", cv_scores)\n",
    "print(\"F1 promedio:\", cv_scores.mean())\n",
    "print(\"F1 desviación estándar:\", cv_scores.std())\n",
    "\n",
    "# Entrenamiento final en el conjunto de entrenamiento completo\n",
    "pipe_bin_nb.fit(X_train, y_train)\n",
    "\n",
    "# Evaluación en el conjunto de prueba\n",
    "y_pred = pipe_bin_nb.predict(X_test)\n",
    "print(\"Reporte en el conjunto de prueba:\")\n",
    "print(classification_report(y_test, y_pred))"
   ]
  },
  {
   "cell_type": "markdown",
   "metadata": {},
   "source": [
    "### Binary Vectorizer"
   ]
  },
  {
   "cell_type": "code",
   "execution_count": 12,
   "metadata": {},
   "outputs": [
    {
     "name": "stdout",
     "output_type": "stream",
     "text": [
      "Scores de F1 por fold en entrenamiento: [0.65640409 0.72375367 0.68944508 0.69930849 0.63414653]\n",
      "F1 promedio: 0.6806115707891882\n",
      "F1 desviación estándar: 0.03172963149555861\n",
      "Reporte en el conjunto de prueba:\n",
      "                      precision    recall  f1-score   support\n",
      "\n",
      "Ciencia y Tecnología       0.93      0.67      0.78        21\n",
      "             Cultura       1.00      0.33      0.50         6\n",
      "            Deportes       0.92      0.92      0.92        13\n",
      "            Economía       0.77      0.97      0.86        37\n",
      "\n",
      "            accuracy                           0.83        77\n",
      "           macro avg       0.91      0.72      0.76        77\n",
      "        weighted avg       0.86      0.83      0.82        77\n",
      "\n"
     ]
    }
   ],
   "source": [
    "pipe_bin_nb = Pipeline([\n",
    "    ('text_representation', CountVectorizer(binary=True, ngram_range=(1, 1))), \n",
    "    ('classifier', MultinomialNB())\n",
    "])\n",
    "\n",
    "# Configuración de StratifiedKFold para validación cruzada\n",
    "kf = StratifiedKFold(n_splits=5, shuffle=True, random_state=42)\n",
    "\n",
    "# Validación cruzada en el conjunto de entrenamiento\n",
    "cv_scores = cross_val_score(pipe_bin_nb, X_train, y_train, cv=kf, scoring='f1_weighted', n_jobs=-1)\n",
    "\n",
    "print(\"Scores de F1 por fold en entrenamiento:\", cv_scores)\n",
    "print(\"F1 promedio:\", cv_scores.mean())\n",
    "print(\"F1 desviación estándar:\", cv_scores.std())\n",
    "\n",
    "# Entrenamiento final en el conjunto de entrenamiento completo\n",
    "pipe_bin_nb.fit(X_train, y_train)\n",
    "\n",
    "# Evaluación en el conjunto de prueba\n",
    "y_pred = pipe_bin_nb.predict(X_test)\n",
    "print(\"Reporte en el conjunto de prueba:\")\n",
    "print(classification_report(y_test, y_pred))"
   ]
  },
  {
   "cell_type": "markdown",
   "metadata": {},
   "source": [
    "### Frequency Vectorizer"
   ]
  },
  {
   "cell_type": "code",
   "execution_count": 13,
   "metadata": {},
   "outputs": [
    {
     "name": "stdout",
     "output_type": "stream",
     "text": [
      "Scores de F1 por fold en entrenamiento: [0.62970983 0.70342131 0.71397193 0.68567356 0.61949232]\n",
      "F1 promedio: 0.6704537898655392\n",
      "F1 desviación estándar: 0.038650920307811844\n",
      "Reporte en el conjunto de prueba:\n",
      "                      precision    recall  f1-score   support\n",
      "\n",
      "Ciencia y Tecnología       1.00      0.52      0.69        21\n",
      "             Cultura       1.00      0.50      0.67         6\n",
      "            Deportes       1.00      1.00      1.00        13\n",
      "            Economía       0.74      1.00      0.85        37\n",
      "\n",
      "            accuracy                           0.83        77\n",
      "           macro avg       0.94      0.76      0.80        77\n",
      "        weighted avg       0.88      0.83      0.82        77\n",
      "\n"
     ]
    }
   ],
   "source": [
    "pipe_frec_nb = Pipeline([\n",
    "    ('text_representation', CountVectorizer(ngram_range=(1, 1))), \n",
    "    ('classifier', MultinomialNB())\n",
    "])\n",
    "\n",
    "# Configuración de StratifiedKFold para validación cruzada\n",
    "kf = StratifiedKFold(n_splits=5, shuffle=True, random_state=42)\n",
    "\n",
    "# Validación cruzada en el conjunto de entrenamiento\n",
    "cv_scores = cross_val_score(pipe_frec_nb, X_train, y_train, cv=kf, scoring='f1_weighted', n_jobs=-1)\n",
    "\n",
    "print(\"Scores de F1 por fold en entrenamiento:\", cv_scores)\n",
    "print(\"F1 promedio:\", cv_scores.mean())\n",
    "print(\"F1 desviación estándar:\", cv_scores.std())\n",
    "\n",
    "# Entrenamiento final en el conjunto de entrenamiento completo\n",
    "pipe_frec_nb.fit(X_train, y_train)\n",
    "\n",
    "# Evaluación en el conjunto de prueba\n",
    "y_pred = pipe_frec_nb.predict(X_test)\n",
    "print(\"Reporte en el conjunto de prueba:\")\n",
    "print(classification_report(y_test, y_pred))"
   ]
  },
  {
   "cell_type": "markdown",
   "metadata": {},
   "source": [
    "## KNN\n"
   ]
  },
  {
   "cell_type": "markdown",
   "metadata": {},
   "source": [
    "### TF-IDF Vectorizer"
   ]
  },
  {
   "cell_type": "code",
   "execution_count": 14,
   "metadata": {},
   "outputs": [
    {
     "name": "stdout",
     "output_type": "stream",
     "text": [
      "Scores de F1 por fold en entrenamiento: [0.72422924 0.8370875  0.88205225 0.80003455 0.67613176]\n",
      "F1 promedio: 0.7839070605496359\n",
      "F1 desviación estándar: 0.07469630442417866\n",
      "Reporte en el conjunto de prueba:\n",
      "                      precision    recall  f1-score   support\n",
      "\n",
      "Ciencia y Tecnología       0.71      0.71      0.71        21\n",
      "             Cultura       0.71      0.83      0.77         6\n",
      "            Deportes       0.93      1.00      0.96        13\n",
      "            Economía       0.83      0.78      0.81        37\n",
      "\n",
      "            accuracy                           0.81        77\n",
      "           macro avg       0.80      0.83      0.81        77\n",
      "        weighted avg       0.81      0.81      0.80        77\n",
      "\n"
     ]
    }
   ],
   "source": [
    "# Definición del pipeline con KNeighborsClassifier\n",
    "pipe_tf_idf_knn = Pipeline([\n",
    "    ('text_representation', TfidfVectorizer()), \n",
    "    ('classifier', KNeighborsClassifier(n_neighbors=5))  # Ajusta 'n_neighbors' según lo necesario\n",
    "])\n",
    "\n",
    "# Configuración de StratifiedKFold para validación cruzada\n",
    "kf = StratifiedKFold(n_splits=5, shuffle=True, random_state=42)\n",
    "\n",
    "# Validación cruzada en el conjunto de entrenamiento\n",
    "cv_scores = cross_val_score(pipe_tf_idf_knn, X_train, y_train, cv=kf, scoring='f1_weighted', n_jobs=-1)\n",
    "\n",
    "print(\"Scores de F1 por fold en entrenamiento:\", cv_scores)\n",
    "print(\"F1 promedio:\", cv_scores.mean())\n",
    "print(\"F1 desviación estándar:\", cv_scores.std())\n",
    "\n",
    "# Entrenamiento final en el conjunto de entrenamiento completo\n",
    "pipe_tf_idf_knn.fit(X_train, y_train)\n",
    "\n",
    "# Evaluación en el conjunto de prueba\n",
    "y_pred = pipe_tf_idf_knn.predict(X_test)\n",
    "print(\"Reporte en el conjunto de prueba:\")\n",
    "print(classification_report(y_test, y_pred))"
   ]
  },
  {
   "cell_type": "markdown",
   "metadata": {},
   "source": [
    "### Binary Vectorizer"
   ]
  },
  {
   "cell_type": "code",
   "execution_count": 15,
   "metadata": {},
   "outputs": [
    {
     "name": "stdout",
     "output_type": "stream",
     "text": [
      "Scores de F1 por fold en entrenamiento: [0.16912505 0.17577852 0.36169532 0.47063847 0.09407601]\n",
      "F1 promedio: 0.25426267372498895\n",
      "F1 desviación estándar: 0.13959097699031997\n",
      "Reporte en el conjunto de prueba:\n",
      "                      precision    recall  f1-score   support\n",
      "\n",
      "Ciencia y Tecnología       0.75      0.14      0.24        21\n",
      "             Cultura       1.00      0.17      0.29         6\n",
      "            Deportes       0.19      1.00      0.32        13\n",
      "            Economía       1.00      0.08      0.15        37\n",
      "\n",
      "            accuracy                           0.26        77\n",
      "           macro avg       0.73      0.35      0.25        77\n",
      "        weighted avg       0.79      0.26      0.21        77\n",
      "\n"
     ]
    }
   ],
   "source": [
    "# Definición del pipeline con KNeighborsClassifier\n",
    "pipe_bin_knn = Pipeline([\n",
    "    ('text_representation', CountVectorizer(binary=True, ngram_range=(1, 1))), \n",
    "    ('classifier', KNeighborsClassifier(n_neighbors=5))  # Ajusta 'n_neighbors' según lo necesario\n",
    "])\n",
    "\n",
    "# Configuración de StratifiedKFold para validación cruzada\n",
    "kf = StratifiedKFold(n_splits=5, shuffle=True, random_state=42)\n",
    "\n",
    "# Validación cruzada en el conjunto de entrenamiento\n",
    "cv_scores = cross_val_score(pipe_bin_knn, X_train, y_train, cv=kf, scoring='f1_weighted', n_jobs=-1)\n",
    "\n",
    "print(\"Scores de F1 por fold en entrenamiento:\", cv_scores)\n",
    "print(\"F1 promedio:\", cv_scores.mean())\n",
    "print(\"F1 desviación estándar:\", cv_scores.std())\n",
    "\n",
    "# Entrenamiento final en el conjunto de entrenamiento completo\n",
    "pipe_bin_knn.fit(X_train, y_train)\n",
    "\n",
    "# Evaluación en el conjunto de prueba\n",
    "y_pred = pipe_bin_knn.predict(X_test)\n",
    "print(\"Reporte en el conjunto de prueba:\")\n",
    "print(classification_report(y_test, y_pred))"
   ]
  },
  {
   "cell_type": "markdown",
   "metadata": {},
   "source": [
    "###  Frequency Vectorizer"
   ]
  },
  {
   "cell_type": "code",
   "execution_count": 16,
   "metadata": {},
   "outputs": [
    {
     "name": "stdout",
     "output_type": "stream",
     "text": [
      "Scores de F1 por fold en entrenamiento: [0.29520031 0.29890029 0.36640605 0.3869679  0.2857723 ]\n",
      "F1 promedio: 0.3266493719390874\n",
      "F1 desviación estándar: 0.04159064445951241\n",
      "Reporte en el conjunto de prueba:\n",
      "                      precision    recall  f1-score   support\n",
      "\n",
      "Ciencia y Tecnología       0.28      0.33      0.30        21\n",
      "             Cultura       0.00      0.00      0.00         6\n",
      "            Deportes       0.19      0.23      0.21        13\n",
      "            Economía       0.51      0.49      0.50        37\n",
      "\n",
      "            accuracy                           0.36        77\n",
      "           macro avg       0.25      0.26      0.25        77\n",
      "        weighted avg       0.36      0.36      0.36        77\n",
      "\n"
     ]
    }
   ],
   "source": [
    "# Definición del pipeline con KNeighborsClassifier\n",
    "pipe_frec_knn = Pipeline([\n",
    "    ('text_representation', CountVectorizer(ngram_range=(1, 1))), \n",
    "    ('classifier', KNeighborsClassifier(n_neighbors=5))  # Ajusta 'n_neighbors' según lo necesario\n",
    "])\n",
    "\n",
    "# Configuración de StratifiedKFold para validación cruzada\n",
    "kf = StratifiedKFold(n_splits=5, shuffle=True, random_state=42)\n",
    "\n",
    "# Validación cruzada en el conjunto de entrenamiento\n",
    "cv_scores = cross_val_score(pipe_frec_knn, X_train, y_train, cv=kf, scoring='f1_weighted', n_jobs=-1)\n",
    "\n",
    "print(\"Scores de F1 por fold en entrenamiento:\", cv_scores)\n",
    "print(\"F1 promedio:\", cv_scores.mean())\n",
    "print(\"F1 desviación estándar:\", cv_scores.std())\n",
    "\n",
    "# Entrenamiento final en el conjunto de entrenamiento completo\n",
    "pipe_frec_knn.fit(X_train, y_train)\n",
    "\n",
    "# Evaluación en el conjunto de prueba\n",
    "y_pred = pipe_frec_knn.predict(X_test)\n",
    "print(\"Reporte en el conjunto de prueba:\")\n",
    "print(classification_report(y_test, y_pred))"
   ]
  },
  {
   "cell_type": "markdown",
   "metadata": {},
   "source": [
    "## SVC"
   ]
  },
  {
   "cell_type": "markdown",
   "metadata": {},
   "source": [
    "### TF-IDF Vectorizer"
   ]
  },
  {
   "cell_type": "code",
   "execution_count": 17,
   "metadata": {},
   "outputs": [
    {
     "name": "stdout",
     "output_type": "stream",
     "text": [
      "Scores de F1 por fold en entrenamiento: [0.64822955 0.67067486 0.75627906 0.64238084 0.6384042 ]\n",
      "F1 promedio: 0.6711937015823399\n",
      "F1 desviación estándar: 0.043982887352853425\n",
      "Reporte en el conjunto de prueba:\n",
      "                      precision    recall  f1-score   support\n",
      "\n",
      "Ciencia y Tecnología       0.80      0.57      0.67        21\n",
      "             Cultura       1.00      0.33      0.50         6\n",
      "            Deportes       1.00      1.00      1.00        13\n",
      "            Economía       0.72      0.92      0.81        37\n",
      "\n",
      "            accuracy                           0.79        77\n",
      "           macro avg       0.88      0.71      0.74        77\n",
      "        weighted avg       0.81      0.79      0.78        77\n",
      "\n"
     ]
    }
   ],
   "source": [
    "# Definición del pipeline con SVC\n",
    "pipe_tf_idf_svc = Pipeline([\n",
    "    ('text_representation', TfidfVectorizer()), \n",
    "    ('classifier', SVC(class_weight='balanced', random_state=42))  # Añadido class_weight='balanced' para manejar desbalance de clases\n",
    "])\n",
    "\n",
    "# Configuración de StratifiedKFold para validación cruzada\n",
    "kf = StratifiedKFold(n_splits=5, shuffle=True, random_state=42)\n",
    "\n",
    "# Validación cruzada en el conjunto de entrenamiento\n",
    "cv_scores = cross_val_score(pipe_tf_idf_svc, X_train, y_train, cv=kf, scoring='f1_weighted', n_jobs=-1)\n",
    "\n",
    "print(\"Scores de F1 por fold en entrenamiento:\", cv_scores)\n",
    "print(\"F1 promedio:\", cv_scores.mean())\n",
    "print(\"F1 desviación estándar:\", cv_scores.std())\n",
    "\n",
    "# Entrenamiento final en el conjunto de entrenamiento completo\n",
    "pipe_tf_idf_svc.fit(X_train, y_train)\n",
    "\n",
    "# Evaluación en el conjunto de prueba\n",
    "y_pred = pipe_tf_idf_svc.predict(X_test)\n",
    "print(\"Reporte en el conjunto de prueba:\")\n",
    "print(classification_report(y_test, y_pred))"
   ]
  },
  {
   "cell_type": "markdown",
   "metadata": {},
   "source": [
    "### Binary Vectorizer"
   ]
  },
  {
   "cell_type": "code",
   "execution_count": 18,
   "metadata": {},
   "outputs": [
    {
     "name": "stdout",
     "output_type": "stream",
     "text": [
      "Scores de F1 por fold en entrenamiento: [0.55008129 0.57429504 0.59860756 0.54331951 0.41540984]\n",
      "F1 promedio: 0.5363426485786228\n",
      "F1 desviación estándar: 0.06352869537274147\n",
      "Reporte en el conjunto de prueba:\n",
      "                      precision    recall  f1-score   support\n",
      "\n",
      "Ciencia y Tecnología       0.51      0.95      0.67        21\n",
      "             Cultura       1.00      0.17      0.29         6\n",
      "            Deportes       1.00      0.77      0.87        13\n",
      "            Economía       0.85      0.62      0.72        37\n",
      "\n",
      "            accuracy                           0.70        77\n",
      "           macro avg       0.84      0.63      0.64        77\n",
      "        weighted avg       0.80      0.70      0.70        77\n",
      "\n"
     ]
    }
   ],
   "source": [
    "# Definición del pipeline con SVC\n",
    "pipe_bin_svc = Pipeline([\n",
    "    ('text_representation', CountVectorizer(binary=True, ngram_range=(1, 1))), \n",
    "    ('classifier', SVC(class_weight='balanced', random_state=42))  # Añadido class_weight='balanced' para manejar desbalance de clases\n",
    "])\n",
    "\n",
    "# Configuración de StratifiedKFold para validación cruzada\n",
    "kf = StratifiedKFold(n_splits=5, shuffle=True, random_state=42)\n",
    "\n",
    "# Validación cruzada en el conjunto de entrenamiento\n",
    "cv_scores = cross_val_score(pipe_bin_svc, X_train, y_train, cv=kf, scoring='f1_weighted', n_jobs=-1)\n",
    "\n",
    "print(\"Scores de F1 por fold en entrenamiento:\", cv_scores)\n",
    "print(\"F1 promedio:\", cv_scores.mean())\n",
    "print(\"F1 desviación estándar:\", cv_scores.std())\n",
    "\n",
    "# Entrenamiento final en el conjunto de entrenamiento completo\n",
    "pipe_bin_svc.fit(X_train, y_train)\n",
    "\n",
    "# Evaluación en el conjunto de prueba\n",
    "y_pred = pipe_bin_svc.predict(X_test)\n",
    "print(\"Reporte en el conjunto de prueba:\")\n",
    "print(classification_report(y_test, y_pred))"
   ]
  },
  {
   "cell_type": "markdown",
   "metadata": {},
   "source": [
    "### Frequency Vectorizer"
   ]
  },
  {
   "cell_type": "code",
   "execution_count": 19,
   "metadata": {},
   "outputs": [
    {
     "name": "stdout",
     "output_type": "stream",
     "text": [
      "Scores de F1 por fold en entrenamiento: [0.63461938 0.51471425 0.65851825 0.58398278 0.54233071]\n",
      "F1 promedio: 0.5868330740616887\n",
      "F1 desviación estándar: 0.05405923803218022\n",
      "Reporte en el conjunto de prueba:\n",
      "                      precision    recall  f1-score   support\n",
      "\n",
      "Ciencia y Tecnología       0.51      0.86      0.64        21\n",
      "             Cultura       0.29      0.33      0.31         6\n",
      "            Deportes       0.60      0.69      0.64        13\n",
      "            Economía       0.80      0.43      0.56        37\n",
      "\n",
      "            accuracy                           0.58        77\n",
      "           macro avg       0.55      0.58      0.54        77\n",
      "        weighted avg       0.65      0.58      0.58        77\n",
      "\n"
     ]
    }
   ],
   "source": [
    "# Definición del pipeline con SVC\n",
    "pipe_frec_svc = Pipeline([\n",
    "    ('text_representation', CountVectorizer(ngram_range=(1, 1))), \n",
    "    ('classifier', SVC(class_weight='balanced', random_state=42))  # Añadido class_weight='balanced' para manejar desbalance de clases\n",
    "])\n",
    "\n",
    "# Configuración de StratifiedKFold para validación cruzada\n",
    "kf = StratifiedKFold(n_splits=5, shuffle=True, random_state=42)\n",
    "\n",
    "# Validación cruzada en el conjunto de entrenamiento\n",
    "cv_scores = cross_val_score(pipe_frec_svc, X_train, y_train, cv=kf, scoring='f1_weighted', n_jobs=-1)\n",
    "\n",
    "print(\"Scores de F1 por fold en entrenamiento:\", cv_scores)\n",
    "print(\"F1 promedio:\", cv_scores.mean())\n",
    "print(\"F1 desviación estándar:\", cv_scores.std())\n",
    "\n",
    "# Entrenamiento final en el conjunto de entrenamiento completo\n",
    "pipe_frec_svc.fit(X_train, y_train)\n",
    "\n",
    "# Evaluación en el conjunto de prueba\n",
    "y_pred = pipe_frec_svc.predict(X_test)\n",
    "print(\"Reporte en el conjunto de prueba:\")\n",
    "print(classification_report(y_test, y_pred))"
   ]
  }
 ],
 "metadata": {
  "kernelspec": {
   "display_name": "base",
   "language": "python",
   "name": "python3"
  },
  "language_info": {
   "codemirror_mode": {
    "name": "ipython",
    "version": 3
   },
   "file_extension": ".py",
   "mimetype": "text/x-python",
   "name": "python",
   "nbconvert_exporter": "python",
   "pygments_lexer": "ipython3",
   "version": "3.11.5"
  }
 },
 "nbformat": 4,
 "nbformat_minor": 2
}
