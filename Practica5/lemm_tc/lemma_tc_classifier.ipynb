{
 "cells": [
  {
   "cell_type": "code",
   "execution_count": 1,
   "metadata": {},
   "outputs": [],
   "source": [
    "from sklearn.neighbors import KNeighborsClassifier\n",
    "from sklearn.svm import SVC\n",
    "from sklearn.feature_extraction.text import TfidfVectorizer, CountVectorizer\n",
    "from sklearn.ensemble import RandomForestClassifier\n",
    "from sklearn.linear_model import LogisticRegression\n",
    "from sklearn.naive_bayes import MultinomialNB\n",
    "from sklearn.metrics import classification_report\n",
    "from sklearn.pipeline import Pipeline\n",
    "from sklearn.model_selection import train_test_split, StratifiedKFold, cross_val_score\n",
    "import pandas as pd\n",
    "import numpy as np"
   ]
  },
  {
   "cell_type": "code",
   "execution_count": 2,
   "metadata": {},
   "outputs": [
    {
     "data": {
      "text/html": [
       "<div>\n",
       "<style scoped>\n",
       "    .dataframe tbody tr th:only-of-type {\n",
       "        vertical-align: middle;\n",
       "    }\n",
       "\n",
       "    .dataframe tbody tr th {\n",
       "        vertical-align: top;\n",
       "    }\n",
       "\n",
       "    .dataframe thead th {\n",
       "        text-align: right;\n",
       "    }\n",
       "</style>\n",
       "<table border=\"1\" class=\"dataframe\">\n",
       "  <thead>\n",
       "    <tr style=\"text-align: right;\">\n",
       "      <th></th>\n",
       "      <th>features</th>\n",
       "      <th>section</th>\n",
       "    </tr>\n",
       "  </thead>\n",
       "  <tbody>\n",
       "    <tr>\n",
       "      <th>0</th>\n",
       "      <td>Récord de 96 mil asistente para pelea Dubois c...</td>\n",
       "      <td>Deportes</td>\n",
       "    </tr>\n",
       "    <tr>\n",
       "      <th>1</th>\n",
       "      <td>América no estar para formar jugador , decir J...</td>\n",
       "      <td>Deportes</td>\n",
       "    </tr>\n",
       "    <tr>\n",
       "      <th>2</th>\n",
       "      <td>Fátima Herrera , sin miedo a nada , hacer hist...</td>\n",
       "      <td>Deportes</td>\n",
       "    </tr>\n",
       "    <tr>\n",
       "      <th>3</th>\n",
       "      <td>Pumas femenil dejar escapar el tres punto en c...</td>\n",
       "      <td>Deportes</td>\n",
       "    </tr>\n",
       "    <tr>\n",
       "      <th>4</th>\n",
       "      <td>Cae dupla Zverev-Alcaraz él dupla Carlos Alcar...</td>\n",
       "      <td>Deportes</td>\n",
       "    </tr>\n",
       "  </tbody>\n",
       "</table>\n",
       "</div>"
      ],
      "text/plain": [
       "                                            features   section\n",
       "0  Récord de 96 mil asistente para pelea Dubois c...  Deportes\n",
       "1  América no estar para formar jugador , decir J...  Deportes\n",
       "2  Fátima Herrera , sin miedo a nada , hacer hist...  Deportes\n",
       "3  Pumas femenil dejar escapar el tres punto en c...  Deportes\n",
       "4  Cae dupla Zverev-Alcaraz él dupla Carlos Alcar...  Deportes"
      ]
     },
     "execution_count": 2,
     "metadata": {},
     "output_type": "execute_result"
    }
   ],
   "source": [
    "data = pd.read_csv('lemma_tc_classifier_corpus.csv')\n",
    "data.head()"
   ]
  },
  {
   "cell_type": "code",
   "execution_count": 3,
   "metadata": {},
   "outputs": [
    {
     "data": {
      "text/plain": [
       "section\n",
       "Economía                172\n",
       "Ciencia y Tecnología     90\n",
       "Deportes                 73\n",
       "Cultura                  49\n",
       "Name: count, dtype: int64"
      ]
     },
     "execution_count": 3,
     "metadata": {},
     "output_type": "execute_result"
    }
   ],
   "source": [
    "data['section'].value_counts()"
   ]
  },
  {
   "cell_type": "code",
   "execution_count": 4,
   "metadata": {},
   "outputs": [],
   "source": [
    "X_train, X_test, y_train, y_test = train_test_split(data['features'], data['section'], test_size=0.2, random_state=42)"
   ]
  },
  {
   "cell_type": "markdown",
   "metadata": {},
   "source": [
    "## Logistic Regresion"
   ]
  },
  {
   "cell_type": "markdown",
   "metadata": {},
   "source": [
    "### TF-IDF Vectorizer"
   ]
  },
  {
   "cell_type": "code",
   "execution_count": 5,
   "metadata": {},
   "outputs": [
    {
     "name": "stdout",
     "output_type": "stream",
     "text": [
      "Scores de F1 por fold en entrenamiento: [0.81348578 0.8217481  0.83336854 0.8851931  0.76409055]\n",
      "F1 promedio: 0.8235772151495289\n",
      "F1 desviación estándar: 0.03882327495059958\n",
      "Reporte en el conjunto de prueba:\n",
      "                      precision    recall  f1-score   support\n",
      "\n",
      "Ciencia y Tecnología       0.78      0.86      0.82        21\n",
      "             Cultura       0.80      0.67      0.73         6\n",
      "            Deportes       0.93      1.00      0.96        13\n",
      "            Economía       0.89      0.84      0.86        37\n",
      "\n",
      "            accuracy                           0.86        77\n",
      "           macro avg       0.85      0.84      0.84        77\n",
      "        weighted avg       0.86      0.86      0.86        77\n",
      "\n"
     ]
    }
   ],
   "source": [
    "pipe_tf_idf_log = Pipeline([\n",
    "                                ('text_representation', TfidfVectorizer()), \n",
    "                                ('classifier', LogisticRegression(class_weight='balanced'))\n",
    "])\n",
    "\n",
    "# Configuración de StratifiedKFold para validación cruzada\n",
    "kf = StratifiedKFold(n_splits=5, shuffle=True, random_state=42)\n",
    "\n",
    "# Validación cruzada en el conjunto de entrenamiento\n",
    "cv_scores = cross_val_score(pipe_tf_idf_log, X_train, y_train, cv=kf, scoring='f1_weighted', n_jobs=-1)\n",
    "\n",
    "print(\"Scores de F1 por fold en entrenamiento:\", cv_scores)\n",
    "print(\"F1 promedio:\", cv_scores.mean())\n",
    "print(\"F1 desviación estándar:\", cv_scores.std())\n",
    "\n",
    "# Entrenamiento final en el conjunto de entrenamiento completo\n",
    "pipe_tf_idf_log.fit(X_train, y_train)\n",
    "\n",
    "# Evaluación en el conjunto de prueba\n",
    "y_pred = pipe_tf_idf_log.predict(X_test)\n",
    "print(\"Reporte en el conjunto de prueba:\")\n",
    "print(classification_report(y_test, y_pred))\n"
   ]
  },
  {
   "cell_type": "markdown",
   "metadata": {},
   "source": [
    "### Binary Vectorizer"
   ]
  },
  {
   "cell_type": "code",
   "execution_count": 6,
   "metadata": {},
   "outputs": [
    {
     "name": "stdout",
     "output_type": "stream",
     "text": [
      "Scores de F1 por fold en entrenamiento: [0.76908978 0.71138283 0.69107235 0.78546299 0.71043571]\n",
      "F1 promedio: 0.7334887342302491\n",
      "F1 desviación estándar: 0.03684567891079506\n",
      "Reporte en el conjunto de prueba:\n",
      "                      precision    recall  f1-score   support\n",
      "\n",
      "Ciencia y Tecnología       0.70      0.90      0.79        21\n",
      "             Cultura       0.80      0.67      0.73         6\n",
      "            Deportes       1.00      1.00      1.00        13\n",
      "            Economía       0.94      0.81      0.87        37\n",
      "\n",
      "            accuracy                           0.86        77\n",
      "           macro avg       0.86      0.85      0.85        77\n",
      "        weighted avg       0.87      0.86      0.86        77\n",
      "\n"
     ]
    }
   ],
   "source": [
    "pipe_bin_log = Pipeline([\n",
    "                                ('text_representation', CountVectorizer(binary=True, ngram_range=(1, 1))), \n",
    "                                ('classifier', LogisticRegression(class_weight='balanced'))\n",
    "])\n",
    "\n",
    "# Configuración de StratifiedKFold para validación cruzada\n",
    "kf = StratifiedKFold(n_splits=5, shuffle=True, random_state=42)\n",
    "\n",
    "# Validación cruzada en el conjunto de entrenamiento\n",
    "cv_scores = cross_val_score(pipe_bin_log, X_train, y_train, cv=kf, scoring='f1_weighted', n_jobs=-1)\n",
    "\n",
    "print(\"Scores de F1 por fold en entrenamiento:\", cv_scores)\n",
    "print(\"F1 promedio:\", cv_scores.mean())\n",
    "print(\"F1 desviación estándar:\", cv_scores.std())\n",
    "\n",
    "# Entrenamiento final en el conjunto de entrenamiento completo\n",
    "pipe_bin_log.fit(X_train, y_train)\n",
    "\n",
    "# Evaluación en el conjunto de prueba\n",
    "y_pred = pipe_bin_log.predict(X_test)\n",
    "print(\"Reporte en el conjunto de prueba:\")\n",
    "print(classification_report(y_test, y_pred))"
   ]
  },
  {
   "cell_type": "markdown",
   "metadata": {},
   "source": [
    "### Frequency Vectorizer"
   ]
  },
  {
   "cell_type": "code",
   "execution_count": 7,
   "metadata": {},
   "outputs": [
    {
     "name": "stderr",
     "output_type": "stream",
     "text": [
      "/Users/sebastianloeza/anaconda3/lib/python3.11/site-packages/sklearn/linear_model/_logistic.py:460: ConvergenceWarning: lbfgs failed to converge (status=1):\n",
      "STOP: TOTAL NO. of ITERATIONS REACHED LIMIT.\n",
      "\n",
      "Increase the number of iterations (max_iter) or scale the data as shown in:\n",
      "    https://scikit-learn.org/stable/modules/preprocessing.html\n",
      "Please also refer to the documentation for alternative solver options:\n",
      "    https://scikit-learn.org/stable/modules/linear_model.html#logistic-regression\n",
      "  n_iter_i = _check_optimize_result(\n",
      "/Users/sebastianloeza/anaconda3/lib/python3.11/site-packages/sklearn/linear_model/_logistic.py:460: ConvergenceWarning: lbfgs failed to converge (status=1):\n",
      "STOP: TOTAL NO. of ITERATIONS REACHED LIMIT.\n",
      "\n",
      "Increase the number of iterations (max_iter) or scale the data as shown in:\n",
      "    https://scikit-learn.org/stable/modules/preprocessing.html\n",
      "Please also refer to the documentation for alternative solver options:\n",
      "    https://scikit-learn.org/stable/modules/linear_model.html#logistic-regression\n",
      "  n_iter_i = _check_optimize_result(\n",
      "/Users/sebastianloeza/anaconda3/lib/python3.11/site-packages/sklearn/linear_model/_logistic.py:460: ConvergenceWarning: lbfgs failed to converge (status=1):\n",
      "STOP: TOTAL NO. of ITERATIONS REACHED LIMIT.\n",
      "\n",
      "Increase the number of iterations (max_iter) or scale the data as shown in:\n",
      "    https://scikit-learn.org/stable/modules/preprocessing.html\n",
      "Please also refer to the documentation for alternative solver options:\n",
      "    https://scikit-learn.org/stable/modules/linear_model.html#logistic-regression\n",
      "  n_iter_i = _check_optimize_result(\n",
      "/Users/sebastianloeza/anaconda3/lib/python3.11/site-packages/sklearn/linear_model/_logistic.py:460: ConvergenceWarning: lbfgs failed to converge (status=1):\n",
      "STOP: TOTAL NO. of ITERATIONS REACHED LIMIT.\n",
      "\n",
      "Increase the number of iterations (max_iter) or scale the data as shown in:\n",
      "    https://scikit-learn.org/stable/modules/preprocessing.html\n",
      "Please also refer to the documentation for alternative solver options:\n",
      "    https://scikit-learn.org/stable/modules/linear_model.html#logistic-regression\n",
      "  n_iter_i = _check_optimize_result(\n"
     ]
    },
    {
     "name": "stdout",
     "output_type": "stream",
     "text": [
      "Scores de F1 por fold en entrenamiento: [0.77201601 0.77226085 0.83420122 0.77326426 0.71979389]\n",
      "F1 promedio: 0.7743072440741817\n",
      "F1 desviación estándar: 0.036247813851581455\n",
      "Reporte en el conjunto de prueba:\n",
      "                      precision    recall  f1-score   support\n",
      "\n",
      "Ciencia y Tecnología       0.71      0.81      0.76        21\n",
      "             Cultura       0.56      0.83      0.67         6\n",
      "            Deportes       0.92      0.92      0.92        13\n",
      "            Economía       0.87      0.73      0.79        37\n",
      "\n",
      "            accuracy                           0.79        77\n",
      "           macro avg       0.76      0.82      0.78        77\n",
      "        weighted avg       0.81      0.79      0.80        77\n",
      "\n"
     ]
    },
    {
     "name": "stderr",
     "output_type": "stream",
     "text": [
      "/Users/sebastianloeza/anaconda3/lib/python3.11/site-packages/sklearn/linear_model/_logistic.py:460: ConvergenceWarning: lbfgs failed to converge (status=1):\n",
      "STOP: TOTAL NO. of ITERATIONS REACHED LIMIT.\n",
      "\n",
      "Increase the number of iterations (max_iter) or scale the data as shown in:\n",
      "    https://scikit-learn.org/stable/modules/preprocessing.html\n",
      "Please also refer to the documentation for alternative solver options:\n",
      "    https://scikit-learn.org/stable/modules/linear_model.html#logistic-regression\n",
      "  n_iter_i = _check_optimize_result(\n",
      "/Users/sebastianloeza/anaconda3/lib/python3.11/site-packages/sklearn/linear_model/_logistic.py:460: ConvergenceWarning: lbfgs failed to converge (status=1):\n",
      "STOP: TOTAL NO. of ITERATIONS REACHED LIMIT.\n",
      "\n",
      "Increase the number of iterations (max_iter) or scale the data as shown in:\n",
      "    https://scikit-learn.org/stable/modules/preprocessing.html\n",
      "Please also refer to the documentation for alternative solver options:\n",
      "    https://scikit-learn.org/stable/modules/linear_model.html#logistic-regression\n",
      "  n_iter_i = _check_optimize_result(\n"
     ]
    }
   ],
   "source": [
    "pipe_frec_log = Pipeline([\n",
    "                                ('text_representation', CountVectorizer(ngram_range=(1, 1))), \n",
    "                                ('classifier', LogisticRegression(class_weight='balanced'))\n",
    "])\n",
    "\n",
    "# Configuración de StratifiedKFold para validación cruzada\n",
    "kf = StratifiedKFold(n_splits=5, shuffle=True, random_state=42)\n",
    "\n",
    "# Validación cruzada en el conjunto de entrenamiento\n",
    "cv_scores = cross_val_score(pipe_frec_log, X_train, y_train, cv=kf, scoring='f1_weighted', n_jobs=-1)\n",
    "\n",
    "print(\"Scores de F1 por fold en entrenamiento:\", cv_scores)\n",
    "print(\"F1 promedio:\", cv_scores.mean())\n",
    "print(\"F1 desviación estándar:\", cv_scores.std())\n",
    "\n",
    "# Entrenamiento final en el conjunto de entrenamiento completo\n",
    "pipe_frec_log.fit(X_train, y_train)\n",
    "\n",
    "# Evaluación en el conjunto de prueba\n",
    "y_pred = pipe_frec_log.predict(X_test)\n",
    "print(\"Reporte en el conjunto de prueba:\")\n",
    "print(classification_report(y_test, y_pred))"
   ]
  },
  {
   "cell_type": "markdown",
   "metadata": {},
   "source": [
    "## Random Forest"
   ]
  },
  {
   "cell_type": "markdown",
   "metadata": {},
   "source": [
    "###  TF-IDF Vectorizer"
   ]
  },
  {
   "cell_type": "code",
   "execution_count": 8,
   "metadata": {},
   "outputs": [
    {
     "name": "stdout",
     "output_type": "stream",
     "text": [
      "Scores de F1 por fold en entrenamiento: [0.5344086  0.67114821 0.6383464  0.53932498 0.54616048]\n",
      "F1 promedio: 0.5858777336839939\n",
      "F1 desviación estándar: 0.05730219072328221\n",
      "Reporte en el conjunto de prueba:\n",
      "                      precision    recall  f1-score   support\n",
      "\n",
      "Ciencia y Tecnología       0.75      0.57      0.65        21\n",
      "             Cultura       1.00      0.17      0.29         6\n",
      "            Deportes       1.00      0.77      0.87        13\n",
      "            Economía       0.68      0.92      0.78        37\n",
      "\n",
      "            accuracy                           0.74        77\n",
      "           macro avg       0.86      0.61      0.65        77\n",
      "        weighted avg       0.78      0.74      0.72        77\n",
      "\n"
     ]
    }
   ],
   "source": [
    "\n",
    "# Definición del pipeline con Random Forest\n",
    "pipe_tf_idf_rf = Pipeline([\n",
    "    ('text_representation', TfidfVectorizer()), \n",
    "    ('classifier', RandomForestClassifier(class_weight='balanced', random_state=42))\n",
    "])\n",
    "\n",
    "# Configuración de StratifiedKFold para validación cruzada\n",
    "kf = StratifiedKFold(n_splits=5, shuffle=True, random_state=42)\n",
    "\n",
    "# Validación cruzada en el conjunto de entrenamiento\n",
    "cv_scores = cross_val_score(pipe_tf_idf_rf, X_train, y_train, cv=kf, scoring='f1_weighted', n_jobs=-1)\n",
    "\n",
    "print(\"Scores de F1 por fold en entrenamiento:\", cv_scores)\n",
    "print(\"F1 promedio:\", cv_scores.mean())\n",
    "print(\"F1 desviación estándar:\", cv_scores.std())\n",
    "\n",
    "# Entrenamiento final en el conjunto de entrenamiento completo\n",
    "pipe_tf_idf_rf.fit(X_train, y_train)\n",
    "\n",
    "# Evaluación en el conjunto de prueba\n",
    "y_pred = pipe_tf_idf_rf.predict(X_test)\n",
    "print(\"Reporte en el conjunto de prueba:\")\n",
    "print(classification_report(y_test, y_pred))"
   ]
  },
  {
   "cell_type": "markdown",
   "metadata": {},
   "source": [
    "### Binary Vectorizer"
   ]
  },
  {
   "cell_type": "code",
   "execution_count": 9,
   "metadata": {},
   "outputs": [
    {
     "name": "stdout",
     "output_type": "stream",
     "text": [
      "Scores de F1 por fold en entrenamiento: [0.48712802 0.64408088 0.59438255 0.64823123 0.58385374]\n",
      "F1 promedio: 0.5915352834665742\n",
      "F1 desviación estándar: 0.05821247253165629\n",
      "Reporte en el conjunto de prueba:\n",
      "                      precision    recall  f1-score   support\n",
      "\n",
      "Ciencia y Tecnología       0.71      0.81      0.76        21\n",
      "             Cultura       0.50      0.17      0.25         6\n",
      "            Deportes       0.91      0.77      0.83        13\n",
      "            Economía       0.80      0.86      0.83        37\n",
      "\n",
      "            accuracy                           0.78        77\n",
      "           macro avg       0.73      0.65      0.67        77\n",
      "        weighted avg       0.77      0.78      0.77        77\n",
      "\n"
     ]
    }
   ],
   "source": [
    "\n",
    "# Definición del pipeline con Random Forest\n",
    "pipe_bin_rf = Pipeline([\n",
    "    ('text_representation', CountVectorizer(binary=True, ngram_range=(1, 1))), \n",
    "    ('classifier', RandomForestClassifier(class_weight='balanced', random_state=42))\n",
    "])\n",
    "\n",
    "# Configuración de StratifiedKFold para validación cruzada\n",
    "kf = StratifiedKFold(n_splits=5, shuffle=True, random_state=42)\n",
    "\n",
    "# Validación cruzada en el conjunto de entrenamiento\n",
    "cv_scores = cross_val_score(pipe_bin_rf, X_train, y_train, cv=kf, scoring='f1_weighted', n_jobs=-1)\n",
    "\n",
    "print(\"Scores de F1 por fold en entrenamiento:\", cv_scores)\n",
    "print(\"F1 promedio:\", cv_scores.mean())\n",
    "print(\"F1 desviación estándar:\", cv_scores.std())\n",
    "\n",
    "# Entrenamiento final en el conjunto de entrenamiento completo\n",
    "pipe_bin_rf.fit(X_train, y_train)\n",
    "\n",
    "# Evaluación en el conjunto de prueba\n",
    "y_pred = pipe_bin_rf.predict(X_test)\n",
    "print(\"Reporte en el conjunto de prueba:\")\n",
    "print(classification_report(y_test, y_pred))"
   ]
  },
  {
   "cell_type": "markdown",
   "metadata": {},
   "source": [
    "### Frequency Vectorizer"
   ]
  },
  {
   "cell_type": "code",
   "execution_count": 10,
   "metadata": {},
   "outputs": [
    {
     "name": "stdout",
     "output_type": "stream",
     "text": [
      "Scores de F1 por fold en entrenamiento: [0.51704788 0.7061946  0.65491316 0.6328892  0.63631224]\n",
      "F1 promedio: 0.6294714148794341\n",
      "F1 desviación estándar: 0.06201815431600479\n",
      "Reporte en el conjunto de prueba:\n",
      "                      precision    recall  f1-score   support\n",
      "\n",
      "Ciencia y Tecnología       0.80      0.76      0.78        21\n",
      "             Cultura       1.00      0.17      0.29         6\n",
      "            Deportes       1.00      0.85      0.92        13\n",
      "            Economía       0.76      0.92      0.83        37\n",
      "\n",
      "            accuracy                           0.81        77\n",
      "           macro avg       0.89      0.67      0.70        77\n",
      "        weighted avg       0.83      0.81      0.79        77\n",
      "\n"
     ]
    }
   ],
   "source": [
    "\n",
    "# Definición del pipeline con Random Forest\n",
    "pipe_frec_rf = Pipeline([\n",
    "    ('text_representation', CountVectorizer(ngram_range=(1, 1))), \n",
    "    ('classifier', RandomForestClassifier(class_weight='balanced', random_state=42))\n",
    "])\n",
    "\n",
    "# Configuración de StratifiedKFold para validación cruzada\n",
    "kf = StratifiedKFold(n_splits=5, shuffle=True, random_state=42)\n",
    "\n",
    "# Validación cruzada en el conjunto de entrenamiento\n",
    "cv_scores = cross_val_score(pipe_frec_rf, X_train, y_train, cv=kf, scoring='f1_weighted', n_jobs=-1)\n",
    "\n",
    "print(\"Scores de F1 por fold en entrenamiento:\", cv_scores)\n",
    "print(\"F1 promedio:\", cv_scores.mean())\n",
    "print(\"F1 desviación estándar:\", cv_scores.std())\n",
    "\n",
    "# Entrenamiento final en el conjunto de entrenamiento completo\n",
    "pipe_frec_rf.fit(X_train, y_train)\n",
    "\n",
    "# Evaluación en el conjunto de prueba\n",
    "y_pred = pipe_frec_rf.predict(X_test)\n",
    "print(\"Reporte en el conjunto de prueba:\")\n",
    "print(classification_report(y_test, y_pred))"
   ]
  },
  {
   "cell_type": "markdown",
   "metadata": {},
   "source": [
    "## Multinomial Naive Bayes"
   ]
  },
  {
   "cell_type": "markdown",
   "metadata": {},
   "source": [
    "### TF-IDF Vectorizer"
   ]
  },
  {
   "cell_type": "code",
   "execution_count": 11,
   "metadata": {},
   "outputs": [
    {
     "name": "stdout",
     "output_type": "stream",
     "text": [
      "Scores de F1 por fold en entrenamiento: [0.32559987 0.26422617 0.33413213 0.27160954 0.3049963 ]\n",
      "F1 promedio: 0.30011280230496923\n",
      "F1 desviación estándar: 0.02803940227309834\n",
      "Reporte en el conjunto de prueba:\n",
      "                      precision    recall  f1-score   support\n",
      "\n",
      "Ciencia y Tecnología       1.00      0.05      0.09        21\n",
      "             Cultura       0.00      0.00      0.00         6\n",
      "            Deportes       1.00      0.38      0.56        13\n",
      "            Economía       0.52      1.00      0.69        37\n",
      "\n",
      "            accuracy                           0.56        77\n",
      "           macro avg       0.63      0.36      0.33        77\n",
      "        weighted avg       0.69      0.56      0.45        77\n",
      "\n"
     ]
    },
    {
     "name": "stderr",
     "output_type": "stream",
     "text": [
      "/Users/sebastianloeza/anaconda3/lib/python3.11/site-packages/sklearn/metrics/_classification.py:1469: UndefinedMetricWarning: Precision and F-score are ill-defined and being set to 0.0 in labels with no predicted samples. Use `zero_division` parameter to control this behavior.\n",
      "  _warn_prf(average, modifier, msg_start, len(result))\n",
      "/Users/sebastianloeza/anaconda3/lib/python3.11/site-packages/sklearn/metrics/_classification.py:1469: UndefinedMetricWarning: Precision and F-score are ill-defined and being set to 0.0 in labels with no predicted samples. Use `zero_division` parameter to control this behavior.\n",
      "  _warn_prf(average, modifier, msg_start, len(result))\n",
      "/Users/sebastianloeza/anaconda3/lib/python3.11/site-packages/sklearn/metrics/_classification.py:1469: UndefinedMetricWarning: Precision and F-score are ill-defined and being set to 0.0 in labels with no predicted samples. Use `zero_division` parameter to control this behavior.\n",
      "  _warn_prf(average, modifier, msg_start, len(result))\n"
     ]
    }
   ],
   "source": [
    "pipe_bin_nb = Pipeline([\n",
    "    ('text_representation', TfidfVectorizer()), \n",
    "    ('classifier', MultinomialNB())\n",
    "])\n",
    "\n",
    "# Configuración de StratifiedKFold para validación cruzada\n",
    "kf = StratifiedKFold(n_splits=5, shuffle=True, random_state=42)\n",
    "\n",
    "# Validación cruzada en el conjunto de entrenamiento\n",
    "cv_scores = cross_val_score(pipe_bin_nb, X_train, y_train, cv=kf, scoring='f1_weighted', n_jobs=-1)\n",
    "\n",
    "print(\"Scores de F1 por fold en entrenamiento:\", cv_scores)\n",
    "print(\"F1 promedio:\", cv_scores.mean())\n",
    "print(\"F1 desviación estándar:\", cv_scores.std())\n",
    "\n",
    "# Entrenamiento final en el conjunto de entrenamiento completo\n",
    "pipe_bin_nb.fit(X_train, y_train)\n",
    "\n",
    "# Evaluación en el conjunto de prueba\n",
    "y_pred = pipe_bin_nb.predict(X_test)\n",
    "print(\"Reporte en el conjunto de prueba:\")\n",
    "print(classification_report(y_test, y_pred))"
   ]
  },
  {
   "cell_type": "markdown",
   "metadata": {},
   "source": [
    "### Binary Vectorizer"
   ]
  },
  {
   "cell_type": "code",
   "execution_count": 12,
   "metadata": {},
   "outputs": [
    {
     "name": "stdout",
     "output_type": "stream",
     "text": [
      "Scores de F1 por fold en entrenamiento: [0.77715124 0.74005203 0.7445484  0.74126539 0.70963016]\n",
      "F1 promedio: 0.7425294409834583\n",
      "F1 desviación estándar: 0.021414215400764842\n",
      "Reporte en el conjunto de prueba:\n",
      "                      precision    recall  f1-score   support\n",
      "\n",
      "Ciencia y Tecnología       0.89      0.76      0.82        21\n",
      "             Cultura       1.00      0.33      0.50         6\n",
      "            Deportes       0.87      1.00      0.93        13\n",
      "            Economía       0.86      0.97      0.91        37\n",
      "\n",
      "            accuracy                           0.87        77\n",
      "           macro avg       0.90      0.77      0.79        77\n",
      "        weighted avg       0.88      0.87      0.86        77\n",
      "\n"
     ]
    }
   ],
   "source": [
    "pipe_bin_nb = Pipeline([\n",
    "    ('text_representation', CountVectorizer(binary=True, ngram_range=(1, 1))), \n",
    "    ('classifier', MultinomialNB())\n",
    "])\n",
    "\n",
    "# Configuración de StratifiedKFold para validación cruzada\n",
    "kf = StratifiedKFold(n_splits=5, shuffle=True, random_state=42)\n",
    "\n",
    "# Validación cruzada en el conjunto de entrenamiento\n",
    "cv_scores = cross_val_score(pipe_bin_nb, X_train, y_train, cv=kf, scoring='f1_weighted', n_jobs=-1)\n",
    "\n",
    "print(\"Scores de F1 por fold en entrenamiento:\", cv_scores)\n",
    "print(\"F1 promedio:\", cv_scores.mean())\n",
    "print(\"F1 desviación estándar:\", cv_scores.std())\n",
    "\n",
    "# Entrenamiento final en el conjunto de entrenamiento completo\n",
    "pipe_bin_nb.fit(X_train, y_train)\n",
    "\n",
    "# Evaluación en el conjunto de prueba\n",
    "y_pred = pipe_bin_nb.predict(X_test)\n",
    "print(\"Reporte en el conjunto de prueba:\")\n",
    "print(classification_report(y_test, y_pred))"
   ]
  },
  {
   "cell_type": "markdown",
   "metadata": {},
   "source": [
    "### Frequency Vectorizer"
   ]
  },
  {
   "cell_type": "code",
   "execution_count": 13,
   "metadata": {},
   "outputs": [
    {
     "name": "stdout",
     "output_type": "stream",
     "text": [
      "Scores de F1 por fold en entrenamiento: [0.6679385  0.77235835 0.6924315  0.75548068 0.68439478]\n",
      "F1 promedio: 0.7145207643222344\n",
      "F1 desviación estándar: 0.041444707541880114\n",
      "Reporte en el conjunto de prueba:\n",
      "                      precision    recall  f1-score   support\n",
      "\n",
      "Ciencia y Tecnología       0.93      0.67      0.78        21\n",
      "             Cultura       0.75      0.50      0.60         6\n",
      "            Deportes       0.93      1.00      0.96        13\n",
      "            Economía       0.80      0.95      0.86        37\n",
      "\n",
      "            accuracy                           0.84        77\n",
      "           macro avg       0.85      0.78      0.80        77\n",
      "        weighted avg       0.85      0.84      0.84        77\n",
      "\n"
     ]
    }
   ],
   "source": [
    "pipe_frec_nb = Pipeline([\n",
    "    ('text_representation', CountVectorizer(ngram_range=(1, 1))), \n",
    "    ('classifier', MultinomialNB())\n",
    "])\n",
    "\n",
    "# Configuración de StratifiedKFold para validación cruzada\n",
    "kf = StratifiedKFold(n_splits=5, shuffle=True, random_state=42)\n",
    "\n",
    "# Validación cruzada en el conjunto de entrenamiento\n",
    "cv_scores = cross_val_score(pipe_frec_nb, X_train, y_train, cv=kf, scoring='f1_weighted', n_jobs=-1)\n",
    "\n",
    "print(\"Scores de F1 por fold en entrenamiento:\", cv_scores)\n",
    "print(\"F1 promedio:\", cv_scores.mean())\n",
    "print(\"F1 desviación estándar:\", cv_scores.std())\n",
    "\n",
    "# Entrenamiento final en el conjunto de entrenamiento completo\n",
    "pipe_frec_nb.fit(X_train, y_train)\n",
    "\n",
    "# Evaluación en el conjunto de prueba\n",
    "y_pred = pipe_frec_nb.predict(X_test)\n",
    "print(\"Reporte en el conjunto de prueba:\")\n",
    "print(classification_report(y_test, y_pred))"
   ]
  },
  {
   "cell_type": "markdown",
   "metadata": {},
   "source": [
    "## KNN\n"
   ]
  },
  {
   "cell_type": "markdown",
   "metadata": {},
   "source": [
    "### TF-IDF Vectorizer"
   ]
  },
  {
   "cell_type": "code",
   "execution_count": 14,
   "metadata": {},
   "outputs": [
    {
     "name": "stdout",
     "output_type": "stream",
     "text": [
      "Scores de F1 por fold en entrenamiento: [0.75564133 0.83702087 0.76183489 0.76028234 0.72830058]\n",
      "F1 promedio: 0.7686160014114425\n",
      "F1 desviación estándar: 0.03629968378857995\n",
      "Reporte en el conjunto de prueba:\n",
      "                      precision    recall  f1-score   support\n",
      "\n",
      "Ciencia y Tecnología       0.70      0.67      0.68        21\n",
      "             Cultura       0.50      0.67      0.57         6\n",
      "            Deportes       0.71      0.92      0.80        13\n",
      "            Economía       0.81      0.70      0.75        37\n",
      "\n",
      "            accuracy                           0.73        77\n",
      "           macro avg       0.68      0.74      0.70        77\n",
      "        weighted avg       0.74      0.73      0.73        77\n",
      "\n"
     ]
    }
   ],
   "source": [
    "# Definición del pipeline con KNeighborsClassifier\n",
    "pipe_tf_idf_knn = Pipeline([\n",
    "    ('text_representation', TfidfVectorizer()), \n",
    "    ('classifier', KNeighborsClassifier(n_neighbors=5))  # Ajusta 'n_neighbors' según lo necesario\n",
    "])\n",
    "\n",
    "# Configuración de StratifiedKFold para validación cruzada\n",
    "kf = StratifiedKFold(n_splits=5, shuffle=True, random_state=42)\n",
    "\n",
    "# Validación cruzada en el conjunto de entrenamiento\n",
    "cv_scores = cross_val_score(pipe_tf_idf_knn, X_train, y_train, cv=kf, scoring='f1_weighted', n_jobs=-1)\n",
    "\n",
    "print(\"Scores de F1 por fold en entrenamiento:\", cv_scores)\n",
    "print(\"F1 promedio:\", cv_scores.mean())\n",
    "print(\"F1 desviación estándar:\", cv_scores.std())\n",
    "\n",
    "# Entrenamiento final en el conjunto de entrenamiento completo\n",
    "pipe_tf_idf_knn.fit(X_train, y_train)\n",
    "\n",
    "# Evaluación en el conjunto de prueba\n",
    "y_pred = pipe_tf_idf_knn.predict(X_test)\n",
    "print(\"Reporte en el conjunto de prueba:\")\n",
    "print(classification_report(y_test, y_pred))"
   ]
  },
  {
   "cell_type": "markdown",
   "metadata": {},
   "source": [
    "### Binary Vectorizer"
   ]
  },
  {
   "cell_type": "code",
   "execution_count": 15,
   "metadata": {},
   "outputs": [
    {
     "name": "stdout",
     "output_type": "stream",
     "text": [
      "Scores de F1 por fold en entrenamiento: [0.21584101 0.32459909 0.40233857 0.51435766 0.2219804 ]\n",
      "F1 promedio: 0.33582334552063975\n",
      "F1 desviación estándar: 0.11294311338879534\n",
      "Reporte en el conjunto de prueba:\n",
      "                      precision    recall  f1-score   support\n",
      "\n",
      "Ciencia y Tecnología       0.80      0.38      0.52        21\n",
      "             Cultura       0.00      0.00      0.00         6\n",
      "            Deportes       0.19      0.92      0.31        13\n",
      "            Economía       1.00      0.08      0.15        37\n",
      "\n",
      "            accuracy                           0.30        77\n",
      "           macro avg       0.50      0.35      0.24        77\n",
      "        weighted avg       0.73      0.30      0.27        77\n",
      "\n"
     ]
    },
    {
     "name": "stderr",
     "output_type": "stream",
     "text": [
      "/Users/sebastianloeza/anaconda3/lib/python3.11/site-packages/sklearn/metrics/_classification.py:1469: UndefinedMetricWarning: Precision and F-score are ill-defined and being set to 0.0 in labels with no predicted samples. Use `zero_division` parameter to control this behavior.\n",
      "  _warn_prf(average, modifier, msg_start, len(result))\n",
      "/Users/sebastianloeza/anaconda3/lib/python3.11/site-packages/sklearn/metrics/_classification.py:1469: UndefinedMetricWarning: Precision and F-score are ill-defined and being set to 0.0 in labels with no predicted samples. Use `zero_division` parameter to control this behavior.\n",
      "  _warn_prf(average, modifier, msg_start, len(result))\n",
      "/Users/sebastianloeza/anaconda3/lib/python3.11/site-packages/sklearn/metrics/_classification.py:1469: UndefinedMetricWarning: Precision and F-score are ill-defined and being set to 0.0 in labels with no predicted samples. Use `zero_division` parameter to control this behavior.\n",
      "  _warn_prf(average, modifier, msg_start, len(result))\n"
     ]
    }
   ],
   "source": [
    "# Definición del pipeline con KNeighborsClassifier\n",
    "pipe_bin_knn = Pipeline([\n",
    "    ('text_representation', CountVectorizer(binary=True, ngram_range=(1, 1))), \n",
    "    ('classifier', KNeighborsClassifier(n_neighbors=5))  # Ajusta 'n_neighbors' según lo necesario\n",
    "])\n",
    "\n",
    "# Configuración de StratifiedKFold para validación cruzada\n",
    "kf = StratifiedKFold(n_splits=5, shuffle=True, random_state=42)\n",
    "\n",
    "# Validación cruzada en el conjunto de entrenamiento\n",
    "cv_scores = cross_val_score(pipe_bin_knn, X_train, y_train, cv=kf, scoring='f1_weighted', n_jobs=-1)\n",
    "\n",
    "print(\"Scores de F1 por fold en entrenamiento:\", cv_scores)\n",
    "print(\"F1 promedio:\", cv_scores.mean())\n",
    "print(\"F1 desviación estándar:\", cv_scores.std())\n",
    "\n",
    "# Entrenamiento final en el conjunto de entrenamiento completo\n",
    "pipe_bin_knn.fit(X_train, y_train)\n",
    "\n",
    "# Evaluación en el conjunto de prueba\n",
    "y_pred = pipe_bin_knn.predict(X_test)\n",
    "print(\"Reporte en el conjunto de prueba:\")\n",
    "print(classification_report(y_test, y_pred))"
   ]
  },
  {
   "cell_type": "markdown",
   "metadata": {},
   "source": [
    "###  Frequency Vectorizer"
   ]
  },
  {
   "cell_type": "code",
   "execution_count": 16,
   "metadata": {},
   "outputs": [
    {
     "name": "stdout",
     "output_type": "stream",
     "text": [
      "Scores de F1 por fold en entrenamiento: [0.43617512 0.47320014 0.48047966 0.52363071 0.36740928]\n",
      "F1 promedio: 0.45617898109870875\n",
      "F1 desviación estándar: 0.05236448111477808\n",
      "Reporte en el conjunto de prueba:\n",
      "                      precision    recall  f1-score   support\n",
      "\n",
      "Ciencia y Tecnología       0.50      0.48      0.49        21\n",
      "             Cultura       0.00      0.00      0.00         6\n",
      "            Deportes       0.33      0.15      0.21        13\n",
      "            Economía       0.55      0.76      0.64        37\n",
      "\n",
      "            accuracy                           0.52        77\n",
      "           macro avg       0.35      0.35      0.33        77\n",
      "        weighted avg       0.46      0.52      0.47        77\n",
      "\n"
     ]
    },
    {
     "name": "stderr",
     "output_type": "stream",
     "text": [
      "/Users/sebastianloeza/anaconda3/lib/python3.11/site-packages/sklearn/metrics/_classification.py:1469: UndefinedMetricWarning: Precision and F-score are ill-defined and being set to 0.0 in labels with no predicted samples. Use `zero_division` parameter to control this behavior.\n",
      "  _warn_prf(average, modifier, msg_start, len(result))\n",
      "/Users/sebastianloeza/anaconda3/lib/python3.11/site-packages/sklearn/metrics/_classification.py:1469: UndefinedMetricWarning: Precision and F-score are ill-defined and being set to 0.0 in labels with no predicted samples. Use `zero_division` parameter to control this behavior.\n",
      "  _warn_prf(average, modifier, msg_start, len(result))\n",
      "/Users/sebastianloeza/anaconda3/lib/python3.11/site-packages/sklearn/metrics/_classification.py:1469: UndefinedMetricWarning: Precision and F-score are ill-defined and being set to 0.0 in labels with no predicted samples. Use `zero_division` parameter to control this behavior.\n",
      "  _warn_prf(average, modifier, msg_start, len(result))\n"
     ]
    }
   ],
   "source": [
    "# Definición del pipeline con KNeighborsClassifier\n",
    "pipe_frec_knn = Pipeline([\n",
    "    ('text_representation', CountVectorizer(ngram_range=(1, 1))), \n",
    "    ('classifier', KNeighborsClassifier(n_neighbors=5))  # Ajusta 'n_neighbors' según lo necesario\n",
    "])\n",
    "\n",
    "# Configuración de StratifiedKFold para validación cruzada\n",
    "kf = StratifiedKFold(n_splits=5, shuffle=True, random_state=42)\n",
    "\n",
    "# Validación cruzada en el conjunto de entrenamiento\n",
    "cv_scores = cross_val_score(pipe_frec_knn, X_train, y_train, cv=kf, scoring='f1_weighted', n_jobs=-1)\n",
    "\n",
    "print(\"Scores de F1 por fold en entrenamiento:\", cv_scores)\n",
    "print(\"F1 promedio:\", cv_scores.mean())\n",
    "print(\"F1 desviación estándar:\", cv_scores.std())\n",
    "\n",
    "# Entrenamiento final en el conjunto de entrenamiento completo\n",
    "pipe_frec_knn.fit(X_train, y_train)\n",
    "\n",
    "# Evaluación en el conjunto de prueba\n",
    "y_pred = pipe_frec_knn.predict(X_test)\n",
    "print(\"Reporte en el conjunto de prueba:\")\n",
    "print(classification_report(y_test, y_pred))"
   ]
  },
  {
   "cell_type": "markdown",
   "metadata": {},
   "source": [
    "## SVC"
   ]
  },
  {
   "cell_type": "markdown",
   "metadata": {},
   "source": [
    "### TF-IDF Vectorizer"
   ]
  },
  {
   "cell_type": "code",
   "execution_count": 17,
   "metadata": {},
   "outputs": [
    {
     "name": "stdout",
     "output_type": "stream",
     "text": [
      "Scores de F1 por fold en entrenamiento: [0.69337379 0.75820276 0.72177003 0.67496305 0.69111517]\n",
      "F1 promedio: 0.7078849607946522\n",
      "F1 desviación estándar: 0.02932687873598235\n",
      "Reporte en el conjunto de prueba:\n",
      "                      precision    recall  f1-score   support\n",
      "\n",
      "Ciencia y Tecnología       0.83      0.71      0.77        21\n",
      "             Cultura       0.75      0.50      0.60         6\n",
      "            Deportes       1.00      1.00      1.00        13\n",
      "            Economía       0.79      0.89      0.84        37\n",
      "\n",
      "            accuracy                           0.83        77\n",
      "           macro avg       0.84      0.78      0.80        77\n",
      "        weighted avg       0.83      0.83      0.83        77\n",
      "\n"
     ]
    }
   ],
   "source": [
    "# Definición del pipeline con SVC\n",
    "pipe_tf_idf_svc = Pipeline([\n",
    "    ('text_representation', TfidfVectorizer()), \n",
    "    ('classifier', SVC(class_weight='balanced', random_state=42))  # Añadido class_weight='balanced' para manejar desbalance de clases\n",
    "])\n",
    "\n",
    "# Configuración de StratifiedKFold para validación cruzada\n",
    "kf = StratifiedKFold(n_splits=5, shuffle=True, random_state=42)\n",
    "\n",
    "# Validación cruzada en el conjunto de entrenamiento\n",
    "cv_scores = cross_val_score(pipe_tf_idf_svc, X_train, y_train, cv=kf, scoring='f1_weighted', n_jobs=-1)\n",
    "\n",
    "print(\"Scores de F1 por fold en entrenamiento:\", cv_scores)\n",
    "print(\"F1 promedio:\", cv_scores.mean())\n",
    "print(\"F1 desviación estándar:\", cv_scores.std())\n",
    "\n",
    "# Entrenamiento final en el conjunto de entrenamiento completo\n",
    "pipe_tf_idf_svc.fit(X_train, y_train)\n",
    "\n",
    "# Evaluación en el conjunto de prueba\n",
    "y_pred = pipe_tf_idf_svc.predict(X_test)\n",
    "print(\"Reporte en el conjunto de prueba:\")\n",
    "print(classification_report(y_test, y_pred))"
   ]
  },
  {
   "cell_type": "markdown",
   "metadata": {},
   "source": [
    "### Binary Vectorizer"
   ]
  },
  {
   "cell_type": "code",
   "execution_count": 18,
   "metadata": {},
   "outputs": [
    {
     "name": "stdout",
     "output_type": "stream",
     "text": [
      "Scores de F1 por fold en entrenamiento: [0.54814272 0.62254321 0.66208873 0.66156518 0.56112412]\n",
      "F1 promedio: 0.6110927926331197\n",
      "F1 desviación estándar: 0.048453565652234756\n",
      "Reporte en el conjunto de prueba:\n",
      "                      precision    recall  f1-score   support\n",
      "\n",
      "Ciencia y Tecnología       0.56      0.95      0.70        21\n",
      "             Cultura       0.00      0.00      0.00         6\n",
      "            Deportes       0.91      0.77      0.83        13\n",
      "            Economía       0.90      0.73      0.81        37\n",
      "\n",
      "            accuracy                           0.74        77\n",
      "           macro avg       0.59      0.61      0.59        77\n",
      "        weighted avg       0.74      0.74      0.72        77\n",
      "\n"
     ]
    },
    {
     "name": "stderr",
     "output_type": "stream",
     "text": [
      "/Users/sebastianloeza/anaconda3/lib/python3.11/site-packages/sklearn/metrics/_classification.py:1469: UndefinedMetricWarning: Precision and F-score are ill-defined and being set to 0.0 in labels with no predicted samples. Use `zero_division` parameter to control this behavior.\n",
      "  _warn_prf(average, modifier, msg_start, len(result))\n",
      "/Users/sebastianloeza/anaconda3/lib/python3.11/site-packages/sklearn/metrics/_classification.py:1469: UndefinedMetricWarning: Precision and F-score are ill-defined and being set to 0.0 in labels with no predicted samples. Use `zero_division` parameter to control this behavior.\n",
      "  _warn_prf(average, modifier, msg_start, len(result))\n",
      "/Users/sebastianloeza/anaconda3/lib/python3.11/site-packages/sklearn/metrics/_classification.py:1469: UndefinedMetricWarning: Precision and F-score are ill-defined and being set to 0.0 in labels with no predicted samples. Use `zero_division` parameter to control this behavior.\n",
      "  _warn_prf(average, modifier, msg_start, len(result))\n"
     ]
    }
   ],
   "source": [
    "# Definición del pipeline con SVC\n",
    "pipe_bin_svc = Pipeline([\n",
    "    ('text_representation', CountVectorizer(binary=True, ngram_range=(1, 1))), \n",
    "    ('classifier', SVC(class_weight='balanced', random_state=42))  # Añadido class_weight='balanced' para manejar desbalance de clases\n",
    "])\n",
    "\n",
    "# Configuración de StratifiedKFold para validación cruzada\n",
    "kf = StratifiedKFold(n_splits=5, shuffle=True, random_state=42)\n",
    "\n",
    "# Validación cruzada en el conjunto de entrenamiento\n",
    "cv_scores = cross_val_score(pipe_bin_svc, X_train, y_train, cv=kf, scoring='f1_weighted', n_jobs=-1)\n",
    "\n",
    "print(\"Scores de F1 por fold en entrenamiento:\", cv_scores)\n",
    "print(\"F1 promedio:\", cv_scores.mean())\n",
    "print(\"F1 desviación estándar:\", cv_scores.std())\n",
    "\n",
    "# Entrenamiento final en el conjunto de entrenamiento completo\n",
    "pipe_bin_svc.fit(X_train, y_train)\n",
    "\n",
    "# Evaluación en el conjunto de prueba\n",
    "y_pred = pipe_bin_svc.predict(X_test)\n",
    "print(\"Reporte en el conjunto de prueba:\")\n",
    "print(classification_report(y_test, y_pred))"
   ]
  },
  {
   "cell_type": "markdown",
   "metadata": {},
   "source": [
    "### Frequency Vectorizer"
   ]
  },
  {
   "cell_type": "code",
   "execution_count": 19,
   "metadata": {},
   "outputs": [
    {
     "name": "stdout",
     "output_type": "stream",
     "text": [
      "Scores de F1 por fold en entrenamiento: [0.68676765 0.50172859 0.64415912 0.60236925 0.59714249]\n",
      "F1 promedio: 0.6064334191168996\n",
      "F1 desviación estándar: 0.06155121191822226\n",
      "Reporte en el conjunto de prueba:\n",
      "                      precision    recall  f1-score   support\n",
      "\n",
      "Ciencia y Tecnología       0.53      0.86      0.65        21\n",
      "             Cultura       0.44      0.67      0.53         6\n",
      "            Deportes       0.67      0.77      0.71        13\n",
      "            Economía       0.84      0.43      0.57        37\n",
      "\n",
      "            accuracy                           0.62        77\n",
      "           macro avg       0.62      0.68      0.62        77\n",
      "        weighted avg       0.70      0.62      0.62        77\n",
      "\n"
     ]
    }
   ],
   "source": [
    "# Definición del pipeline con SVC\n",
    "pipe_frec_svc = Pipeline([\n",
    "    ('text_representation', CountVectorizer(ngram_range=(1, 1))), \n",
    "    ('classifier', SVC(class_weight='balanced', random_state=42))  # Añadido class_weight='balanced' para manejar desbalance de clases\n",
    "])\n",
    "\n",
    "# Configuración de StratifiedKFold para validación cruzada\n",
    "kf = StratifiedKFold(n_splits=5, shuffle=True, random_state=42)\n",
    "\n",
    "# Validación cruzada en el conjunto de entrenamiento\n",
    "cv_scores = cross_val_score(pipe_frec_svc, X_train, y_train, cv=kf, scoring='f1_weighted', n_jobs=-1)\n",
    "\n",
    "print(\"Scores de F1 por fold en entrenamiento:\", cv_scores)\n",
    "print(\"F1 promedio:\", cv_scores.mean())\n",
    "print(\"F1 desviación estándar:\", cv_scores.std())\n",
    "\n",
    "# Entrenamiento final en el conjunto de entrenamiento completo\n",
    "pipe_frec_svc.fit(X_train, y_train)\n",
    "\n",
    "# Evaluación en el conjunto de prueba\n",
    "y_pred = pipe_frec_svc.predict(X_test)\n",
    "print(\"Reporte en el conjunto de prueba:\")\n",
    "print(classification_report(y_test, y_pred))"
   ]
  }
 ],
 "metadata": {
  "kernelspec": {
   "display_name": "base",
   "language": "python",
   "name": "python3"
  },
  "language_info": {
   "codemirror_mode": {
    "name": "ipython",
    "version": 3
   },
   "file_extension": ".py",
   "mimetype": "text/x-python",
   "name": "python",
   "nbconvert_exporter": "python",
   "pygments_lexer": "ipython3",
   "version": "3.11.5"
  }
 },
 "nbformat": 4,
 "nbformat_minor": 2
}
