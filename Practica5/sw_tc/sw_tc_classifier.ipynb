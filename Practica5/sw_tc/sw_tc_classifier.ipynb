{
 "cells": [
  {
   "cell_type": "code",
   "execution_count": 1,
   "metadata": {},
   "outputs": [],
   "source": [
    "from sklearn.neighbors import KNeighborsClassifier\n",
    "from sklearn.svm import SVC\n",
    "from sklearn.feature_extraction.text import TfidfVectorizer, CountVectorizer\n",
    "from sklearn.ensemble import RandomForestClassifier\n",
    "from sklearn.linear_model import LogisticRegression\n",
    "from sklearn.naive_bayes import MultinomialNB\n",
    "from sklearn.metrics import classification_report\n",
    "from sklearn.pipeline import Pipeline\n",
    "from sklearn.model_selection import train_test_split, StratifiedKFold, cross_val_score\n",
    "import pandas as pd\n",
    "import numpy as np"
   ]
  },
  {
   "cell_type": "code",
   "execution_count": 2,
   "metadata": {},
   "outputs": [
    {
     "data": {
      "text/html": [
       "<div>\n",
       "<style scoped>\n",
       "    .dataframe tbody tr th:only-of-type {\n",
       "        vertical-align: middle;\n",
       "    }\n",
       "\n",
       "    .dataframe tbody tr th {\n",
       "        vertical-align: top;\n",
       "    }\n",
       "\n",
       "    .dataframe thead th {\n",
       "        text-align: right;\n",
       "    }\n",
       "</style>\n",
       "<table border=\"1\" class=\"dataframe\">\n",
       "  <thead>\n",
       "    <tr style=\"text-align: right;\">\n",
       "      <th></th>\n",
       "      <th>features</th>\n",
       "      <th>section</th>\n",
       "    </tr>\n",
       "  </thead>\n",
       "  <tbody>\n",
       "    <tr>\n",
       "      <th>0</th>\n",
       "      <td>Récord 96 mil asistentes pelea Dubois Joshua h...</td>\n",
       "      <td>Deportes</td>\n",
       "    </tr>\n",
       "    <tr>\n",
       "      <th>1</th>\n",
       "      <td>América no está formar jugadores dice Jardine ...</td>\n",
       "      <td>Deportes</td>\n",
       "    </tr>\n",
       "    <tr>\n",
       "      <th>2</th>\n",
       "      <td>Fátima Herrera miedo nada hizo historia ring P...</td>\n",
       "      <td>Deportes</td>\n",
       "    </tr>\n",
       "    <tr>\n",
       "      <th>3</th>\n",
       "      <td>Pumas femenil deja escapar tres puntos CU Pese...</td>\n",
       "      <td>Deportes</td>\n",
       "    </tr>\n",
       "    <tr>\n",
       "      <th>4</th>\n",
       "      <td>Cae dupla Zverev-Alcaraz dupla Carlos Alcaraz-...</td>\n",
       "      <td>Deportes</td>\n",
       "    </tr>\n",
       "  </tbody>\n",
       "</table>\n",
       "</div>"
      ],
      "text/plain": [
       "                                            features   section\n",
       "0  Récord 96 mil asistentes pelea Dubois Joshua h...  Deportes\n",
       "1  América no está formar jugadores dice Jardine ...  Deportes\n",
       "2  Fátima Herrera miedo nada hizo historia ring P...  Deportes\n",
       "3  Pumas femenil deja escapar tres puntos CU Pese...  Deportes\n",
       "4  Cae dupla Zverev-Alcaraz dupla Carlos Alcaraz-...  Deportes"
      ]
     },
     "execution_count": 2,
     "metadata": {},
     "output_type": "execute_result"
    }
   ],
   "source": [
    "data = pd.read_csv('sw_tc_classifier_corpus.csv')\n",
    "data.head()"
   ]
  },
  {
   "cell_type": "code",
   "execution_count": 3,
   "metadata": {},
   "outputs": [
    {
     "data": {
      "text/plain": [
       "section\n",
       "Economía                172\n",
       "Ciencia y Tecnología     90\n",
       "Deportes                 73\n",
       "Cultura                  49\n",
       "Name: count, dtype: int64"
      ]
     },
     "execution_count": 3,
     "metadata": {},
     "output_type": "execute_result"
    }
   ],
   "source": [
    "data['section'].value_counts()"
   ]
  },
  {
   "cell_type": "code",
   "execution_count": 4,
   "metadata": {},
   "outputs": [],
   "source": [
    "X_train, X_test, y_train, y_test = train_test_split(data['features'], data['section'], test_size=0.2, random_state=42)"
   ]
  },
  {
   "cell_type": "markdown",
   "metadata": {},
   "source": [
    "## Logistic Regresion"
   ]
  },
  {
   "cell_type": "markdown",
   "metadata": {},
   "source": [
    "### TF-IDF Vectorizer"
   ]
  },
  {
   "cell_type": "code",
   "execution_count": 5,
   "metadata": {},
   "outputs": [
    {
     "name": "stdout",
     "output_type": "stream",
     "text": [
      "Scores de F1 por fold en entrenamiento: [0.74673894 0.79670166 0.86137032 0.83156091 0.79816159]\n",
      "F1 promedio: 0.8069066841652773\n",
      "F1 desviación estándar: 0.0384054571811839\n",
      "Reporte en el conjunto de prueba:\n",
      "                      precision    recall  f1-score   support\n",
      "\n",
      "Ciencia y Tecnología       0.74      0.81      0.77        21\n",
      "             Cultura       0.62      0.83      0.71         6\n",
      "            Deportes       0.93      1.00      0.96        13\n",
      "            Economía       0.91      0.78      0.84        37\n",
      "\n",
      "            accuracy                           0.83        77\n",
      "           macro avg       0.80      0.86      0.82        77\n",
      "        weighted avg       0.84      0.83      0.83        77\n",
      "\n"
     ]
    }
   ],
   "source": [
    "pipe_tf_idf_log = Pipeline([\n",
    "                                ('text_representation', TfidfVectorizer()), \n",
    "                                ('classifier', LogisticRegression(class_weight='balanced'))\n",
    "])\n",
    "\n",
    "# Configuración de StratifiedKFold para validación cruzada\n",
    "kf = StratifiedKFold(n_splits=5, shuffle=True, random_state=42)\n",
    "\n",
    "# Validación cruzada en el conjunto de entrenamiento\n",
    "cv_scores = cross_val_score(pipe_tf_idf_log, X_train, y_train, cv=kf, scoring='f1_weighted', n_jobs=-1)\n",
    "\n",
    "print(\"Scores de F1 por fold en entrenamiento:\", cv_scores)\n",
    "print(\"F1 promedio:\", cv_scores.mean())\n",
    "print(\"F1 desviación estándar:\", cv_scores.std())\n",
    "\n",
    "# Entrenamiento final en el conjunto de entrenamiento completo\n",
    "pipe_tf_idf_log.fit(X_train, y_train)\n",
    "\n",
    "# Evaluación en el conjunto de prueba\n",
    "y_pred = pipe_tf_idf_log.predict(X_test)\n",
    "print(\"Reporte en el conjunto de prueba:\")\n",
    "print(classification_report(y_test, y_pred))\n"
   ]
  },
  {
   "cell_type": "markdown",
   "metadata": {},
   "source": [
    "### Binary Vectorizer"
   ]
  },
  {
   "cell_type": "code",
   "execution_count": 6,
   "metadata": {},
   "outputs": [
    {
     "name": "stdout",
     "output_type": "stream",
     "text": [
      "Scores de F1 por fold en entrenamiento: [0.70192143 0.76080274 0.72579483 0.79681203 0.75622458]\n",
      "F1 promedio: 0.7483111194995876\n",
      "F1 desviación estándar: 0.03234188640931781\n",
      "Reporte en el conjunto de prueba:\n",
      "                      precision    recall  f1-score   support\n",
      "\n",
      "Ciencia y Tecnología       0.66      0.90      0.76        21\n",
      "             Cultura       0.80      0.67      0.73         6\n",
      "            Deportes       1.00      1.00      1.00        13\n",
      "            Economía       0.93      0.76      0.84        37\n",
      "\n",
      "            accuracy                           0.83        77\n",
      "           macro avg       0.85      0.83      0.83        77\n",
      "        weighted avg       0.86      0.83      0.83        77\n",
      "\n"
     ]
    }
   ],
   "source": [
    "pipe_bin_log = Pipeline([\n",
    "                                ('text_representation', CountVectorizer(binary=True, ngram_range=(1, 1))), \n",
    "                                ('classifier', LogisticRegression(class_weight='balanced'))\n",
    "])\n",
    "\n",
    "# Configuración de StratifiedKFold para validación cruzada\n",
    "kf = StratifiedKFold(n_splits=5, shuffle=True, random_state=42)\n",
    "\n",
    "# Validación cruzada en el conjunto de entrenamiento\n",
    "cv_scores = cross_val_score(pipe_bin_log, X_train, y_train, cv=kf, scoring='f1_weighted', n_jobs=-1)\n",
    "\n",
    "print(\"Scores de F1 por fold en entrenamiento:\", cv_scores)\n",
    "print(\"F1 promedio:\", cv_scores.mean())\n",
    "print(\"F1 desviación estándar:\", cv_scores.std())\n",
    "\n",
    "# Entrenamiento final en el conjunto de entrenamiento completo\n",
    "pipe_bin_log.fit(X_train, y_train)\n",
    "\n",
    "# Evaluación en el conjunto de prueba\n",
    "y_pred = pipe_bin_log.predict(X_test)\n",
    "print(\"Reporte en el conjunto de prueba:\")\n",
    "print(classification_report(y_test, y_pred))"
   ]
  },
  {
   "cell_type": "markdown",
   "metadata": {},
   "source": [
    "### Frequency Vectorizer"
   ]
  },
  {
   "cell_type": "code",
   "execution_count": 7,
   "metadata": {},
   "outputs": [
    {
     "name": "stdout",
     "output_type": "stream",
     "text": [
      "Scores de F1 por fold en entrenamiento: [0.70192143 0.76080274 0.75255545 0.77087506 0.77255512]\n",
      "F1 promedio: 0.7517419568862409\n",
      "F1 desviación estándar: 0.02593880462758936\n",
      "Reporte en el conjunto de prueba:\n",
      "                      precision    recall  f1-score   support\n",
      "\n",
      "Ciencia y Tecnología       0.62      0.86      0.72        21\n",
      "             Cultura       0.60      0.50      0.55         6\n",
      "            Deportes       1.00      0.85      0.92        13\n",
      "            Economía       0.81      0.70      0.75        37\n",
      "\n",
      "            accuracy                           0.75        77\n",
      "           macro avg       0.76      0.73      0.73        77\n",
      "        weighted avg       0.78      0.75      0.76        77\n",
      "\n"
     ]
    }
   ],
   "source": [
    "pipe_frec_log = Pipeline([\n",
    "                                ('text_representation', CountVectorizer(ngram_range=(1, 1))), \n",
    "                                ('classifier', LogisticRegression(class_weight='balanced'))\n",
    "])\n",
    "\n",
    "# Configuración de StratifiedKFold para validación cruzada\n",
    "kf = StratifiedKFold(n_splits=5, shuffle=True, random_state=42)\n",
    "\n",
    "# Validación cruzada en el conjunto de entrenamiento\n",
    "cv_scores = cross_val_score(pipe_frec_log, X_train, y_train, cv=kf, scoring='f1_weighted', n_jobs=-1)\n",
    "\n",
    "print(\"Scores de F1 por fold en entrenamiento:\", cv_scores)\n",
    "print(\"F1 promedio:\", cv_scores.mean())\n",
    "print(\"F1 desviación estándar:\", cv_scores.std())\n",
    "\n",
    "# Entrenamiento final en el conjunto de entrenamiento completo\n",
    "pipe_frec_log.fit(X_train, y_train)\n",
    "\n",
    "# Evaluación en el conjunto de prueba\n",
    "y_pred = pipe_frec_log.predict(X_test)\n",
    "print(\"Reporte en el conjunto de prueba:\")\n",
    "print(classification_report(y_test, y_pred))"
   ]
  },
  {
   "cell_type": "markdown",
   "metadata": {},
   "source": [
    "## Random Forest"
   ]
  },
  {
   "cell_type": "markdown",
   "metadata": {},
   "source": [
    "###  TF-IDF Vectorizer"
   ]
  },
  {
   "cell_type": "code",
   "execution_count": 8,
   "metadata": {},
   "outputs": [
    {
     "name": "stdout",
     "output_type": "stream",
     "text": [
      "Scores de F1 por fold en entrenamiento: [0.50870933 0.64778814 0.62654176 0.57589623 0.54459016]\n",
      "F1 promedio: 0.5807051264835537\n",
      "F1 desviación estándar: 0.05120925505550253\n",
      "Reporte en el conjunto de prueba:\n",
      "                      precision    recall  f1-score   support\n",
      "\n",
      "Ciencia y Tecnología       0.64      0.67      0.65        21\n",
      "             Cultura       0.50      0.17      0.25         6\n",
      "            Deportes       0.89      0.62      0.73        13\n",
      "            Economía       0.68      0.81      0.74        37\n",
      "\n",
      "            accuracy                           0.69        77\n",
      "           macro avg       0.68      0.56      0.59        77\n",
      "        weighted avg       0.69      0.69      0.68        77\n",
      "\n"
     ]
    }
   ],
   "source": [
    "\n",
    "# Definición del pipeline con Random Forest\n",
    "pipe_tf_idf_rf = Pipeline([\n",
    "    ('text_representation', TfidfVectorizer()), \n",
    "    ('classifier', RandomForestClassifier(class_weight='balanced', random_state=42))\n",
    "])\n",
    "\n",
    "# Configuración de StratifiedKFold para validación cruzada\n",
    "kf = StratifiedKFold(n_splits=5, shuffle=True, random_state=42)\n",
    "\n",
    "# Validación cruzada en el conjunto de entrenamiento\n",
    "cv_scores = cross_val_score(pipe_tf_idf_rf, X_train, y_train, cv=kf, scoring='f1_weighted', n_jobs=-1)\n",
    "\n",
    "print(\"Scores de F1 por fold en entrenamiento:\", cv_scores)\n",
    "print(\"F1 promedio:\", cv_scores.mean())\n",
    "print(\"F1 desviación estándar:\", cv_scores.std())\n",
    "\n",
    "# Entrenamiento final en el conjunto de entrenamiento completo\n",
    "pipe_tf_idf_rf.fit(X_train, y_train)\n",
    "\n",
    "# Evaluación en el conjunto de prueba\n",
    "y_pred = pipe_tf_idf_rf.predict(X_test)\n",
    "print(\"Reporte en el conjunto de prueba:\")\n",
    "print(classification_report(y_test, y_pred))"
   ]
  },
  {
   "cell_type": "markdown",
   "metadata": {},
   "source": [
    "### Binary Vectorizer"
   ]
  },
  {
   "cell_type": "code",
   "execution_count": 9,
   "metadata": {},
   "outputs": [
    {
     "name": "stdout",
     "output_type": "stream",
     "text": [
      "Scores de F1 por fold en entrenamiento: [0.49274194 0.66322148 0.64077156 0.62550339 0.63359423]\n",
      "F1 promedio: 0.6111665186979576\n",
      "F1 desviación estándar: 0.06052950932106708\n",
      "Reporte en el conjunto de prueba:\n",
      "                      precision    recall  f1-score   support\n",
      "\n",
      "Ciencia y Tecnología       0.62      0.86      0.72        21\n",
      "             Cultura       1.00      0.17      0.29         6\n",
      "            Deportes       1.00      0.77      0.87        13\n",
      "            Economía       0.81      0.81      0.81        37\n",
      "\n",
      "            accuracy                           0.77        77\n",
      "           macro avg       0.86      0.65      0.67        77\n",
      "        weighted avg       0.81      0.77      0.76        77\n",
      "\n"
     ]
    }
   ],
   "source": [
    "\n",
    "# Definición del pipeline con Random Forest\n",
    "pipe_bin_rf = Pipeline([\n",
    "    ('text_representation', CountVectorizer(binary=True, ngram_range=(1, 1))), \n",
    "    ('classifier', RandomForestClassifier(class_weight='balanced', random_state=42))\n",
    "])\n",
    "\n",
    "# Configuración de StratifiedKFold para validación cruzada\n",
    "kf = StratifiedKFold(n_splits=5, shuffle=True, random_state=42)\n",
    "\n",
    "# Validación cruzada en el conjunto de entrenamiento\n",
    "cv_scores = cross_val_score(pipe_bin_rf, X_train, y_train, cv=kf, scoring='f1_weighted', n_jobs=-1)\n",
    "\n",
    "print(\"Scores de F1 por fold en entrenamiento:\", cv_scores)\n",
    "print(\"F1 promedio:\", cv_scores.mean())\n",
    "print(\"F1 desviación estándar:\", cv_scores.std())\n",
    "\n",
    "# Entrenamiento final en el conjunto de entrenamiento completo\n",
    "pipe_bin_rf.fit(X_train, y_train)\n",
    "\n",
    "# Evaluación en el conjunto de prueba\n",
    "y_pred = pipe_bin_rf.predict(X_test)\n",
    "print(\"Reporte en el conjunto de prueba:\")\n",
    "print(classification_report(y_test, y_pred))"
   ]
  },
  {
   "cell_type": "markdown",
   "metadata": {},
   "source": [
    "### Frequency Vectorizer"
   ]
  },
  {
   "cell_type": "code",
   "execution_count": 10,
   "metadata": {},
   "outputs": [
    {
     "name": "stdout",
     "output_type": "stream",
     "text": [
      "Scores de F1 por fold en entrenamiento: [0.5054649  0.64719112 0.65874251 0.59355071 0.64933056]\n",
      "F1 promedio: 0.6108559609881052\n",
      "F1 desviación estándar: 0.057446338607673855\n",
      "Reporte en el conjunto de prueba:\n",
      "                      precision    recall  f1-score   support\n",
      "\n",
      "Ciencia y Tecnología       0.67      0.86      0.75        21\n",
      "             Cultura       1.00      0.17      0.29         6\n",
      "            Deportes       1.00      0.85      0.92        13\n",
      "            Economía       0.76      0.78      0.77        37\n",
      "\n",
      "            accuracy                           0.77        77\n",
      "           macro avg       0.86      0.66      0.68        77\n",
      "        weighted avg       0.80      0.77      0.75        77\n",
      "\n"
     ]
    }
   ],
   "source": [
    "\n",
    "# Definición del pipeline con Random Forest\n",
    "pipe_frec_rf = Pipeline([\n",
    "    ('text_representation', CountVectorizer(ngram_range=(1, 1))), \n",
    "    ('classifier', RandomForestClassifier(class_weight='balanced', random_state=42))\n",
    "])\n",
    "\n",
    "# Configuración de StratifiedKFold para validación cruzada\n",
    "kf = StratifiedKFold(n_splits=5, shuffle=True, random_state=42)\n",
    "\n",
    "# Validación cruzada en el conjunto de entrenamiento\n",
    "cv_scores = cross_val_score(pipe_frec_rf, X_train, y_train, cv=kf, scoring='f1_weighted', n_jobs=-1)\n",
    "\n",
    "print(\"Scores de F1 por fold en entrenamiento:\", cv_scores)\n",
    "print(\"F1 promedio:\", cv_scores.mean())\n",
    "print(\"F1 desviación estándar:\", cv_scores.std())\n",
    "\n",
    "# Entrenamiento final en el conjunto de entrenamiento completo\n",
    "pipe_frec_rf.fit(X_train, y_train)\n",
    "\n",
    "# Evaluación en el conjunto de prueba\n",
    "y_pred = pipe_frec_rf.predict(X_test)\n",
    "print(\"Reporte en el conjunto de prueba:\")\n",
    "print(classification_report(y_test, y_pred))"
   ]
  },
  {
   "cell_type": "markdown",
   "metadata": {},
   "source": [
    "## Multinomial Naive Bayes"
   ]
  },
  {
   "cell_type": "markdown",
   "metadata": {},
   "source": [
    "### TF-IDF Vectorizer"
   ]
  },
  {
   "cell_type": "code",
   "execution_count": 11,
   "metadata": {},
   "outputs": [
    {
     "name": "stdout",
     "output_type": "stream",
     "text": [
      "Scores de F1 por fold en entrenamiento: [0.35086272 0.4874552  0.48729508 0.39383294 0.38290398]\n",
      "F1 promedio: 0.42046998381133144\n",
      "F1 desviación estándar: 0.056424322439732555\n",
      "Reporte en el conjunto de prueba:\n",
      "                      precision    recall  f1-score   support\n",
      "\n",
      "Ciencia y Tecnología       1.00      0.19      0.32        21\n",
      "             Cultura       0.00      0.00      0.00         6\n",
      "            Deportes       1.00      0.62      0.76        13\n",
      "            Economía       0.57      1.00      0.73        37\n",
      "\n",
      "            accuracy                           0.64        77\n",
      "           macro avg       0.64      0.45      0.45        77\n",
      "        weighted avg       0.72      0.64      0.56        77\n",
      "\n"
     ]
    },
    {
     "name": "stderr",
     "output_type": "stream",
     "text": [
      "/Users/sebastianloeza/anaconda3/lib/python3.11/site-packages/sklearn/metrics/_classification.py:1469: UndefinedMetricWarning: Precision and F-score are ill-defined and being set to 0.0 in labels with no predicted samples. Use `zero_division` parameter to control this behavior.\n",
      "  _warn_prf(average, modifier, msg_start, len(result))\n",
      "/Users/sebastianloeza/anaconda3/lib/python3.11/site-packages/sklearn/metrics/_classification.py:1469: UndefinedMetricWarning: Precision and F-score are ill-defined and being set to 0.0 in labels with no predicted samples. Use `zero_division` parameter to control this behavior.\n",
      "  _warn_prf(average, modifier, msg_start, len(result))\n",
      "/Users/sebastianloeza/anaconda3/lib/python3.11/site-packages/sklearn/metrics/_classification.py:1469: UndefinedMetricWarning: Precision and F-score are ill-defined and being set to 0.0 in labels with no predicted samples. Use `zero_division` parameter to control this behavior.\n",
      "  _warn_prf(average, modifier, msg_start, len(result))\n"
     ]
    }
   ],
   "source": [
    "pipe_bin_nb = Pipeline([\n",
    "    ('text_representation', TfidfVectorizer()), \n",
    "    ('classifier', MultinomialNB())\n",
    "])\n",
    "\n",
    "# Configuración de StratifiedKFold para validación cruzada\n",
    "kf = StratifiedKFold(n_splits=5, shuffle=True, random_state=42)\n",
    "\n",
    "# Validación cruzada en el conjunto de entrenamiento\n",
    "cv_scores = cross_val_score(pipe_bin_nb, X_train, y_train, cv=kf, scoring='f1_weighted', n_jobs=-1)\n",
    "\n",
    "print(\"Scores de F1 por fold en entrenamiento:\", cv_scores)\n",
    "print(\"F1 promedio:\", cv_scores.mean())\n",
    "print(\"F1 desviación estándar:\", cv_scores.std())\n",
    "\n",
    "# Entrenamiento final en el conjunto de entrenamiento completo\n",
    "pipe_bin_nb.fit(X_train, y_train)\n",
    "\n",
    "# Evaluación en el conjunto de prueba\n",
    "y_pred = pipe_bin_nb.predict(X_test)\n",
    "print(\"Reporte en el conjunto de prueba:\")\n",
    "print(classification_report(y_test, y_pred))"
   ]
  },
  {
   "cell_type": "markdown",
   "metadata": {},
   "source": [
    "### Binary Vectorizer"
   ]
  },
  {
   "cell_type": "code",
   "execution_count": 12,
   "metadata": {},
   "outputs": [
    {
     "name": "stdout",
     "output_type": "stream",
     "text": [
      "Scores de F1 por fold en entrenamiento: [0.75687212 0.80932328 0.80728214 0.81554982 0.76242486]\n",
      "F1 promedio: 0.790290444109894\n",
      "F1 desviación estándar: 0.02522806965832811\n",
      "Reporte en el conjunto de prueba:\n",
      "                      precision    recall  f1-score   support\n",
      "\n",
      "Ciencia y Tecnología       0.83      0.71      0.77        21\n",
      "             Cultura       0.80      0.67      0.73         6\n",
      "            Deportes       0.87      1.00      0.93        13\n",
      "            Economía       0.85      0.89      0.87        37\n",
      "\n",
      "            accuracy                           0.84        77\n",
      "           macro avg       0.84      0.82      0.82        77\n",
      "        weighted avg       0.84      0.84      0.84        77\n",
      "\n"
     ]
    }
   ],
   "source": [
    "pipe_bin_nb = Pipeline([\n",
    "    ('text_representation', CountVectorizer(binary=True, ngram_range=(1, 1))), \n",
    "    ('classifier', MultinomialNB())\n",
    "])\n",
    "\n",
    "# Configuración de StratifiedKFold para validación cruzada\n",
    "kf = StratifiedKFold(n_splits=5, shuffle=True, random_state=42)\n",
    "\n",
    "# Validación cruzada en el conjunto de entrenamiento\n",
    "cv_scores = cross_val_score(pipe_bin_nb, X_train, y_train, cv=kf, scoring='f1_weighted', n_jobs=-1)\n",
    "\n",
    "print(\"Scores de F1 por fold en entrenamiento:\", cv_scores)\n",
    "print(\"F1 promedio:\", cv_scores.mean())\n",
    "print(\"F1 desviación estándar:\", cv_scores.std())\n",
    "\n",
    "# Entrenamiento final en el conjunto de entrenamiento completo\n",
    "pipe_bin_nb.fit(X_train, y_train)\n",
    "\n",
    "# Evaluación en el conjunto de prueba\n",
    "y_pred = pipe_bin_nb.predict(X_test)\n",
    "print(\"Reporte en el conjunto de prueba:\")\n",
    "print(classification_report(y_test, y_pred))"
   ]
  },
  {
   "cell_type": "markdown",
   "metadata": {},
   "source": [
    "### Frequency Vectorizer"
   ]
  },
  {
   "cell_type": "code",
   "execution_count": 13,
   "metadata": {},
   "outputs": [
    {
     "name": "stdout",
     "output_type": "stream",
     "text": [
      "Scores de F1 por fold en entrenamiento: [0.75550847 0.83179194 0.79014654 0.83248124 0.81042878]\n",
      "F1 promedio: 0.8040713942114127\n",
      "F1 desviación estándar: 0.02887290775659102\n",
      "Reporte en el conjunto de prueba:\n",
      "                      precision    recall  f1-score   support\n",
      "\n",
      "Ciencia y Tecnología       0.84      0.76      0.80        21\n",
      "             Cultura       0.67      0.67      0.67         6\n",
      "            Deportes       0.87      1.00      0.93        13\n",
      "            Economía       0.86      0.86      0.86        37\n",
      "\n",
      "            accuracy                           0.84        77\n",
      "           macro avg       0.81      0.82      0.82        77\n",
      "        weighted avg       0.84      0.84      0.84        77\n",
      "\n"
     ]
    }
   ],
   "source": [
    "pipe_frec_nb = Pipeline([\n",
    "    ('text_representation', CountVectorizer(ngram_range=(1, 1))), \n",
    "    ('classifier', MultinomialNB())\n",
    "])\n",
    "\n",
    "# Configuración de StratifiedKFold para validación cruzada\n",
    "kf = StratifiedKFold(n_splits=5, shuffle=True, random_state=42)\n",
    "\n",
    "# Validación cruzada en el conjunto de entrenamiento\n",
    "cv_scores = cross_val_score(pipe_frec_nb, X_train, y_train, cv=kf, scoring='f1_weighted', n_jobs=-1)\n",
    "\n",
    "print(\"Scores de F1 por fold en entrenamiento:\", cv_scores)\n",
    "print(\"F1 promedio:\", cv_scores.mean())\n",
    "print(\"F1 desviación estándar:\", cv_scores.std())\n",
    "\n",
    "# Entrenamiento final en el conjunto de entrenamiento completo\n",
    "pipe_frec_nb.fit(X_train, y_train)\n",
    "\n",
    "# Evaluación en el conjunto de prueba\n",
    "y_pred = pipe_frec_nb.predict(X_test)\n",
    "print(\"Reporte en el conjunto de prueba:\")\n",
    "print(classification_report(y_test, y_pred))"
   ]
  },
  {
   "cell_type": "markdown",
   "metadata": {},
   "source": [
    "## KNN\n"
   ]
  },
  {
   "cell_type": "markdown",
   "metadata": {},
   "source": [
    "### TF-IDF Vectorizer"
   ]
  },
  {
   "cell_type": "code",
   "execution_count": 14,
   "metadata": {},
   "outputs": [
    {
     "name": "stdout",
     "output_type": "stream",
     "text": [
      "Scores de F1 por fold en entrenamiento: [0.66598339 0.73294123 0.81471013 0.83126464 0.73380819]\n",
      "F1 promedio: 0.7557415152842515\n",
      "F1 desviación estándar: 0.06039616726665966\n",
      "Reporte en el conjunto de prueba:\n",
      "                      precision    recall  f1-score   support\n",
      "\n",
      "Ciencia y Tecnología       0.83      0.71      0.77        21\n",
      "             Cultura       0.80      0.67      0.73         6\n",
      "            Deportes       0.91      0.77      0.83        13\n",
      "            Economía       0.77      0.89      0.82        37\n",
      "\n",
      "            accuracy                           0.81        77\n",
      "           macro avg       0.83      0.76      0.79        77\n",
      "        weighted avg       0.81      0.81      0.80        77\n",
      "\n"
     ]
    }
   ],
   "source": [
    "# Definición del pipeline con KNeighborsClassifier\n",
    "pipe_tf_idf_knn = Pipeline([\n",
    "    ('text_representation', TfidfVectorizer()), \n",
    "    ('classifier', KNeighborsClassifier(n_neighbors=5))  # Ajusta 'n_neighbors' según lo necesario\n",
    "])\n",
    "\n",
    "# Configuración de StratifiedKFold para validación cruzada\n",
    "kf = StratifiedKFold(n_splits=5, shuffle=True, random_state=42)\n",
    "\n",
    "# Validación cruzada en el conjunto de entrenamiento\n",
    "cv_scores = cross_val_score(pipe_tf_idf_knn, X_train, y_train, cv=kf, scoring='f1_weighted', n_jobs=-1)\n",
    "\n",
    "print(\"Scores de F1 por fold en entrenamiento:\", cv_scores)\n",
    "print(\"F1 promedio:\", cv_scores.mean())\n",
    "print(\"F1 desviación estándar:\", cv_scores.std())\n",
    "\n",
    "# Entrenamiento final en el conjunto de entrenamiento completo\n",
    "pipe_tf_idf_knn.fit(X_train, y_train)\n",
    "\n",
    "# Evaluación en el conjunto de prueba\n",
    "y_pred = pipe_tf_idf_knn.predict(X_test)\n",
    "print(\"Reporte en el conjunto de prueba:\")\n",
    "print(classification_report(y_test, y_pred))"
   ]
  },
  {
   "cell_type": "markdown",
   "metadata": {},
   "source": [
    "### Binary Vectorizer"
   ]
  },
  {
   "cell_type": "code",
   "execution_count": 15,
   "metadata": {},
   "outputs": [
    {
     "name": "stdout",
     "output_type": "stream",
     "text": [
      "Scores de F1 por fold en entrenamiento: [0.09373987 0.06277245 0.33519769 0.4746333  0.17675539]\n",
      "F1 promedio: 0.22861974088636156\n",
      "F1 desviación estándar: 0.15509309799005505\n",
      "Reporte en el conjunto de prueba:\n",
      "                      precision    recall  f1-score   support\n",
      "\n",
      "Ciencia y Tecnología       0.60      0.14      0.23        21\n",
      "             Cultura       0.00      0.00      0.00         6\n",
      "            Deportes       0.17      0.92      0.28        13\n",
      "            Economía       0.00      0.00      0.00        37\n",
      "\n",
      "            accuracy                           0.19        77\n",
      "           macro avg       0.19      0.27      0.13        77\n",
      "        weighted avg       0.19      0.19      0.11        77\n",
      "\n"
     ]
    },
    {
     "name": "stderr",
     "output_type": "stream",
     "text": [
      "/Users/sebastianloeza/anaconda3/lib/python3.11/site-packages/sklearn/metrics/_classification.py:1469: UndefinedMetricWarning: Precision and F-score are ill-defined and being set to 0.0 in labels with no predicted samples. Use `zero_division` parameter to control this behavior.\n",
      "  _warn_prf(average, modifier, msg_start, len(result))\n",
      "/Users/sebastianloeza/anaconda3/lib/python3.11/site-packages/sklearn/metrics/_classification.py:1469: UndefinedMetricWarning: Precision and F-score are ill-defined and being set to 0.0 in labels with no predicted samples. Use `zero_division` parameter to control this behavior.\n",
      "  _warn_prf(average, modifier, msg_start, len(result))\n",
      "/Users/sebastianloeza/anaconda3/lib/python3.11/site-packages/sklearn/metrics/_classification.py:1469: UndefinedMetricWarning: Precision and F-score are ill-defined and being set to 0.0 in labels with no predicted samples. Use `zero_division` parameter to control this behavior.\n",
      "  _warn_prf(average, modifier, msg_start, len(result))\n"
     ]
    }
   ],
   "source": [
    "# Definición del pipeline con KNeighborsClassifier\n",
    "pipe_bin_knn = Pipeline([\n",
    "    ('text_representation', CountVectorizer(binary=True, ngram_range=(1, 1))), \n",
    "    ('classifier', KNeighborsClassifier(n_neighbors=5))  # Ajusta 'n_neighbors' según lo necesario\n",
    "])\n",
    "\n",
    "# Configuración de StratifiedKFold para validación cruzada\n",
    "kf = StratifiedKFold(n_splits=5, shuffle=True, random_state=42)\n",
    "\n",
    "# Validación cruzada en el conjunto de entrenamiento\n",
    "cv_scores = cross_val_score(pipe_bin_knn, X_train, y_train, cv=kf, scoring='f1_weighted', n_jobs=-1)\n",
    "\n",
    "print(\"Scores de F1 por fold en entrenamiento:\", cv_scores)\n",
    "print(\"F1 promedio:\", cv_scores.mean())\n",
    "print(\"F1 desviación estándar:\", cv_scores.std())\n",
    "\n",
    "# Entrenamiento final en el conjunto de entrenamiento completo\n",
    "pipe_bin_knn.fit(X_train, y_train)\n",
    "\n",
    "# Evaluación en el conjunto de prueba\n",
    "y_pred = pipe_bin_knn.predict(X_test)\n",
    "print(\"Reporte en el conjunto de prueba:\")\n",
    "print(classification_report(y_test, y_pred))"
   ]
  },
  {
   "cell_type": "markdown",
   "metadata": {},
   "source": [
    "###  Frequency Vectorizer"
   ]
  },
  {
   "cell_type": "code",
   "execution_count": 16,
   "metadata": {},
   "outputs": [
    {
     "name": "stdout",
     "output_type": "stream",
     "text": [
      "Scores de F1 por fold en entrenamiento: [0.197646   0.169439   0.54020714 0.43967691 0.09403847]\n",
      "F1 promedio: 0.288201504717954\n",
      "F1 desviación estándar: 0.17114657875552503\n",
      "Reporte en el conjunto de prueba:\n",
      "                      precision    recall  f1-score   support\n",
      "\n",
      "Ciencia y Tecnología       0.40      0.10      0.15        21\n",
      "             Cultura       1.00      0.17      0.29         6\n",
      "            Deportes       0.17      0.85      0.28        13\n",
      "            Economía       0.40      0.05      0.10        37\n",
      "\n",
      "            accuracy                           0.21        77\n",
      "           macro avg       0.49      0.29      0.20        77\n",
      "        weighted avg       0.41      0.21      0.16        77\n",
      "\n"
     ]
    }
   ],
   "source": [
    "# Definición del pipeline con KNeighborsClassifier\n",
    "pipe_frec_knn = Pipeline([\n",
    "    ('text_representation', CountVectorizer(ngram_range=(1, 1))), \n",
    "    ('classifier', KNeighborsClassifier(n_neighbors=5))  # Ajusta 'n_neighbors' según lo necesario\n",
    "])\n",
    "\n",
    "# Configuración de StratifiedKFold para validación cruzada\n",
    "kf = StratifiedKFold(n_splits=5, shuffle=True, random_state=42)\n",
    "\n",
    "# Validación cruzada en el conjunto de entrenamiento\n",
    "cv_scores = cross_val_score(pipe_frec_knn, X_train, y_train, cv=kf, scoring='f1_weighted', n_jobs=-1)\n",
    "\n",
    "print(\"Scores de F1 por fold en entrenamiento:\", cv_scores)\n",
    "print(\"F1 promedio:\", cv_scores.mean())\n",
    "print(\"F1 desviación estándar:\", cv_scores.std())\n",
    "\n",
    "# Entrenamiento final en el conjunto de entrenamiento completo\n",
    "pipe_frec_knn.fit(X_train, y_train)\n",
    "\n",
    "# Evaluación en el conjunto de prueba\n",
    "y_pred = pipe_frec_knn.predict(X_test)\n",
    "print(\"Reporte en el conjunto de prueba:\")\n",
    "print(classification_report(y_test, y_pred))"
   ]
  },
  {
   "cell_type": "markdown",
   "metadata": {},
   "source": [
    "## SVC"
   ]
  },
  {
   "cell_type": "markdown",
   "metadata": {},
   "source": [
    "### TF-IDF Vectorizer"
   ]
  },
  {
   "cell_type": "code",
   "execution_count": 17,
   "metadata": {},
   "outputs": [
    {
     "name": "stdout",
     "output_type": "stream",
     "text": [
      "Scores de F1 por fold en entrenamiento: [0.61804179 0.70859311 0.70597237 0.62053705 0.63887373]\n",
      "F1 promedio: 0.6584036116558184\n",
      "F1 desviación estándar: 0.04056141740042692\n",
      "Reporte en el conjunto de prueba:\n",
      "                      precision    recall  f1-score   support\n",
      "\n",
      "Ciencia y Tecnología       0.88      0.67      0.76        21\n",
      "             Cultura       1.00      0.33      0.50         6\n",
      "            Deportes       1.00      0.77      0.87        13\n",
      "            Economía       0.71      0.95      0.81        37\n",
      "\n",
      "            accuracy                           0.79        77\n",
      "           macro avg       0.90      0.68      0.74        77\n",
      "        weighted avg       0.83      0.79      0.78        77\n",
      "\n"
     ]
    }
   ],
   "source": [
    "# Definición del pipeline con SVC\n",
    "pipe_tf_idf_svc = Pipeline([\n",
    "    ('text_representation', TfidfVectorizer()), \n",
    "    ('classifier', SVC(class_weight='balanced', random_state=42))  # Añadido class_weight='balanced' para manejar desbalance de clases\n",
    "])\n",
    "\n",
    "# Configuración de StratifiedKFold para validación cruzada\n",
    "kf = StratifiedKFold(n_splits=5, shuffle=True, random_state=42)\n",
    "\n",
    "# Validación cruzada en el conjunto de entrenamiento\n",
    "cv_scores = cross_val_score(pipe_tf_idf_svc, X_train, y_train, cv=kf, scoring='f1_weighted', n_jobs=-1)\n",
    "\n",
    "print(\"Scores de F1 por fold en entrenamiento:\", cv_scores)\n",
    "print(\"F1 promedio:\", cv_scores.mean())\n",
    "print(\"F1 desviación estándar:\", cv_scores.std())\n",
    "\n",
    "# Entrenamiento final en el conjunto de entrenamiento completo\n",
    "pipe_tf_idf_svc.fit(X_train, y_train)\n",
    "\n",
    "# Evaluación en el conjunto de prueba\n",
    "y_pred = pipe_tf_idf_svc.predict(X_test)\n",
    "print(\"Reporte en el conjunto de prueba:\")\n",
    "print(classification_report(y_test, y_pred))"
   ]
  },
  {
   "cell_type": "markdown",
   "metadata": {},
   "source": [
    "### Binary Vectorizer"
   ]
  },
  {
   "cell_type": "code",
   "execution_count": 18,
   "metadata": {},
   "outputs": [
    {
     "name": "stdout",
     "output_type": "stream",
     "text": [
      "Scores de F1 por fold en entrenamiento: [0.49193548 0.58209586 0.51856808 0.58581083 0.41930096]\n",
      "F1 promedio: 0.5195422435164858\n",
      "F1 desviación estándar: 0.06183183334220597\n",
      "Reporte en el conjunto de prueba:\n",
      "                      precision    recall  f1-score   support\n",
      "\n",
      "Ciencia y Tecnología       0.47      0.95      0.62        21\n",
      "             Cultura       0.00      0.00      0.00         6\n",
      "            Deportes       1.00      0.69      0.82        13\n",
      "            Economía       0.84      0.57      0.68        37\n",
      "\n",
      "            accuracy                           0.65        77\n",
      "           macro avg       0.58      0.55      0.53        77\n",
      "        weighted avg       0.70      0.65      0.63        77\n",
      "\n"
     ]
    },
    {
     "name": "stderr",
     "output_type": "stream",
     "text": [
      "/Users/sebastianloeza/anaconda3/lib/python3.11/site-packages/sklearn/metrics/_classification.py:1469: UndefinedMetricWarning: Precision and F-score are ill-defined and being set to 0.0 in labels with no predicted samples. Use `zero_division` parameter to control this behavior.\n",
      "  _warn_prf(average, modifier, msg_start, len(result))\n",
      "/Users/sebastianloeza/anaconda3/lib/python3.11/site-packages/sklearn/metrics/_classification.py:1469: UndefinedMetricWarning: Precision and F-score are ill-defined and being set to 0.0 in labels with no predicted samples. Use `zero_division` parameter to control this behavior.\n",
      "  _warn_prf(average, modifier, msg_start, len(result))\n",
      "/Users/sebastianloeza/anaconda3/lib/python3.11/site-packages/sklearn/metrics/_classification.py:1469: UndefinedMetricWarning: Precision and F-score are ill-defined and being set to 0.0 in labels with no predicted samples. Use `zero_division` parameter to control this behavior.\n",
      "  _warn_prf(average, modifier, msg_start, len(result))\n"
     ]
    }
   ],
   "source": [
    "# Definición del pipeline con SVC\n",
    "pipe_bin_svc = Pipeline([\n",
    "    ('text_representation', CountVectorizer(binary=True, ngram_range=(1, 1))), \n",
    "    ('classifier', SVC(class_weight='balanced', random_state=42))  # Añadido class_weight='balanced' para manejar desbalance de clases\n",
    "])\n",
    "\n",
    "# Configuración de StratifiedKFold para validación cruzada\n",
    "kf = StratifiedKFold(n_splits=5, shuffle=True, random_state=42)\n",
    "\n",
    "# Validación cruzada en el conjunto de entrenamiento\n",
    "cv_scores = cross_val_score(pipe_bin_svc, X_train, y_train, cv=kf, scoring='f1_weighted', n_jobs=-1)\n",
    "\n",
    "print(\"Scores de F1 por fold en entrenamiento:\", cv_scores)\n",
    "print(\"F1 promedio:\", cv_scores.mean())\n",
    "print(\"F1 desviación estándar:\", cv_scores.std())\n",
    "\n",
    "# Entrenamiento final en el conjunto de entrenamiento completo\n",
    "pipe_bin_svc.fit(X_train, y_train)\n",
    "\n",
    "# Evaluación en el conjunto de prueba\n",
    "y_pred = pipe_bin_svc.predict(X_test)\n",
    "print(\"Reporte en el conjunto de prueba:\")\n",
    "print(classification_report(y_test, y_pred))"
   ]
  },
  {
   "cell_type": "markdown",
   "metadata": {},
   "source": [
    "### Frequency Vectorizer"
   ]
  },
  {
   "cell_type": "code",
   "execution_count": 19,
   "metadata": {},
   "outputs": [
    {
     "name": "stdout",
     "output_type": "stream",
     "text": [
      "Scores de F1 por fold en entrenamiento: [0.60229717 0.53727599 0.59964337 0.5981294  0.42273003]\n",
      "F1 promedio: 0.5520151916263416\n",
      "F1 desviación estándar: 0.06907262473678806\n",
      "Reporte en el conjunto de prueba:\n",
      "                      precision    recall  f1-score   support\n",
      "\n",
      "Ciencia y Tecnología       0.50      0.95      0.66        21\n",
      "             Cultura       0.50      0.33      0.40         6\n",
      "            Deportes       0.82      0.69      0.75        13\n",
      "            Economía       0.91      0.54      0.68        37\n",
      "\n",
      "            accuracy                           0.66        77\n",
      "           macro avg       0.68      0.63      0.62        77\n",
      "        weighted avg       0.75      0.66      0.66        77\n",
      "\n"
     ]
    }
   ],
   "source": [
    "# Definición del pipeline con SVC\n",
    "pipe_frec_svc = Pipeline([\n",
    "    ('text_representation', CountVectorizer(ngram_range=(1, 1))), \n",
    "    ('classifier', SVC(class_weight='balanced', random_state=42))  # Añadido class_weight='balanced' para manejar desbalance de clases\n",
    "])\n",
    "\n",
    "# Configuración de StratifiedKFold para validación cruzada\n",
    "kf = StratifiedKFold(n_splits=5, shuffle=True, random_state=42)\n",
    "\n",
    "# Validación cruzada en el conjunto de entrenamiento\n",
    "cv_scores = cross_val_score(pipe_frec_svc, X_train, y_train, cv=kf, scoring='f1_weighted', n_jobs=-1)\n",
    "\n",
    "print(\"Scores de F1 por fold en entrenamiento:\", cv_scores)\n",
    "print(\"F1 promedio:\", cv_scores.mean())\n",
    "print(\"F1 desviación estándar:\", cv_scores.std())\n",
    "\n",
    "# Entrenamiento final en el conjunto de entrenamiento completo\n",
    "pipe_frec_svc.fit(X_train, y_train)\n",
    "\n",
    "# Evaluación en el conjunto de prueba\n",
    "y_pred = pipe_frec_svc.predict(X_test)\n",
    "print(\"Reporte en el conjunto de prueba:\")\n",
    "print(classification_report(y_test, y_pred))"
   ]
  }
 ],
 "metadata": {
  "kernelspec": {
   "display_name": "base",
   "language": "python",
   "name": "python3"
  },
  "language_info": {
   "codemirror_mode": {
    "name": "ipython",
    "version": 3
   },
   "file_extension": ".py",
   "mimetype": "text/x-python",
   "name": "python",
   "nbconvert_exporter": "python",
   "pygments_lexer": "ipython3",
   "version": "3.11.5"
  }
 },
 "nbformat": 4,
 "nbformat_minor": 2
}
