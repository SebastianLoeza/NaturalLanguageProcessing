{
 "cells": [
  {
   "cell_type": "code",
   "execution_count": 1,
   "metadata": {},
   "outputs": [],
   "source": [
    "from sklearn.neighbors import KNeighborsClassifier\n",
    "from sklearn.svm import SVC\n",
    "from sklearn.feature_extraction.text import TfidfVectorizer, CountVectorizer\n",
    "from sklearn.ensemble import RandomForestClassifier\n",
    "from sklearn.linear_model import LogisticRegression\n",
    "from sklearn.naive_bayes import MultinomialNB\n",
    "from sklearn.metrics import classification_report\n",
    "from sklearn.pipeline import Pipeline\n",
    "from sklearn.model_selection import train_test_split, StratifiedKFold, cross_val_score\n",
    "import pandas as pd\n",
    "import numpy as np"
   ]
  },
  {
   "cell_type": "code",
   "execution_count": 2,
   "metadata": {},
   "outputs": [
    {
     "data": {
      "text/html": [
       "<div>\n",
       "<style scoped>\n",
       "    .dataframe tbody tr th:only-of-type {\n",
       "        vertical-align: middle;\n",
       "    }\n",
       "\n",
       "    .dataframe tbody tr th {\n",
       "        vertical-align: top;\n",
       "    }\n",
       "\n",
       "    .dataframe thead th {\n",
       "        text-align: right;\n",
       "    }\n",
       "</style>\n",
       "<table border=\"1\" class=\"dataframe\">\n",
       "  <thead>\n",
       "    <tr style=\"text-align: right;\">\n",
       "      <th></th>\n",
       "      <th>features</th>\n",
       "      <th>section</th>\n",
       "    </tr>\n",
       "  </thead>\n",
       "  <tbody>\n",
       "    <tr>\n",
       "      <th>0</th>\n",
       "      <td>Récord 96 mil asistente pelea Dubois Joshua ho...</td>\n",
       "      <td>Deportes</td>\n",
       "    </tr>\n",
       "    <tr>\n",
       "      <th>1</th>\n",
       "      <td>América no estar formar jugador decir Jardine ...</td>\n",
       "      <td>Deportes</td>\n",
       "    </tr>\n",
       "    <tr>\n",
       "      <th>2</th>\n",
       "      <td>Fátima Herrera miedo nada hacer historia ring ...</td>\n",
       "      <td>Deportes</td>\n",
       "    </tr>\n",
       "    <tr>\n",
       "      <th>3</th>\n",
       "      <td>Pumas femenil dejar escapar tres punto cu pese...</td>\n",
       "      <td>Deportes</td>\n",
       "    </tr>\n",
       "    <tr>\n",
       "      <th>4</th>\n",
       "      <td>Cae dupla Zverev-Alcaraz dupla Carlos Alcaraz-...</td>\n",
       "      <td>Deportes</td>\n",
       "    </tr>\n",
       "  </tbody>\n",
       "</table>\n",
       "</div>"
      ],
      "text/plain": [
       "                                            features   section\n",
       "0  Récord 96 mil asistente pelea Dubois Joshua ho...  Deportes\n",
       "1  América no estar formar jugador decir Jardine ...  Deportes\n",
       "2  Fátima Herrera miedo nada hacer historia ring ...  Deportes\n",
       "3  Pumas femenil dejar escapar tres punto cu pese...  Deportes\n",
       "4  Cae dupla Zverev-Alcaraz dupla Carlos Alcaraz-...  Deportes"
      ]
     },
     "execution_count": 2,
     "metadata": {},
     "output_type": "execute_result"
    }
   ],
   "source": [
    "data = pd.read_csv('sw_lemm_tc_classifier_corpus.csv')\n",
    "data.head()"
   ]
  },
  {
   "cell_type": "code",
   "execution_count": 3,
   "metadata": {},
   "outputs": [
    {
     "data": {
      "text/plain": [
       "section\n",
       "Economía                172\n",
       "Ciencia y Tecnología     90\n",
       "Deportes                 73\n",
       "Cultura                  49\n",
       "Name: count, dtype: int64"
      ]
     },
     "execution_count": 3,
     "metadata": {},
     "output_type": "execute_result"
    }
   ],
   "source": [
    "data['section'].value_counts()"
   ]
  },
  {
   "cell_type": "code",
   "execution_count": 4,
   "metadata": {},
   "outputs": [],
   "source": [
    "X_train, X_test, y_train, y_test = train_test_split(data['features'], data['section'], test_size=0.2, random_state=42)"
   ]
  },
  {
   "cell_type": "markdown",
   "metadata": {},
   "source": [
    "## Logistic Regresion"
   ]
  },
  {
   "cell_type": "markdown",
   "metadata": {},
   "source": [
    "### TF-IDF Vectorizer"
   ]
  },
  {
   "cell_type": "code",
   "execution_count": 5,
   "metadata": {},
   "outputs": [
    {
     "name": "stdout",
     "output_type": "stream",
     "text": [
      "Scores de F1 por fold en entrenamiento: [0.76622698 0.8018698  0.83537708 0.86766242 0.81849253]\n",
      "F1 promedio: 0.8179257612055238\n",
      "F1 desviación estándar: 0.03379101113673131\n",
      "Reporte en el conjunto de prueba:\n",
      "                      precision    recall  f1-score   support\n",
      "\n",
      "Ciencia y Tecnología       0.73      0.90      0.81        21\n",
      "             Cultura       0.43      0.50      0.46         6\n",
      "            Deportes       0.92      0.92      0.92        13\n",
      "            Economía       0.90      0.76      0.82        37\n",
      "\n",
      "            accuracy                           0.81        77\n",
      "           macro avg       0.75      0.77      0.75        77\n",
      "        weighted avg       0.82      0.81      0.81        77\n",
      "\n"
     ]
    }
   ],
   "source": [
    "pipe_tf_idf_log = Pipeline([\n",
    "                                ('text_representation', TfidfVectorizer()), \n",
    "                                ('classifier', LogisticRegression(class_weight='balanced'))\n",
    "])\n",
    "\n",
    "# Configuración de StratifiedKFold para validación cruzada\n",
    "kf = StratifiedKFold(n_splits=5, shuffle=True, random_state=42)\n",
    "\n",
    "# Validación cruzada en el conjunto de entrenamiento\n",
    "cv_scores = cross_val_score(pipe_tf_idf_log, X_train, y_train, cv=kf, scoring='f1_weighted', n_jobs=-1)\n",
    "\n",
    "print(\"Scores de F1 por fold en entrenamiento:\", cv_scores)\n",
    "print(\"F1 promedio:\", cv_scores.mean())\n",
    "print(\"F1 desviación estándar:\", cv_scores.std())\n",
    "\n",
    "# Entrenamiento final en el conjunto de entrenamiento completo\n",
    "pipe_tf_idf_log.fit(X_train, y_train)\n",
    "\n",
    "# Evaluación en el conjunto de prueba\n",
    "y_pred = pipe_tf_idf_log.predict(X_test)\n",
    "print(\"Reporte en el conjunto de prueba:\")\n",
    "print(classification_report(y_test, y_pred))\n"
   ]
  },
  {
   "cell_type": "markdown",
   "metadata": {},
   "source": [
    "### Binary Vectorizer"
   ]
  },
  {
   "cell_type": "code",
   "execution_count": 6,
   "metadata": {},
   "outputs": [
    {
     "name": "stdout",
     "output_type": "stream",
     "text": [
      "Scores de F1 por fold en entrenamiento: [0.73033377 0.76080274 0.73877833 0.83267477 0.74100737]\n",
      "F1 promedio: 0.7607193945561723\n",
      "F1 desviación estándar: 0.0373385690197926\n",
      "Reporte en el conjunto de prueba:\n",
      "                      precision    recall  f1-score   support\n",
      "\n",
      "Ciencia y Tecnología       0.68      0.90      0.78        21\n",
      "             Cultura       0.80      0.67      0.73         6\n",
      "            Deportes       1.00      1.00      1.00        13\n",
      "            Economía       0.94      0.78      0.85        37\n",
      "\n",
      "            accuracy                           0.84        77\n",
      "           macro avg       0.85      0.84      0.84        77\n",
      "        weighted avg       0.87      0.84      0.85        77\n",
      "\n"
     ]
    }
   ],
   "source": [
    "pipe_bin_log = Pipeline([\n",
    "                                ('text_representation', CountVectorizer(binary=True, ngram_range=(1, 1))), \n",
    "                                ('classifier', LogisticRegression(class_weight='balanced'))\n",
    "])\n",
    "\n",
    "# Configuración de StratifiedKFold para validación cruzada\n",
    "kf = StratifiedKFold(n_splits=5, shuffle=True, random_state=42)\n",
    "\n",
    "# Validación cruzada en el conjunto de entrenamiento\n",
    "cv_scores = cross_val_score(pipe_bin_log, X_train, y_train, cv=kf, scoring='f1_weighted', n_jobs=-1)\n",
    "\n",
    "print(\"Scores de F1 por fold en entrenamiento:\", cv_scores)\n",
    "print(\"F1 promedio:\", cv_scores.mean())\n",
    "print(\"F1 desviación estándar:\", cv_scores.std())\n",
    "\n",
    "# Entrenamiento final en el conjunto de entrenamiento completo\n",
    "pipe_bin_log.fit(X_train, y_train)\n",
    "\n",
    "# Evaluación en el conjunto de prueba\n",
    "y_pred = pipe_bin_log.predict(X_test)\n",
    "print(\"Reporte en el conjunto de prueba:\")\n",
    "print(classification_report(y_test, y_pred))"
   ]
  },
  {
   "cell_type": "markdown",
   "metadata": {},
   "source": [
    "### Frequency Vectorizer"
   ]
  },
  {
   "cell_type": "code",
   "execution_count": 7,
   "metadata": {},
   "outputs": [
    {
     "name": "stdout",
     "output_type": "stream",
     "text": [
      "Scores de F1 por fold en entrenamiento: [0.77063887 0.77542162 0.75466857 0.81576699 0.78118601]\n",
      "F1 promedio: 0.779536412284938\n",
      "F1 desviación estándar: 0.020148863996800624\n",
      "Reporte en el conjunto de prueba:\n",
      "                      precision    recall  f1-score   support\n",
      "\n",
      "Ciencia y Tecnología       0.68      0.90      0.78        21\n",
      "             Cultura       0.60      0.50      0.55         6\n",
      "            Deportes       0.92      0.92      0.92        13\n",
      "            Economía       0.90      0.76      0.82        37\n",
      "\n",
      "            accuracy                           0.81        77\n",
      "           macro avg       0.78      0.77      0.77        77\n",
      "        weighted avg       0.82      0.81      0.81        77\n",
      "\n"
     ]
    }
   ],
   "source": [
    "pipe_frec_log = Pipeline([\n",
    "                                ('text_representation', CountVectorizer(ngram_range=(1, 1))), \n",
    "                                ('classifier', LogisticRegression(class_weight='balanced'))\n",
    "])\n",
    "\n",
    "# Configuración de StratifiedKFold para validación cruzada\n",
    "kf = StratifiedKFold(n_splits=5, shuffle=True, random_state=42)\n",
    "\n",
    "# Validación cruzada en el conjunto de entrenamiento\n",
    "cv_scores = cross_val_score(pipe_frec_log, X_train, y_train, cv=kf, scoring='f1_weighted', n_jobs=-1)\n",
    "\n",
    "print(\"Scores de F1 por fold en entrenamiento:\", cv_scores)\n",
    "print(\"F1 promedio:\", cv_scores.mean())\n",
    "print(\"F1 desviación estándar:\", cv_scores.std())\n",
    "\n",
    "# Entrenamiento final en el conjunto de entrenamiento completo\n",
    "pipe_frec_log.fit(X_train, y_train)\n",
    "\n",
    "# Evaluación en el conjunto de prueba\n",
    "y_pred = pipe_frec_log.predict(X_test)\n",
    "print(\"Reporte en el conjunto de prueba:\")\n",
    "print(classification_report(y_test, y_pred))"
   ]
  },
  {
   "cell_type": "markdown",
   "metadata": {},
   "source": [
    "## Random Forest"
   ]
  },
  {
   "cell_type": "markdown",
   "metadata": {},
   "source": [
    "###  TF-IDF Vectorizer"
   ]
  },
  {
   "cell_type": "code",
   "execution_count": 8,
   "metadata": {},
   "outputs": [
    {
     "name": "stdout",
     "output_type": "stream",
     "text": [
      "Scores de F1 por fold en entrenamiento: [0.54252199 0.7351668  0.65502723 0.65659714 0.61762266]\n",
      "F1 promedio: 0.641387165286402\n",
      "F1 desviación estándar: 0.06253173479256333\n",
      "Reporte en el conjunto de prueba:\n",
      "                      precision    recall  f1-score   support\n",
      "\n",
      "Ciencia y Tecnología       0.76      0.62      0.68        21\n",
      "             Cultura       1.00      0.17      0.29         6\n",
      "            Deportes       1.00      0.77      0.87        13\n",
      "            Economía       0.69      0.92      0.79        37\n",
      "\n",
      "            accuracy                           0.75        77\n",
      "           macro avg       0.86      0.62      0.66        77\n",
      "        weighted avg       0.79      0.75      0.74        77\n",
      "\n"
     ]
    }
   ],
   "source": [
    "\n",
    "# Definición del pipeline con Random Forest\n",
    "pipe_tf_idf_rf = Pipeline([\n",
    "    ('text_representation', TfidfVectorizer()), \n",
    "    ('classifier', RandomForestClassifier(class_weight='balanced', random_state=42))\n",
    "])\n",
    "\n",
    "# Configuración de StratifiedKFold para validación cruzada\n",
    "kf = StratifiedKFold(n_splits=5, shuffle=True, random_state=42)\n",
    "\n",
    "# Validación cruzada en el conjunto de entrenamiento\n",
    "cv_scores = cross_val_score(pipe_tf_idf_rf, X_train, y_train, cv=kf, scoring='f1_weighted', n_jobs=-1)\n",
    "\n",
    "print(\"Scores de F1 por fold en entrenamiento:\", cv_scores)\n",
    "print(\"F1 promedio:\", cv_scores.mean())\n",
    "print(\"F1 desviación estándar:\", cv_scores.std())\n",
    "\n",
    "# Entrenamiento final en el conjunto de entrenamiento completo\n",
    "pipe_tf_idf_rf.fit(X_train, y_train)\n",
    "\n",
    "# Evaluación en el conjunto de prueba\n",
    "y_pred = pipe_tf_idf_rf.predict(X_test)\n",
    "print(\"Reporte en el conjunto de prueba:\")\n",
    "print(classification_report(y_test, y_pred))"
   ]
  },
  {
   "cell_type": "markdown",
   "metadata": {},
   "source": [
    "### Binary Vectorizer"
   ]
  },
  {
   "cell_type": "code",
   "execution_count": 9,
   "metadata": {},
   "outputs": [
    {
     "name": "stdout",
     "output_type": "stream",
     "text": [
      "Scores de F1 por fold en entrenamiento: [0.56277891 0.70621036 0.69547858 0.68296442 0.6462406 ]\n",
      "F1 promedio: 0.6587345753844176\n",
      "F1 desviación estándar: 0.05206677770013981\n",
      "Reporte en el conjunto de prueba:\n",
      "                      precision    recall  f1-score   support\n",
      "\n",
      "Ciencia y Tecnología       0.68      0.81      0.74        21\n",
      "             Cultura       0.75      0.50      0.60         6\n",
      "            Deportes       1.00      0.62      0.76        13\n",
      "            Economía       0.78      0.84      0.81        37\n",
      "\n",
      "            accuracy                           0.77        77\n",
      "           macro avg       0.80      0.69      0.73        77\n",
      "        weighted avg       0.79      0.77      0.76        77\n",
      "\n"
     ]
    }
   ],
   "source": [
    "\n",
    "# Definición del pipeline con Random Forest\n",
    "pipe_bin_rf = Pipeline([\n",
    "    ('text_representation', CountVectorizer(binary=True, ngram_range=(1, 1))), \n",
    "    ('classifier', RandomForestClassifier(class_weight='balanced', random_state=42))\n",
    "])\n",
    "\n",
    "# Configuración de StratifiedKFold para validación cruzada\n",
    "kf = StratifiedKFold(n_splits=5, shuffle=True, random_state=42)\n",
    "\n",
    "# Validación cruzada en el conjunto de entrenamiento\n",
    "cv_scores = cross_val_score(pipe_bin_rf, X_train, y_train, cv=kf, scoring='f1_weighted', n_jobs=-1)\n",
    "\n",
    "print(\"Scores de F1 por fold en entrenamiento:\", cv_scores)\n",
    "print(\"F1 promedio:\", cv_scores.mean())\n",
    "print(\"F1 desviación estándar:\", cv_scores.std())\n",
    "\n",
    "# Entrenamiento final en el conjunto de entrenamiento completo\n",
    "pipe_bin_rf.fit(X_train, y_train)\n",
    "\n",
    "# Evaluación en el conjunto de prueba\n",
    "y_pred = pipe_bin_rf.predict(X_test)\n",
    "print(\"Reporte en el conjunto de prueba:\")\n",
    "print(classification_report(y_test, y_pred))"
   ]
  },
  {
   "cell_type": "markdown",
   "metadata": {},
   "source": [
    "### Frequency Vectorizer"
   ]
  },
  {
   "cell_type": "code",
   "execution_count": 10,
   "metadata": {},
   "outputs": [
    {
     "name": "stdout",
     "output_type": "stream",
     "text": [
      "Scores de F1 por fold en entrenamiento: [0.51413833 0.68829423 0.65327869 0.62088435 0.6309699 ]\n",
      "F1 promedio: 0.6215131014177253\n",
      "F1 desviación estándar: 0.05846013953187974\n",
      "Reporte en el conjunto de prueba:\n",
      "                      precision    recall  f1-score   support\n",
      "\n",
      "Ciencia y Tecnología       0.70      0.76      0.73        21\n",
      "             Cultura       1.00      0.50      0.67         6\n",
      "            Deportes       1.00      0.69      0.82        13\n",
      "            Economía       0.74      0.84      0.78        37\n",
      "\n",
      "            accuracy                           0.77        77\n",
      "           macro avg       0.86      0.70      0.75        77\n",
      "        weighted avg       0.79      0.77      0.77        77\n",
      "\n"
     ]
    }
   ],
   "source": [
    "\n",
    "# Definición del pipeline con Random Forest\n",
    "pipe_frec_rf = Pipeline([\n",
    "    ('text_representation', CountVectorizer(ngram_range=(1, 1))), \n",
    "    ('classifier', RandomForestClassifier(class_weight='balanced', random_state=42))\n",
    "])\n",
    "\n",
    "# Configuración de StratifiedKFold para validación cruzada\n",
    "kf = StratifiedKFold(n_splits=5, shuffle=True, random_state=42)\n",
    "\n",
    "# Validación cruzada en el conjunto de entrenamiento\n",
    "cv_scores = cross_val_score(pipe_frec_rf, X_train, y_train, cv=kf, scoring='f1_weighted', n_jobs=-1)\n",
    "\n",
    "print(\"Scores de F1 por fold en entrenamiento:\", cv_scores)\n",
    "print(\"F1 promedio:\", cv_scores.mean())\n",
    "print(\"F1 desviación estándar:\", cv_scores.std())\n",
    "\n",
    "# Entrenamiento final en el conjunto de entrenamiento completo\n",
    "pipe_frec_rf.fit(X_train, y_train)\n",
    "\n",
    "# Evaluación en el conjunto de prueba\n",
    "y_pred = pipe_frec_rf.predict(X_test)\n",
    "print(\"Reporte en el conjunto de prueba:\")\n",
    "print(classification_report(y_test, y_pred))"
   ]
  },
  {
   "cell_type": "markdown",
   "metadata": {},
   "source": [
    "## Multinomial Naive Bayes"
   ]
  },
  {
   "cell_type": "markdown",
   "metadata": {},
   "source": [
    "### TF-IDF Vectorizer"
   ]
  },
  {
   "cell_type": "code",
   "execution_count": 11,
   "metadata": {},
   "outputs": [
    {
     "name": "stdout",
     "output_type": "stream",
     "text": [
      "Scores de F1 por fold en entrenamiento: [0.34383302 0.45708567 0.48729508 0.43780292 0.44003451]\n",
      "F1 promedio: 0.4332102392572715\n",
      "F1 desviación estándar: 0.048064867614742504\n",
      "Reporte en el conjunto de prueba:\n",
      "                      precision    recall  f1-score   support\n",
      "\n",
      "Ciencia y Tecnología       1.00      0.29      0.44        21\n",
      "             Cultura       0.00      0.00      0.00         6\n",
      "            Deportes       1.00      0.62      0.76        13\n",
      "            Economía       0.59      1.00      0.74        37\n",
      "\n",
      "            accuracy                           0.66        77\n",
      "           macro avg       0.65      0.48      0.49        77\n",
      "        weighted avg       0.72      0.66      0.61        77\n",
      "\n"
     ]
    },
    {
     "name": "stderr",
     "output_type": "stream",
     "text": [
      "/Users/sebastianloeza/anaconda3/lib/python3.11/site-packages/sklearn/metrics/_classification.py:1469: UndefinedMetricWarning: Precision and F-score are ill-defined and being set to 0.0 in labels with no predicted samples. Use `zero_division` parameter to control this behavior.\n",
      "  _warn_prf(average, modifier, msg_start, len(result))\n",
      "/Users/sebastianloeza/anaconda3/lib/python3.11/site-packages/sklearn/metrics/_classification.py:1469: UndefinedMetricWarning: Precision and F-score are ill-defined and being set to 0.0 in labels with no predicted samples. Use `zero_division` parameter to control this behavior.\n",
      "  _warn_prf(average, modifier, msg_start, len(result))\n",
      "/Users/sebastianloeza/anaconda3/lib/python3.11/site-packages/sklearn/metrics/_classification.py:1469: UndefinedMetricWarning: Precision and F-score are ill-defined and being set to 0.0 in labels with no predicted samples. Use `zero_division` parameter to control this behavior.\n",
      "  _warn_prf(average, modifier, msg_start, len(result))\n"
     ]
    }
   ],
   "source": [
    "pipe_bin_nb = Pipeline([\n",
    "    ('text_representation', TfidfVectorizer()), \n",
    "    ('classifier', MultinomialNB())\n",
    "])\n",
    "\n",
    "# Configuración de StratifiedKFold para validación cruzada\n",
    "kf = StratifiedKFold(n_splits=5, shuffle=True, random_state=42)\n",
    "\n",
    "# Validación cruzada en el conjunto de entrenamiento\n",
    "cv_scores = cross_val_score(pipe_bin_nb, X_train, y_train, cv=kf, scoring='f1_weighted', n_jobs=-1)\n",
    "\n",
    "print(\"Scores de F1 por fold en entrenamiento:\", cv_scores)\n",
    "print(\"F1 promedio:\", cv_scores.mean())\n",
    "print(\"F1 desviación estándar:\", cv_scores.std())\n",
    "\n",
    "# Entrenamiento final en el conjunto de entrenamiento completo\n",
    "pipe_bin_nb.fit(X_train, y_train)\n",
    "\n",
    "# Evaluación en el conjunto de prueba\n",
    "y_pred = pipe_bin_nb.predict(X_test)\n",
    "print(\"Reporte en el conjunto de prueba:\")\n",
    "print(classification_report(y_test, y_pred))"
   ]
  },
  {
   "cell_type": "markdown",
   "metadata": {},
   "source": [
    "### Binary Vectorizer"
   ]
  },
  {
   "cell_type": "code",
   "execution_count": 12,
   "metadata": {},
   "outputs": [
    {
     "name": "stdout",
     "output_type": "stream",
     "text": [
      "Scores de F1 por fold en entrenamiento: [0.77547307 0.76562954 0.85077    0.78003963 0.73564224]\n",
      "F1 promedio: 0.7815108948314434\n",
      "F1 desviación estándar: 0.03792517390758043\n",
      "Reporte en el conjunto de prueba:\n",
      "                      precision    recall  f1-score   support\n",
      "\n",
      "Ciencia y Tecnología       0.89      0.81      0.85        21\n",
      "             Cultura       0.80      0.67      0.73         6\n",
      "            Deportes       0.93      1.00      0.96        13\n",
      "            Economía       0.87      0.92      0.89        37\n",
      "\n",
      "            accuracy                           0.88        77\n",
      "           macro avg       0.87      0.85      0.86        77\n",
      "        weighted avg       0.88      0.88      0.88        77\n",
      "\n"
     ]
    }
   ],
   "source": [
    "pipe_bin_nb = Pipeline([\n",
    "    ('text_representation', CountVectorizer(binary=True, ngram_range=(1, 1))), \n",
    "    ('classifier', MultinomialNB())\n",
    "])\n",
    "\n",
    "# Configuración de StratifiedKFold para validación cruzada\n",
    "kf = StratifiedKFold(n_splits=5, shuffle=True, random_state=42)\n",
    "\n",
    "# Validación cruzada en el conjunto de entrenamiento\n",
    "cv_scores = cross_val_score(pipe_bin_nb, X_train, y_train, cv=kf, scoring='f1_weighted', n_jobs=-1)\n",
    "\n",
    "print(\"Scores de F1 por fold en entrenamiento:\", cv_scores)\n",
    "print(\"F1 promedio:\", cv_scores.mean())\n",
    "print(\"F1 desviación estándar:\", cv_scores.std())\n",
    "\n",
    "# Entrenamiento final en el conjunto de entrenamiento completo\n",
    "pipe_bin_nb.fit(X_train, y_train)\n",
    "\n",
    "# Evaluación en el conjunto de prueba\n",
    "y_pred = pipe_bin_nb.predict(X_test)\n",
    "print(\"Reporte en el conjunto de prueba:\")\n",
    "print(classification_report(y_test, y_pred))"
   ]
  },
  {
   "cell_type": "markdown",
   "metadata": {},
   "source": [
    "### Frequency Vectorizer"
   ]
  },
  {
   "cell_type": "code",
   "execution_count": 13,
   "metadata": {},
   "outputs": [
    {
     "name": "stdout",
     "output_type": "stream",
     "text": [
      "Scores de F1 por fold en entrenamiento: [0.74182217 0.83179194 0.79972408 0.81554982 0.77648016]\n",
      "F1 promedio: 0.7930736323933344\n",
      "F1 desviación estándar: 0.03146607668334896\n",
      "Reporte en el conjunto de prueba:\n",
      "                      precision    recall  f1-score   support\n",
      "\n",
      "Ciencia y Tecnología       0.80      0.76      0.78        21\n",
      "             Cultura       0.80      0.67      0.73         6\n",
      "            Deportes       0.87      1.00      0.93        13\n",
      "            Economía       0.86      0.86      0.86        37\n",
      "\n",
      "            accuracy                           0.84        77\n",
      "           macro avg       0.83      0.82      0.83        77\n",
      "        weighted avg       0.84      0.84      0.84        77\n",
      "\n"
     ]
    }
   ],
   "source": [
    "pipe_frec_nb = Pipeline([\n",
    "    ('text_representation', CountVectorizer(ngram_range=(1, 1))), \n",
    "    ('classifier', MultinomialNB())\n",
    "])\n",
    "\n",
    "# Configuración de StratifiedKFold para validación cruzada\n",
    "kf = StratifiedKFold(n_splits=5, shuffle=True, random_state=42)\n",
    "\n",
    "# Validación cruzada en el conjunto de entrenamiento\n",
    "cv_scores = cross_val_score(pipe_frec_nb, X_train, y_train, cv=kf, scoring='f1_weighted', n_jobs=-1)\n",
    "\n",
    "print(\"Scores de F1 por fold en entrenamiento:\", cv_scores)\n",
    "print(\"F1 promedio:\", cv_scores.mean())\n",
    "print(\"F1 desviación estándar:\", cv_scores.std())\n",
    "\n",
    "# Entrenamiento final en el conjunto de entrenamiento completo\n",
    "pipe_frec_nb.fit(X_train, y_train)\n",
    "\n",
    "# Evaluación en el conjunto de prueba\n",
    "y_pred = pipe_frec_nb.predict(X_test)\n",
    "print(\"Reporte en el conjunto de prueba:\")\n",
    "print(classification_report(y_test, y_pred))"
   ]
  },
  {
   "cell_type": "markdown",
   "metadata": {},
   "source": [
    "## KNN\n"
   ]
  },
  {
   "cell_type": "markdown",
   "metadata": {},
   "source": [
    "### TF-IDF Vectorizer"
   ]
  },
  {
   "cell_type": "code",
   "execution_count": 14,
   "metadata": {},
   "outputs": [
    {
     "name": "stdout",
     "output_type": "stream",
     "text": [
      "Scores de F1 por fold en entrenamiento: [0.7296069  0.75849819 0.81845944 0.85073207 0.76382998]\n",
      "F1 promedio: 0.7842253141489574\n",
      "F1 desviación estándar: 0.0439457612609496\n",
      "Reporte en el conjunto de prueba:\n",
      "                      precision    recall  f1-score   support\n",
      "\n",
      "Ciencia y Tecnología       0.71      0.71      0.71        21\n",
      "             Cultura       0.50      0.50      0.50         6\n",
      "            Deportes       0.77      0.77      0.77        13\n",
      "            Economía       0.81      0.81      0.81        37\n",
      "\n",
      "            accuracy                           0.75        77\n",
      "           macro avg       0.70      0.70      0.70        77\n",
      "        weighted avg       0.75      0.75      0.75        77\n",
      "\n"
     ]
    }
   ],
   "source": [
    "# Definición del pipeline con KNeighborsClassifier\n",
    "pipe_tf_idf_knn = Pipeline([\n",
    "    ('text_representation', TfidfVectorizer()), \n",
    "    ('classifier', KNeighborsClassifier(n_neighbors=5))  # Ajusta 'n_neighbors' según lo necesario\n",
    "])\n",
    "\n",
    "# Configuración de StratifiedKFold para validación cruzada\n",
    "kf = StratifiedKFold(n_splits=5, shuffle=True, random_state=42)\n",
    "\n",
    "# Validación cruzada en el conjunto de entrenamiento\n",
    "cv_scores = cross_val_score(pipe_tf_idf_knn, X_train, y_train, cv=kf, scoring='f1_weighted', n_jobs=-1)\n",
    "\n",
    "print(\"Scores de F1 por fold en entrenamiento:\", cv_scores)\n",
    "print(\"F1 promedio:\", cv_scores.mean())\n",
    "print(\"F1 desviación estándar:\", cv_scores.std())\n",
    "\n",
    "# Entrenamiento final en el conjunto de entrenamiento completo\n",
    "pipe_tf_idf_knn.fit(X_train, y_train)\n",
    "\n",
    "# Evaluación en el conjunto de prueba\n",
    "y_pred = pipe_tf_idf_knn.predict(X_test)\n",
    "print(\"Reporte en el conjunto de prueba:\")\n",
    "print(classification_report(y_test, y_pred))"
   ]
  },
  {
   "cell_type": "markdown",
   "metadata": {},
   "source": [
    "### Binary Vectorizer"
   ]
  },
  {
   "cell_type": "code",
   "execution_count": 15,
   "metadata": {},
   "outputs": [
    {
     "name": "stdout",
     "output_type": "stream",
     "text": [
      "Scores de F1 por fold en entrenamiento: [0.15395338 0.23138515 0.4748637  0.51984374 0.20718441]\n",
      "F1 promedio: 0.31744607551829335\n",
      "F1 desviación estándar: 0.14969241655633492\n",
      "Reporte en el conjunto de prueba:\n",
      "                      precision    recall  f1-score   support\n",
      "\n",
      "Ciencia y Tecnología       0.64      0.33      0.44        21\n",
      "             Cultura       0.00      0.00      0.00         6\n",
      "            Deportes       0.18      0.92      0.30        13\n",
      "            Economía       0.00      0.00      0.00        37\n",
      "\n",
      "            accuracy                           0.25        77\n",
      "           macro avg       0.20      0.31      0.19        77\n",
      "        weighted avg       0.20      0.25      0.17        77\n",
      "\n"
     ]
    },
    {
     "name": "stderr",
     "output_type": "stream",
     "text": [
      "/Users/sebastianloeza/anaconda3/lib/python3.11/site-packages/sklearn/metrics/_classification.py:1469: UndefinedMetricWarning: Precision and F-score are ill-defined and being set to 0.0 in labels with no predicted samples. Use `zero_division` parameter to control this behavior.\n",
      "  _warn_prf(average, modifier, msg_start, len(result))\n",
      "/Users/sebastianloeza/anaconda3/lib/python3.11/site-packages/sklearn/metrics/_classification.py:1469: UndefinedMetricWarning: Precision and F-score are ill-defined and being set to 0.0 in labels with no predicted samples. Use `zero_division` parameter to control this behavior.\n",
      "  _warn_prf(average, modifier, msg_start, len(result))\n",
      "/Users/sebastianloeza/anaconda3/lib/python3.11/site-packages/sklearn/metrics/_classification.py:1469: UndefinedMetricWarning: Precision and F-score are ill-defined and being set to 0.0 in labels with no predicted samples. Use `zero_division` parameter to control this behavior.\n",
      "  _warn_prf(average, modifier, msg_start, len(result))\n"
     ]
    }
   ],
   "source": [
    "# Definición del pipeline con KNeighborsClassifier\n",
    "pipe_bin_knn = Pipeline([\n",
    "    ('text_representation', CountVectorizer(binary=True, ngram_range=(1, 1))), \n",
    "    ('classifier', KNeighborsClassifier(n_neighbors=5))  # Ajusta 'n_neighbors' según lo necesario\n",
    "])\n",
    "\n",
    "# Configuración de StratifiedKFold para validación cruzada\n",
    "kf = StratifiedKFold(n_splits=5, shuffle=True, random_state=42)\n",
    "\n",
    "# Validación cruzada en el conjunto de entrenamiento\n",
    "cv_scores = cross_val_score(pipe_bin_knn, X_train, y_train, cv=kf, scoring='f1_weighted', n_jobs=-1)\n",
    "\n",
    "print(\"Scores de F1 por fold en entrenamiento:\", cv_scores)\n",
    "print(\"F1 promedio:\", cv_scores.mean())\n",
    "print(\"F1 desviación estándar:\", cv_scores.std())\n",
    "\n",
    "# Entrenamiento final en el conjunto de entrenamiento completo\n",
    "pipe_bin_knn.fit(X_train, y_train)\n",
    "\n",
    "# Evaluación en el conjunto de prueba\n",
    "y_pred = pipe_bin_knn.predict(X_test)\n",
    "print(\"Reporte en el conjunto de prueba:\")\n",
    "print(classification_report(y_test, y_pred))"
   ]
  },
  {
   "cell_type": "markdown",
   "metadata": {},
   "source": [
    "###  Frequency Vectorizer"
   ]
  },
  {
   "cell_type": "code",
   "execution_count": 16,
   "metadata": {},
   "outputs": [
    {
     "name": "stdout",
     "output_type": "stream",
     "text": [
      "Scores de F1 por fold en entrenamiento: [0.2283317  0.23480255 0.51130323 0.45444515 0.13257055]\n",
      "F1 promedio: 0.31229063603176443\n",
      "F1 desviación estándar: 0.14502877881481427\n",
      "Reporte en el conjunto de prueba:\n",
      "                      precision    recall  f1-score   support\n",
      "\n",
      "Ciencia y Tecnología       0.67      0.19      0.30        21\n",
      "             Cultura       1.00      0.17      0.29         6\n",
      "            Deportes       0.17      0.85      0.29        13\n",
      "            Economía       0.50      0.08      0.14        37\n",
      "\n",
      "            accuracy                           0.25        77\n",
      "           macro avg       0.58      0.32      0.25        77\n",
      "        weighted avg       0.53      0.25      0.22        77\n",
      "\n"
     ]
    }
   ],
   "source": [
    "# Definición del pipeline con KNeighborsClassifier\n",
    "pipe_frec_knn = Pipeline([\n",
    "    ('text_representation', CountVectorizer(ngram_range=(1, 1))), \n",
    "    ('classifier', KNeighborsClassifier(n_neighbors=5))  # Ajusta 'n_neighbors' según lo necesario\n",
    "])\n",
    "\n",
    "# Configuración de StratifiedKFold para validación cruzada\n",
    "kf = StratifiedKFold(n_splits=5, shuffle=True, random_state=42)\n",
    "\n",
    "# Validación cruzada en el conjunto de entrenamiento\n",
    "cv_scores = cross_val_score(pipe_frec_knn, X_train, y_train, cv=kf, scoring='f1_weighted', n_jobs=-1)\n",
    "\n",
    "print(\"Scores de F1 por fold en entrenamiento:\", cv_scores)\n",
    "print(\"F1 promedio:\", cv_scores.mean())\n",
    "print(\"F1 desviación estándar:\", cv_scores.std())\n",
    "\n",
    "# Entrenamiento final en el conjunto de entrenamiento completo\n",
    "pipe_frec_knn.fit(X_train, y_train)\n",
    "\n",
    "# Evaluación en el conjunto de prueba\n",
    "y_pred = pipe_frec_knn.predict(X_test)\n",
    "print(\"Reporte en el conjunto de prueba:\")\n",
    "print(classification_report(y_test, y_pred))"
   ]
  },
  {
   "cell_type": "markdown",
   "metadata": {},
   "source": [
    "## SVC"
   ]
  },
  {
   "cell_type": "markdown",
   "metadata": {},
   "source": [
    "### TF-IDF Vectorizer"
   ]
  },
  {
   "cell_type": "code",
   "execution_count": 17,
   "metadata": {},
   "outputs": [
    {
     "name": "stdout",
     "output_type": "stream",
     "text": [
      "Scores de F1 por fold en entrenamiento: [0.71036502 0.73500791 0.75180664 0.64238084 0.72177986]\n",
      "F1 promedio: 0.7122680555230477\n",
      "F1 desviación estándar: 0.03757318225506371\n",
      "Reporte en el conjunto de prueba:\n",
      "                      precision    recall  f1-score   support\n",
      "\n",
      "Ciencia y Tecnología       0.80      0.76      0.78        21\n",
      "             Cultura       0.75      0.50      0.60         6\n",
      "            Deportes       1.00      0.85      0.92        13\n",
      "            Economía       0.79      0.89      0.84        37\n",
      "\n",
      "            accuracy                           0.82        77\n",
      "           macro avg       0.83      0.75      0.78        77\n",
      "        weighted avg       0.82      0.82      0.82        77\n",
      "\n"
     ]
    }
   ],
   "source": [
    "# Definición del pipeline con SVC\n",
    "pipe_tf_idf_svc = Pipeline([\n",
    "    ('text_representation', TfidfVectorizer()), \n",
    "    ('classifier', SVC(class_weight='balanced', random_state=42))  # Añadido class_weight='balanced' para manejar desbalance de clases\n",
    "])\n",
    "\n",
    "# Configuración de StratifiedKFold para validación cruzada\n",
    "kf = StratifiedKFold(n_splits=5, shuffle=True, random_state=42)\n",
    "\n",
    "# Validación cruzada en el conjunto de entrenamiento\n",
    "cv_scores = cross_val_score(pipe_tf_idf_svc, X_train, y_train, cv=kf, scoring='f1_weighted', n_jobs=-1)\n",
    "\n",
    "print(\"Scores de F1 por fold en entrenamiento:\", cv_scores)\n",
    "print(\"F1 promedio:\", cv_scores.mean())\n",
    "print(\"F1 desviación estándar:\", cv_scores.std())\n",
    "\n",
    "# Entrenamiento final en el conjunto de entrenamiento completo\n",
    "pipe_tf_idf_svc.fit(X_train, y_train)\n",
    "\n",
    "# Evaluación en el conjunto de prueba\n",
    "y_pred = pipe_tf_idf_svc.predict(X_test)\n",
    "print(\"Reporte en el conjunto de prueba:\")\n",
    "print(classification_report(y_test, y_pred))"
   ]
  },
  {
   "cell_type": "markdown",
   "metadata": {},
   "source": [
    "### Binary Vectorizer"
   ]
  },
  {
   "cell_type": "code",
   "execution_count": 18,
   "metadata": {},
   "outputs": [
    {
     "name": "stdout",
     "output_type": "stream",
     "text": [
      "Scores de F1 por fold en entrenamiento: [0.52665991 0.65046706 0.63572354 0.67284173 0.59427949]\n",
      "F1 promedio: 0.615994346784247\n",
      "F1 desviación estándar: 0.051500313938496065\n",
      "Reporte en el conjunto de prueba:\n",
      "                      precision    recall  f1-score   support\n",
      "\n",
      "Ciencia y Tecnología       0.50      0.95      0.66        21\n",
      "             Cultura       1.00      0.33      0.50         6\n",
      "            Deportes       1.00      0.77      0.87        13\n",
      "            Economía       0.92      0.62      0.74        37\n",
      "\n",
      "            accuracy                           0.71        77\n",
      "           macro avg       0.85      0.67      0.69        77\n",
      "        weighted avg       0.83      0.71      0.72        77\n",
      "\n"
     ]
    }
   ],
   "source": [
    "# Definición del pipeline con SVC\n",
    "pipe_bin_svc = Pipeline([\n",
    "    ('text_representation', CountVectorizer(binary=True, ngram_range=(1, 1))), \n",
    "    ('classifier', SVC(class_weight='balanced', random_state=42))  # Añadido class_weight='balanced' para manejar desbalance de clases\n",
    "])\n",
    "\n",
    "# Configuración de StratifiedKFold para validación cruzada\n",
    "kf = StratifiedKFold(n_splits=5, shuffle=True, random_state=42)\n",
    "\n",
    "# Validación cruzada en el conjunto de entrenamiento\n",
    "cv_scores = cross_val_score(pipe_bin_svc, X_train, y_train, cv=kf, scoring='f1_weighted', n_jobs=-1)\n",
    "\n",
    "print(\"Scores de F1 por fold en entrenamiento:\", cv_scores)\n",
    "print(\"F1 promedio:\", cv_scores.mean())\n",
    "print(\"F1 desviación estándar:\", cv_scores.std())\n",
    "\n",
    "# Entrenamiento final en el conjunto de entrenamiento completo\n",
    "pipe_bin_svc.fit(X_train, y_train)\n",
    "\n",
    "# Evaluación en el conjunto de prueba\n",
    "y_pred = pipe_bin_svc.predict(X_test)\n",
    "print(\"Reporte en el conjunto de prueba:\")\n",
    "print(classification_report(y_test, y_pred))"
   ]
  },
  {
   "cell_type": "markdown",
   "metadata": {},
   "source": [
    "### Frequency Vectorizer"
   ]
  },
  {
   "cell_type": "code",
   "execution_count": 19,
   "metadata": {},
   "outputs": [
    {
     "name": "stdout",
     "output_type": "stream",
     "text": [
      "Scores de F1 por fold en entrenamiento: [0.62503838 0.57360158 0.66452419 0.68570064 0.49868952]\n",
      "F1 promedio: 0.6095108616556193\n",
      "F1 desviación estándar: 0.06729531625748757\n",
      "Reporte en el conjunto de prueba:\n",
      "                      precision    recall  f1-score   support\n",
      "\n",
      "Ciencia y Tecnología       0.53      0.95      0.68        21\n",
      "             Cultura       0.43      0.50      0.46         6\n",
      "            Deportes       0.83      0.77      0.80        13\n",
      "            Economía       1.00      0.54      0.70        37\n",
      "\n",
      "            accuracy                           0.69        77\n",
      "           macro avg       0.70      0.69      0.66        77\n",
      "        weighted avg       0.80      0.69      0.69        77\n",
      "\n"
     ]
    }
   ],
   "source": [
    "# Definición del pipeline con SVC\n",
    "pipe_frec_svc = Pipeline([\n",
    "    ('text_representation', CountVectorizer(ngram_range=(1, 1))), \n",
    "    ('classifier', SVC(class_weight='balanced', random_state=42))  # Añadido class_weight='balanced' para manejar desbalance de clases\n",
    "])\n",
    "\n",
    "# Configuración de StratifiedKFold para validación cruzada\n",
    "kf = StratifiedKFold(n_splits=5, shuffle=True, random_state=42)\n",
    "\n",
    "# Validación cruzada en el conjunto de entrenamiento\n",
    "cv_scores = cross_val_score(pipe_frec_svc, X_train, y_train, cv=kf, scoring='f1_weighted', n_jobs=-1)\n",
    "\n",
    "print(\"Scores de F1 por fold en entrenamiento:\", cv_scores)\n",
    "print(\"F1 promedio:\", cv_scores.mean())\n",
    "print(\"F1 desviación estándar:\", cv_scores.std())\n",
    "\n",
    "# Entrenamiento final en el conjunto de entrenamiento completo\n",
    "pipe_frec_svc.fit(X_train, y_train)\n",
    "\n",
    "# Evaluación en el conjunto de prueba\n",
    "y_pred = pipe_frec_svc.predict(X_test)\n",
    "print(\"Reporte en el conjunto de prueba:\")\n",
    "print(classification_report(y_test, y_pred))"
   ]
  }
 ],
 "metadata": {
  "kernelspec": {
   "display_name": "base",
   "language": "python",
   "name": "python3"
  },
  "language_info": {
   "codemirror_mode": {
    "name": "ipython",
    "version": 3
   },
   "file_extension": ".py",
   "mimetype": "text/x-python",
   "name": "python",
   "nbconvert_exporter": "python",
   "pygments_lexer": "ipython3",
   "version": "3.11.5"
  }
 },
 "nbformat": 4,
 "nbformat_minor": 2
}
